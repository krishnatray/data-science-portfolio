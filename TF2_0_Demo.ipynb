{
  "nbformat": 4,
  "nbformat_minor": 0,
  "metadata": {
    "colab": {
      "name": "TF2.0 Demo.ipynb",
      "version": "0.3.2",
      "provenance": [],
      "include_colab_link": true
    },
    "kernelspec": {
      "name": "python3",
      "display_name": "Python 3"
    }
  },
  "cells": [
    {
      "cell_type": "markdown",
      "metadata": {
        "id": "view-in-github",
        "colab_type": "text"
      },
      "source": [
        "<a href=\"https://colab.research.google.com/github/krishnatray/data-science-portfolio/blob/master/TF2_0_Demo.ipynb\" target=\"_parent\"><img src=\"https://colab.research.google.com/assets/colab-badge.svg\" alt=\"Open In Colab\"/></a>"
      ]
    },
    {
      "cell_type": "code",
      "metadata": {
        "id": "WxbuABLT4BcD",
        "colab_type": "code",
        "colab": {}
      },
      "source": [
        "import numpy as np\n",
        "import matplotlib.pyplot as plt"
      ],
      "execution_count": 0,
      "outputs": []
    },
    {
      "cell_type": "code",
      "metadata": {
        "id": "Ag20USa3ImDp",
        "colab_type": "code",
        "colab": {}
      },
      "source": [
        "x = np.linspace(0, 10*np.pi, 1000)\n",
        "y = np.sin(x)"
      ],
      "execution_count": 0,
      "outputs": []
    },
    {
      "cell_type": "code",
      "metadata": {
        "id": "GjmssZiLJCge",
        "colab_type": "code",
        "outputId": "ee72fc70-db88-4455-f178-7679b65a4817",
        "colab": {
          "base_uri": "https://localhost:8080/",
          "height": 286
        }
      },
      "source": [
        "plt.plot(x,y)"
      ],
      "execution_count": 0,
      "outputs": [
        {
          "output_type": "execute_result",
          "data": {
            "text/plain": [
              "[<matplotlib.lines.Line2D at 0x7f4aa6de3208>]"
            ]
          },
          "metadata": {
            "tags": []
          },
          "execution_count": 3
        },
        {
          "output_type": "display_data",
          "data": {
            "image/png": "[encoded data removed]",
            "text/plain": [
              "<Figure size 432x288 with 1 Axes>"
            ]
          },
          "metadata": {
            "tags": []
          }
        }
      ]
    },
    {
      "cell_type": "markdown",
      "metadata": {
        "id": "LpFcO-ycG6su",
        "colab_type": "text"
      },
      "source": [
        "# This is my title\n",
        "\n",
        "Here is some regular text.\n",
        "\n",
        "\n",
        "\n",
        "```\n",
        "import numpy as np\n",
        "```\n",
        "\n"
      ]
    },
    {
      "cell_type": "code",
      "metadata": {
        "id": "B9ZnLMvRJ-J-",
        "colab_type": "code",
        "outputId": "71a33c36-6673-4740-f95c-1523e7a3d70a",
        "colab": {
          "base_uri": "https://localhost:8080/",
          "height": 255
        }
      },
      "source": [
        "import sklearn\n",
        "print(sklearn.__version__)\n",
        "import numpy\n",
        "print(numpy.__version__)\n",
        "import scipy\n",
        "print(scipy.__version__)\n",
        "import matplotlib\n",
        "print(matplotlib.__version__)\n",
        "import pandas\n",
        "print(pandas.__version__)\n",
        "import torch\n",
        "print(torch.__version__)\n",
        "import seaborn\n",
        "print(seaborn.__version__)\n",
        "import wordcloud\n",
        "print(wordcloud.__version__)\n",
        "import bs4\n",
        "print(bs4.__version__)\n",
        "import requests\n",
        "print(requests.__version__)\n",
        "import theano\n",
        "print(theano.__version__)\n",
        "import networkx\n",
        "print(networkx.__version__)\n",
        "import cv2\n",
        "print(cv2.__version__)\n",
        "import gym\n",
        "print(gym.__version__)"
      ],
      "execution_count": 0,
      "outputs": [
        {
          "output_type": "stream",
          "text": [
            "0.21.2\n",
            "1.16.4\n",
            "1.3.0\n",
            "3.0.3\n",
            "0.24.2\n",
            "1.1.0\n",
            "0.9.0\n",
            "1.5.0\n",
            "4.6.3\n",
            "2.21.0\n",
            "1.0.4\n",
            "2.3\n",
            "3.4.3\n",
            "0.10.11\n"
          ],
          "name": "stdout"
        }
      ]
    },
    {
      "cell_type": "code",
      "metadata": {
        "id": "mtuj76Q0b6pC",
        "colab_type": "code",
        "outputId": "851146c6-d970-4815-b6c7-7711b9ee95e0",
        "colab": {
          "base_uri": "https://localhost:8080/",
          "height": 34
        }
      },
      "source": [
        "!ls"
      ],
      "execution_count": 0,
      "outputs": [
        {
          "output_type": "stream",
          "text": [
            "sample_data\n"
          ],
          "name": "stdout"
        }
      ]
    },
    {
      "cell_type": "code",
      "metadata": {
        "id": "3sAJhjynb9Mf",
        "colab_type": "code",
        "outputId": "b6759862-d885-4829-9ded-fdeee2cdd3aa",
        "colab": {
          "base_uri": "https://localhost:8080/",
          "height": 68
        }
      },
      "source": [
        "!ls sample_data"
      ],
      "execution_count": 0,
      "outputs": [
        {
          "output_type": "stream",
          "text": [
            "anscombe.json\t\t      mnist_test.csv\n",
            "california_housing_test.csv   mnist_train_small.csv\n",
            "california_housing_train.csv  README.md\n"
          ],
          "name": "stdout"
        }
      ]
    },
    {
      "cell_type": "code",
      "metadata": {
        "id": "izGOV3s3cJI-",
        "colab_type": "code",
        "outputId": "4bb1e822-9081-4aef-9de5-617a8b0693db",
        "colab": {
          "base_uri": "https://localhost:8080/",
          "height": 765
        }
      },
      "source": [
        "import json\n",
        "json.loads(open('sample_data/anscombe.json').read())"
      ],
      "execution_count": 0,
      "outputs": [
        {
          "output_type": "execute_result",
          "data": {
            "text/plain": [
              "[{'Series': 'I', 'X': 10.0, 'Y': 8.04},\n",
              " {'Series': 'I', 'X': 8.0, 'Y': 6.95},\n",
              " {'Series': 'I', 'X': 13.0, 'Y': 7.58},\n",
              " {'Series': 'I', 'X': 9.0, 'Y': 8.81},\n",
              " {'Series': 'I', 'X': 11.0, 'Y': 8.33},\n",
              " {'Series': 'I', 'X': 14.0, 'Y': 9.96},\n",
              " {'Series': 'I', 'X': 6.0, 'Y': 7.24},\n",
              " {'Series': 'I', 'X': 4.0, 'Y': 4.26},\n",
              " {'Series': 'I', 'X': 12.0, 'Y': 10.84},\n",
              " {'Series': 'I', 'X': 7.0, 'Y': 4.81},\n",
              " {'Series': 'I', 'X': 5.0, 'Y': 5.68},\n",
              " {'Series': 'II', 'X': 10.0, 'Y': 9.14},\n",
              " {'Series': 'II', 'X': 8.0, 'Y': 8.14},\n",
              " {'Series': 'II', 'X': 13.0, 'Y': 8.74},\n",
              " {'Series': 'II', 'X': 9.0, 'Y': 8.77},\n",
              " {'Series': 'II', 'X': 11.0, 'Y': 9.26},\n",
              " {'Series': 'II', 'X': 14.0, 'Y': 8.1},\n",
              " {'Series': 'II', 'X': 6.0, 'Y': 6.13},\n",
              " {'Series': 'II', 'X': 4.0, 'Y': 3.1},\n",
              " {'Series': 'II', 'X': 12.0, 'Y': 9.13},\n",
              " {'Series': 'II', 'X': 7.0, 'Y': 7.26},\n",
              " {'Series': 'II', 'X': 5.0, 'Y': 4.74},\n",
              " {'Series': 'III', 'X': 10.0, 'Y': 7.46},\n",
              " {'Series': 'III', 'X': 8.0, 'Y': 6.77},\n",
              " {'Series': 'III', 'X': 13.0, 'Y': 12.74},\n",
              " {'Series': 'III', 'X': 9.0, 'Y': 7.11},\n",
              " {'Series': 'III', 'X': 11.0, 'Y': 7.81},\n",
              " {'Series': 'III', 'X': 14.0, 'Y': 8.84},\n",
              " {'Series': 'III', 'X': 6.0, 'Y': 6.08},\n",
              " {'Series': 'III', 'X': 4.0, 'Y': 5.39},\n",
              " {'Series': 'III', 'X': 12.0, 'Y': 8.15},\n",
              " {'Series': 'III', 'X': 7.0, 'Y': 6.42},\n",
              " {'Series': 'III', 'X': 5.0, 'Y': 5.73},\n",
              " {'Series': 'IV', 'X': 8.0, 'Y': 6.58},\n",
              " {'Series': 'IV', 'X': 8.0, 'Y': 5.76},\n",
              " {'Series': 'IV', 'X': 8.0, 'Y': 7.71},\n",
              " {'Series': 'IV', 'X': 8.0, 'Y': 8.84},\n",
              " {'Series': 'IV', 'X': 8.0, 'Y': 8.47},\n",
              " {'Series': 'IV', 'X': 8.0, 'Y': 7.04},\n",
              " {'Series': 'IV', 'X': 8.0, 'Y': 5.25},\n",
              " {'Series': 'IV', 'X': 19.0, 'Y': 12.5},\n",
              " {'Series': 'IV', 'X': 8.0, 'Y': 5.56},\n",
              " {'Series': 'IV', 'X': 8.0, 'Y': 7.91},\n",
              " {'Series': 'IV', 'X': 8.0, 'Y': 6.89}]"
            ]
          },
          "metadata": {
            "tags": []
          },
          "execution_count": 9
        }
      ]
    },
    {
      "cell_type": "code",
      "metadata": {
        "id": "anDA80FI3aFv",
        "colab_type": "code",
        "colab": {}
      },
      "source": [
        "a = 5"
      ],
      "execution_count": 0,
      "outputs": []
    },
    {
      "cell_type": "code",
      "metadata": {
        "id": "69QKJdGL3cEM",
        "colab_type": "code",
        "outputId": "fca0c6f9-4510-4e56-a6c7-1ce5f675009f",
        "colab": {
          "base_uri": "https://localhost:8080/",
          "height": 164
        }
      },
      "source": [
        "print(a)"
      ],
      "execution_count": 0,
      "outputs": [
        {
          "output_type": "error",
          "ename": "NameError",
          "evalue": "ignored",
          "traceback": [
            "\u001b[0;31m---------------------------------------------------------------------------\u001b[0m",
            "\u001b[0;31mNameError\u001b[0m                                 Traceback (most recent call last)",
            "\u001b[0;32m<ipython-input-1-bca0e2660b9f>\u001b[0m in \u001b[0;36m<module>\u001b[0;34m()\u001b[0m\n\u001b[0;32m----> 1\u001b[0;31m \u001b[0mprint\u001b[0m\u001b[0;34m(\u001b[0m\u001b[0ma\u001b[0m\u001b[0;34m)\u001b[0m\u001b[0;34m\u001b[0m\u001b[0;34m\u001b[0m\u001b[0m\n\u001b[0m",
            "\u001b[0;31mNameError\u001b[0m: name 'a' is not defined"
          ]
        }
      ]
    }
  ]
}