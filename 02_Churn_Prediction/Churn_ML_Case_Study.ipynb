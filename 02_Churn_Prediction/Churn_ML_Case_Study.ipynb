{
 "cells": [
  {
   "cell_type": "markdown",
   "metadata": {},
   "source": [
    "# Case study: churn\n",
    "\n",
    "We apply what we have learned so far in class to model churn."
   ]
  },
  {
   "cell_type": "markdown",
   "metadata": {},
   "source": [
    "## Business question\n",
    "\n",
    "You should always start by defining a clear business question.  Understanding churn is not a good question.  What are the business objectives?  What business problem do you need to solve?  We want to retain customers (who are worth retaining).  We want to identify them before we leave because it is cheaper to retain than reacquire them.\n",
    "\n",
    "Once we dig into the data, we will see that we only have data for customers who signed up in January, so we can only answer questions about attrition at different times (one month, two months, ..., six months) later.  We should think about what time scale is appropriate."
   ]
  },
  {
   "cell_type": "markdown",
   "metadata": {},
   "source": [
    "# EDA\n",
    "\n",
    "First step: load, clean, and explore data to see if anything nasty is lurking out there in the wilds."
   ]
  },
  {
   "cell_type": "code",
   "execution_count": 1,
   "metadata": {
    "collapsed": true
   },
   "outputs": [],
   "source": [
    "%matplotlib inline\n",
    "import datetime"
   ]
  },
  {
   "cell_type": "code",
   "execution_count": 2,
   "metadata": {
    "collapsed": true
   },
   "outputs": [],
   "source": [
    "start_date = pd.to_datetime('2014-07-01', format='%Y-%m-%d')"
   ]
  },
  {
   "cell_type": "markdown",
   "metadata": {},
   "source": [
    "Subtract 30 days from the scrape time to get the start time for active users.  Note: we must use a `datetime.timedelta` object or we will end up subtracting the wrong units (microseconds)."
   ]
  },
  {
   "cell_type": "code",
   "execution_count": 3,
   "metadata": {
    "collapsed": false
   },
   "outputs": [
    {
     "data": {
      "text/plain": [
       "Timestamp('2014-06-01 00:00:00')"
      ]
     },
     "execution_count": 3,
     "metadata": {},
     "output_type": "execute_result"
    }
   ],
   "source": [
    "start_date = start_date - datetime.timedelta(30,0,0)\n",
    "start_date"
   ]
  },
  {
   "cell_type": "markdown",
   "metadata": {},
   "source": [
    "Load data and check that it loaded correctly."
   ]
  },
  {
   "cell_type": "code",
   "execution_count": 4,
   "metadata": {
    "collapsed": false
   },
   "outputs": [
    {
     "data": {
      "text/html": [
       "<div style=\"max-height:1000px;max-width:1500px;overflow:auto;\">\n",
       "<table border=\"1\" class=\"dataframe\">\n",
       "  <thead>\n",
       "    <tr style=\"text-align: right;\">\n",
       "      <th></th>\n",
       "      <th>avg_dist</th>\n",
       "      <th>avg_rating_by_driver</th>\n",
       "      <th>avg_rating_of_driver</th>\n",
       "      <th>avg_surge</th>\n",
       "      <th>city</th>\n",
       "      <th>last_trip_date</th>\n",
       "      <th>phone</th>\n",
       "      <th>signup_date</th>\n",
       "      <th>surge_pct</th>\n",
       "      <th>trips_in_first_30_days</th>\n",
       "      <th>luxury_car_user</th>\n",
       "      <th>weekday_pct</th>\n",
       "    </tr>\n",
       "  </thead>\n",
       "  <tbody>\n",
       "    <tr>\n",
       "      <th>0</th>\n",
       "      <td>3.67</td>\n",
       "      <td>5.0</td>\n",
       "      <td>4.7</td>\n",
       "      <td>1.10</td>\n",
       "      <td>King's Landing</td>\n",
       "      <td>2014-06-17</td>\n",
       "      <td>iPhone</td>\n",
       "      <td>2014-01-25</td>\n",
       "      <td>15.4</td>\n",
       "      <td>4</td>\n",
       "      <td>True</td>\n",
       "      <td>46.2</td>\n",
       "    </tr>\n",
       "    <tr>\n",
       "      <th>1</th>\n",
       "      <td>8.26</td>\n",
       "      <td>5.0</td>\n",
       "      <td>5.0</td>\n",
       "      <td>1.00</td>\n",
       "      <td>Astapor</td>\n",
       "      <td>2014-05-05</td>\n",
       "      <td>Android</td>\n",
       "      <td>2014-01-29</td>\n",
       "      <td>0.0</td>\n",
       "      <td>0</td>\n",
       "      <td>False</td>\n",
       "      <td>50.0</td>\n",
       "    </tr>\n",
       "    <tr>\n",
       "      <th>2</th>\n",
       "      <td>0.77</td>\n",
       "      <td>5.0</td>\n",
       "      <td>4.3</td>\n",
       "      <td>1.00</td>\n",
       "      <td>Astapor</td>\n",
       "      <td>2014-01-07</td>\n",
       "      <td>iPhone</td>\n",
       "      <td>2014-01-06</td>\n",
       "      <td>0.0</td>\n",
       "      <td>3</td>\n",
       "      <td>False</td>\n",
       "      <td>100.0</td>\n",
       "    </tr>\n",
       "    <tr>\n",
       "      <th>3</th>\n",
       "      <td>2.36</td>\n",
       "      <td>4.9</td>\n",
       "      <td>4.6</td>\n",
       "      <td>1.14</td>\n",
       "      <td>King's Landing</td>\n",
       "      <td>2014-06-29</td>\n",
       "      <td>iPhone</td>\n",
       "      <td>2014-01-10</td>\n",
       "      <td>20.0</td>\n",
       "      <td>9</td>\n",
       "      <td>True</td>\n",
       "      <td>80.0</td>\n",
       "    </tr>\n",
       "    <tr>\n",
       "      <th>4</th>\n",
       "      <td>3.13</td>\n",
       "      <td>4.9</td>\n",
       "      <td>4.4</td>\n",
       "      <td>1.19</td>\n",
       "      <td>Winterfell</td>\n",
       "      <td>2014-03-15</td>\n",
       "      <td>Android</td>\n",
       "      <td>2014-01-27</td>\n",
       "      <td>11.8</td>\n",
       "      <td>14</td>\n",
       "      <td>False</td>\n",
       "      <td>82.4</td>\n",
       "    </tr>\n",
       "  </tbody>\n",
       "</table>\n",
       "</div>"
      ],
      "text/plain": [
       "   avg_dist  avg_rating_by_driver  avg_rating_of_driver  avg_surge  \\\n",
       "0      3.67                   5.0                   4.7       1.10   \n",
       "1      8.26                   5.0                   5.0       1.00   \n",
       "2      0.77                   5.0                   4.3       1.00   \n",
       "3      2.36                   4.9                   4.6       1.14   \n",
       "4      3.13                   4.9                   4.4       1.19   \n",
       "\n",
       "             city last_trip_date    phone signup_date  surge_pct  \\\n",
       "0  King's Landing     2014-06-17   iPhone  2014-01-25       15.4   \n",
       "1         Astapor     2014-05-05  Android  2014-01-29        0.0   \n",
       "2         Astapor     2014-01-07   iPhone  2014-01-06        0.0   \n",
       "3  King's Landing     2014-06-29   iPhone  2014-01-10       20.0   \n",
       "4      Winterfell     2014-03-15  Android  2014-01-27       11.8   \n",
       "\n",
       "   trips_in_first_30_days luxury_car_user  weekday_pct  \n",
       "0                       4            True         46.2  \n",
       "1                       0           False         50.0  \n",
       "2                       3           False        100.0  \n",
       "3                       9            True         80.0  \n",
       "4                      14           False         82.4  "
      ]
     },
     "execution_count": 4,
     "metadata": {},
     "output_type": "execute_result"
    }
   ],
   "source": [
    "df = pd.read_csv('data/churn.csv')\n",
    "df.head()"
   ]
  },
  {
   "cell_type": "markdown",
   "metadata": {},
   "source": [
    "### Data hygiene\n",
    "\n",
    "Fix dates..."
   ]
  },
  {
   "cell_type": "code",
   "execution_count": 5,
   "metadata": {
    "collapsed": false
   },
   "outputs": [
    {
     "data": {
      "text/html": [
       "<div style=\"max-height:1000px;max-width:1500px;overflow:auto;\">\n",
       "<table border=\"1\" class=\"dataframe\">\n",
       "  <thead>\n",
       "    <tr style=\"text-align: right;\">\n",
       "      <th></th>\n",
       "      <th>avg_dist</th>\n",
       "      <th>avg_rating_by_driver</th>\n",
       "      <th>avg_rating_of_driver</th>\n",
       "      <th>avg_surge</th>\n",
       "      <th>city</th>\n",
       "      <th>last_trip_date</th>\n",
       "      <th>phone</th>\n",
       "      <th>signup_date</th>\n",
       "      <th>surge_pct</th>\n",
       "      <th>trips_in_first_30_days</th>\n",
       "      <th>luxury_car_user</th>\n",
       "      <th>weekday_pct</th>\n",
       "    </tr>\n",
       "  </thead>\n",
       "  <tbody>\n",
       "    <tr>\n",
       "      <th>0</th>\n",
       "      <td>3.67</td>\n",
       "      <td>5.0</td>\n",
       "      <td>4.7</td>\n",
       "      <td>1.10</td>\n",
       "      <td>King's Landing</td>\n",
       "      <td>2014-06-17</td>\n",
       "      <td>iPhone</td>\n",
       "      <td>2014-01-25</td>\n",
       "      <td>15.4</td>\n",
       "      <td>4</td>\n",
       "      <td>True</td>\n",
       "      <td>46.2</td>\n",
       "    </tr>\n",
       "    <tr>\n",
       "      <th>1</th>\n",
       "      <td>8.26</td>\n",
       "      <td>5.0</td>\n",
       "      <td>5.0</td>\n",
       "      <td>1.00</td>\n",
       "      <td>Astapor</td>\n",
       "      <td>2014-05-05</td>\n",
       "      <td>Android</td>\n",
       "      <td>2014-01-29</td>\n",
       "      <td>0.0</td>\n",
       "      <td>0</td>\n",
       "      <td>False</td>\n",
       "      <td>50.0</td>\n",
       "    </tr>\n",
       "    <tr>\n",
       "      <th>2</th>\n",
       "      <td>0.77</td>\n",
       "      <td>5.0</td>\n",
       "      <td>4.3</td>\n",
       "      <td>1.00</td>\n",
       "      <td>Astapor</td>\n",
       "      <td>2014-01-07</td>\n",
       "      <td>iPhone</td>\n",
       "      <td>2014-01-06</td>\n",
       "      <td>0.0</td>\n",
       "      <td>3</td>\n",
       "      <td>False</td>\n",
       "      <td>100.0</td>\n",
       "    </tr>\n",
       "    <tr>\n",
       "      <th>3</th>\n",
       "      <td>2.36</td>\n",
       "      <td>4.9</td>\n",
       "      <td>4.6</td>\n",
       "      <td>1.14</td>\n",
       "      <td>King's Landing</td>\n",
       "      <td>2014-06-29</td>\n",
       "      <td>iPhone</td>\n",
       "      <td>2014-01-10</td>\n",
       "      <td>20.0</td>\n",
       "      <td>9</td>\n",
       "      <td>True</td>\n",
       "      <td>80.0</td>\n",
       "    </tr>\n",
       "    <tr>\n",
       "      <th>4</th>\n",
       "      <td>3.13</td>\n",
       "      <td>4.9</td>\n",
       "      <td>4.4</td>\n",
       "      <td>1.19</td>\n",
       "      <td>Winterfell</td>\n",
       "      <td>2014-03-15</td>\n",
       "      <td>Android</td>\n",
       "      <td>2014-01-27</td>\n",
       "      <td>11.8</td>\n",
       "      <td>14</td>\n",
       "      <td>False</td>\n",
       "      <td>82.4</td>\n",
       "    </tr>\n",
       "  </tbody>\n",
       "</table>\n",
       "</div>"
      ],
      "text/plain": [
       "   avg_dist  avg_rating_by_driver  avg_rating_of_driver  avg_surge  \\\n",
       "0      3.67                   5.0                   4.7       1.10   \n",
       "1      8.26                   5.0                   5.0       1.00   \n",
       "2      0.77                   5.0                   4.3       1.00   \n",
       "3      2.36                   4.9                   4.6       1.14   \n",
       "4      3.13                   4.9                   4.4       1.19   \n",
       "\n",
       "             city last_trip_date    phone signup_date  surge_pct  \\\n",
       "0  King's Landing     2014-06-17   iPhone  2014-01-25       15.4   \n",
       "1         Astapor     2014-05-05  Android  2014-01-29        0.0   \n",
       "2         Astapor     2014-01-07   iPhone  2014-01-06        0.0   \n",
       "3  King's Landing     2014-06-29   iPhone  2014-01-10       20.0   \n",
       "4      Winterfell     2014-03-15  Android  2014-01-27       11.8   \n",
       "\n",
       "   trips_in_first_30_days luxury_car_user  weekday_pct  \n",
       "0                       4            True         46.2  \n",
       "1                       0           False         50.0  \n",
       "2                       3           False        100.0  \n",
       "3                       9            True         80.0  \n",
       "4                      14           False         82.4  "
      ]
     },
     "execution_count": 5,
     "metadata": {},
     "output_type": "execute_result"
    }
   ],
   "source": [
    "df.last_trip_date = pd.to_datetime(df.last_trip_date, '%Y-%m-%d')\n",
    "df.signup_date = pd.to_datetime(df.signup_date, '%Y-%m-%d')\n",
    "df.head()"
   ]
  },
  {
   "cell_type": "markdown",
   "metadata": {},
   "source": [
    "Check all features are the correct types."
   ]
  },
  {
   "cell_type": "code",
   "execution_count": 6,
   "metadata": {
    "collapsed": false
   },
   "outputs": [
    {
     "name": "stdout",
     "output_type": "stream",
     "text": [
      "<class 'pandas.core.frame.DataFrame'>\n",
      "Int64Index: 50000 entries, 0 to 49999\n",
      "Data columns (total 12 columns):\n",
      "avg_dist                  50000 non-null float64\n",
      "avg_rating_by_driver      49799 non-null float64\n",
      "avg_rating_of_driver      41878 non-null float64\n",
      "avg_surge                 50000 non-null float64\n",
      "city                      50000 non-null object\n",
      "last_trip_date            50000 non-null datetime64[ns]\n",
      "phone                     49604 non-null object\n",
      "signup_date               50000 non-null datetime64[ns]\n",
      "surge_pct                 50000 non-null float64\n",
      "trips_in_first_30_days    50000 non-null int64\n",
      "luxury_car_user           50000 non-null bool\n",
      "weekday_pct               50000 non-null float64\n",
      "dtypes: bool(1), datetime64[ns](2), float64(6), int64(1), object(2)\n",
      "memory usage: 4.6+ MB\n"
     ]
    }
   ],
   "source": [
    "df.info()"
   ]
  },
  {
   "cell_type": "code",
   "execution_count": 7,
   "metadata": {
    "collapsed": false
   },
   "outputs": [
    {
     "data": {
      "text/plain": [
       "Winterfell        23336\n",
       "Astapor           16534\n",
       "King's Landing    10130\n",
       "dtype: int64"
      ]
     },
     "execution_count": 7,
     "metadata": {},
     "output_type": "execute_result"
    }
   ],
   "source": [
    "df.city.value_counts()"
   ]
  },
  {
   "cell_type": "code",
   "execution_count": 8,
   "metadata": {
    "collapsed": false
   },
   "outputs": [
    {
     "data": {
      "text/plain": [
       "iPhone     34582\n",
       "Android    15022\n",
       "dtype: int64"
      ]
     },
     "execution_count": 8,
     "metadata": {},
     "output_type": "execute_result"
    }
   ],
   "source": [
    "df.phone.value_counts()"
   ]
  },
  {
   "cell_type": "markdown",
   "metadata": {},
   "source": [
    "`phone` is already categorical, so we can add another factor level to handle missing values.  Be careful not to over clean data, because you can use useful predictive information.  Note:  we added this step based on analysis of missing values below."
   ]
  },
  {
   "cell_type": "code",
   "execution_count": 9,
   "metadata": {
    "collapsed": false
   },
   "outputs": [],
   "source": [
    "df.phone = df.phone.fillna('no_phone')"
   ]
  },
  {
   "cell_type": "markdown",
   "metadata": {},
   "source": [
    "Convert columns with categorical data into categorical type"
   ]
  },
  {
   "cell_type": "code",
   "execution_count": 10,
   "metadata": {
    "collapsed": true
   },
   "outputs": [],
   "source": [
    "df.city = df.city.astype(\"category\")\n",
    "df.phone = df.phone.astype('category')"
   ]
  },
  {
   "cell_type": "markdown",
   "metadata": {},
   "source": [
    "Check conversion"
   ]
  },
  {
   "cell_type": "code",
   "execution_count": 11,
   "metadata": {
    "collapsed": false
   },
   "outputs": [
    {
     "data": {
      "text/html": [
       "<div style=\"max-height:1000px;max-width:1500px;overflow:auto;\">\n",
       "<table border=\"1\" class=\"dataframe\">\n",
       "  <thead>\n",
       "    <tr style=\"text-align: right;\">\n",
       "      <th>city</th>\n",
       "      <th>Astapor</th>\n",
       "      <th>King's Landing</th>\n",
       "      <th>Winterfell</th>\n",
       "    </tr>\n",
       "    <tr>\n",
       "      <th>phone</th>\n",
       "      <th></th>\n",
       "      <th></th>\n",
       "      <th></th>\n",
       "    </tr>\n",
       "  </thead>\n",
       "  <tbody>\n",
       "    <tr>\n",
       "      <th>Android</th>\n",
       "      <td>5244</td>\n",
       "      <td>2498</td>\n",
       "      <td>7280</td>\n",
       "    </tr>\n",
       "    <tr>\n",
       "      <th>iPhone</th>\n",
       "      <td>11169</td>\n",
       "      <td>7568</td>\n",
       "      <td>15845</td>\n",
       "    </tr>\n",
       "    <tr>\n",
       "      <th>no_phone</th>\n",
       "      <td>121</td>\n",
       "      <td>64</td>\n",
       "      <td>211</td>\n",
       "    </tr>\n",
       "  </tbody>\n",
       "</table>\n",
       "</div>"
      ],
      "text/plain": [
       "city      Astapor  King's Landing  Winterfell\n",
       "phone                                        \n",
       "Android      5244            2498        7280\n",
       "iPhone      11169            7568       15845\n",
       "no_phone      121              64         211"
      ]
     },
     "execution_count": 11,
     "metadata": {},
     "output_type": "execute_result"
    }
   ],
   "source": [
    "pd.crosstab(df.phone, df.city)"
   ]
  },
  {
   "cell_type": "markdown",
   "metadata": {},
   "source": [
    "### Create a label/target/outcome\n",
    "\n",
    "Add churn indicator.  Considered to churn if have not taken a trip in the last 30 days.  In practice, you will often have to figure out how to generate a reasonable label to train your dataset.  Is the cutoff of 30 days reasonable?  You may want to test this...  Sometimes, the correct label is even less obvious; your ability to make a sensible (and defensible) decision in these cases is important.\n",
    "\n",
    "In addition, do you agree with how the data was aggregated?  It would be helpful to look at lagged usage for the previous week, the week before that, and so on.  Also, checking changes in average rating over time could be helpful."
   ]
  },
  {
   "cell_type": "code",
   "execution_count": 12,
   "metadata": {
    "collapsed": true
   },
   "outputs": [],
   "source": [
    "df['is_active'] = (start_date < df.last_trip_date)"
   ]
  },
  {
   "cell_type": "code",
   "execution_count": 13,
   "metadata": {
    "collapsed": false
   },
   "outputs": [
    {
     "data": {
      "text/plain": [
       "False    31690\n",
       "True     18310\n",
       "dtype: int64"
      ]
     },
     "execution_count": 13,
     "metadata": {},
     "output_type": "execute_result"
    }
   ],
   "source": [
    "df.is_active.value_counts(dropna=False)"
   ]
  },
  {
   "cell_type": "raw",
   "metadata": {},
   "source": [
    "Create a churned indicator to use as a training label.  However, it may make more sense to use `is_active` because we can more easily focus on what factors lead to retention."
   ]
  },
  {
   "cell_type": "code",
   "execution_count": 14,
   "metadata": {
    "collapsed": true
   },
   "outputs": [],
   "source": [
    "df['b_churned'] = -df.is_active"
   ]
  },
  {
   "cell_type": "code",
   "execution_count": 15,
   "metadata": {
    "collapsed": false
   },
   "outputs": [
    {
     "data": {
      "text/plain": [
       "True     31690\n",
       "False    18310\n",
       "dtype: int64"
      ]
     },
     "execution_count": 15,
     "metadata": {},
     "output_type": "execute_result"
    }
   ],
   "source": [
    "df.b_churned.value_counts(dropna=False)"
   ]
  },
  {
   "cell_type": "markdown",
   "metadata": {},
   "source": [
    "Check basic stats"
   ]
  },
  {
   "cell_type": "code",
   "execution_count": 16,
   "metadata": {
    "collapsed": false
   },
   "outputs": [
    {
     "data": {
      "text/html": [
       "<div style=\"max-height:1000px;max-width:1500px;overflow:auto;\">\n",
       "<table border=\"1\" class=\"dataframe\">\n",
       "  <thead>\n",
       "    <tr style=\"text-align: right;\">\n",
       "      <th></th>\n",
       "      <th>count</th>\n",
       "      <th>mean</th>\n",
       "      <th>std</th>\n",
       "      <th>min</th>\n",
       "      <th>25%</th>\n",
       "      <th>50%</th>\n",
       "      <th>75%</th>\n",
       "      <th>max</th>\n",
       "    </tr>\n",
       "  </thead>\n",
       "  <tbody>\n",
       "    <tr>\n",
       "      <th>avg_dist</th>\n",
       "      <td>50000</td>\n",
       "      <td>5.796827</td>\n",
       "      <td>5.707357</td>\n",
       "      <td>0</td>\n",
       "      <td>2.42</td>\n",
       "      <td>3.88</td>\n",
       "      <td>6.94</td>\n",
       "      <td>160.96</td>\n",
       "    </tr>\n",
       "    <tr>\n",
       "      <th>avg_rating_by_driver</th>\n",
       "      <td>49799</td>\n",
       "      <td>4.778158</td>\n",
       "      <td>0.4466518</td>\n",
       "      <td>1</td>\n",
       "      <td>4.7</td>\n",
       "      <td>5</td>\n",
       "      <td>5</td>\n",
       "      <td>5</td>\n",
       "    </tr>\n",
       "    <tr>\n",
       "      <th>avg_rating_of_driver</th>\n",
       "      <td>41878</td>\n",
       "      <td>4.601559</td>\n",
       "      <td>0.6173385</td>\n",
       "      <td>1</td>\n",
       "      <td>4.3</td>\n",
       "      <td>4.9</td>\n",
       "      <td>5</td>\n",
       "      <td>5</td>\n",
       "    </tr>\n",
       "    <tr>\n",
       "      <th>avg_surge</th>\n",
       "      <td>50000</td>\n",
       "      <td>1.074764</td>\n",
       "      <td>0.222336</td>\n",
       "      <td>1</td>\n",
       "      <td>1</td>\n",
       "      <td>1</td>\n",
       "      <td>1.05</td>\n",
       "      <td>8</td>\n",
       "    </tr>\n",
       "    <tr>\n",
       "      <th>surge_pct</th>\n",
       "      <td>50000</td>\n",
       "      <td>8.849536</td>\n",
       "      <td>19.95881</td>\n",
       "      <td>0</td>\n",
       "      <td>0</td>\n",
       "      <td>0</td>\n",
       "      <td>8.6</td>\n",
       "      <td>100</td>\n",
       "    </tr>\n",
       "    <tr>\n",
       "      <th>trips_in_first_30_days</th>\n",
       "      <td>50000</td>\n",
       "      <td>2.2782</td>\n",
       "      <td>3.792684</td>\n",
       "      <td>0</td>\n",
       "      <td>0</td>\n",
       "      <td>1</td>\n",
       "      <td>3</td>\n",
       "      <td>125</td>\n",
       "    </tr>\n",
       "    <tr>\n",
       "      <th>luxury_car_user</th>\n",
       "      <td>50000</td>\n",
       "      <td>0.37708</td>\n",
       "      <td>0.4846601</td>\n",
       "      <td>False</td>\n",
       "      <td>0</td>\n",
       "      <td>0</td>\n",
       "      <td>1</td>\n",
       "      <td>True</td>\n",
       "    </tr>\n",
       "    <tr>\n",
       "      <th>weekday_pct</th>\n",
       "      <td>50000</td>\n",
       "      <td>60.92608</td>\n",
       "      <td>37.0815</td>\n",
       "      <td>0</td>\n",
       "      <td>33.3</td>\n",
       "      <td>66.7</td>\n",
       "      <td>100</td>\n",
       "      <td>100</td>\n",
       "    </tr>\n",
       "    <tr>\n",
       "      <th>is_active</th>\n",
       "      <td>50000</td>\n",
       "      <td>0.3662</td>\n",
       "      <td>0.4817699</td>\n",
       "      <td>False</td>\n",
       "      <td>0</td>\n",
       "      <td>0</td>\n",
       "      <td>1</td>\n",
       "      <td>True</td>\n",
       "    </tr>\n",
       "    <tr>\n",
       "      <th>b_churned</th>\n",
       "      <td>50000</td>\n",
       "      <td>0.6338</td>\n",
       "      <td>0.4817699</td>\n",
       "      <td>False</td>\n",
       "      <td>0</td>\n",
       "      <td>1</td>\n",
       "      <td>1</td>\n",
       "      <td>True</td>\n",
       "    </tr>\n",
       "  </tbody>\n",
       "</table>\n",
       "</div>"
      ],
      "text/plain": [
       "                        count      mean        std    min   25%   50%   75%  \\\n",
       "avg_dist                50000  5.796827   5.707357      0  2.42  3.88  6.94   \n",
       "avg_rating_by_driver    49799  4.778158  0.4466518      1   4.7     5     5   \n",
       "avg_rating_of_driver    41878  4.601559  0.6173385      1   4.3   4.9     5   \n",
       "avg_surge               50000  1.074764   0.222336      1     1     1  1.05   \n",
       "surge_pct               50000  8.849536   19.95881      0     0     0   8.6   \n",
       "trips_in_first_30_days  50000    2.2782   3.792684      0     0     1     3   \n",
       "luxury_car_user         50000   0.37708  0.4846601  False     0     0     1   \n",
       "weekday_pct             50000  60.92608    37.0815      0  33.3  66.7   100   \n",
       "is_active               50000    0.3662  0.4817699  False     0     0     1   \n",
       "b_churned               50000    0.6338  0.4817699  False     0     1     1   \n",
       "\n",
       "                           max  \n",
       "avg_dist                160.96  \n",
       "avg_rating_by_driver         5  \n",
       "avg_rating_of_driver         5  \n",
       "avg_surge                    8  \n",
       "surge_pct                  100  \n",
       "trips_in_first_30_days     125  \n",
       "luxury_car_user           True  \n",
       "weekday_pct                100  \n",
       "is_active                 True  \n",
       "b_churned                 True  "
      ]
     },
     "execution_count": 16,
     "metadata": {},
     "output_type": "execute_result"
    }
   ],
   "source": [
    "df.describe().T"
   ]
  },
  {
   "cell_type": "code",
   "execution_count": 17,
   "metadata": {
    "collapsed": false
   },
   "outputs": [
    {
     "data": {
      "text/html": [
       "<div style=\"max-height:1000px;max-width:1500px;overflow:auto;\">\n",
       "<table border=\"1\" class=\"dataframe\">\n",
       "  <thead>\n",
       "    <tr style=\"text-align: right;\">\n",
       "      <th></th>\n",
       "      <th>avg_dist</th>\n",
       "      <th>avg_rating_by_driver</th>\n",
       "      <th>avg_rating_of_driver</th>\n",
       "      <th>avg_surge</th>\n",
       "      <th>surge_pct</th>\n",
       "      <th>trips_in_first_30_days</th>\n",
       "      <th>luxury_car_user</th>\n",
       "      <th>weekday_pct</th>\n",
       "      <th>is_active</th>\n",
       "      <th>b_churned</th>\n",
       "    </tr>\n",
       "  </thead>\n",
       "  <tbody>\n",
       "    <tr>\n",
       "      <th>avg_dist</th>\n",
       "      <td>1.000000</td>\n",
       "      <td>0.080540</td>\n",
       "      <td>0.034509</td>\n",
       "      <td>-0.081491</td>\n",
       "      <td>-0.104414</td>\n",
       "      <td>-0.136329</td>\n",
       "      <td>0.032310</td>\n",
       "      <td>0.101652</td>\n",
       "      <td>-0.090279</td>\n",
       "      <td>0.090279</td>\n",
       "    </tr>\n",
       "    <tr>\n",
       "      <th>avg_rating_by_driver</th>\n",
       "      <td>0.080540</td>\n",
       "      <td>1.000000</td>\n",
       "      <td>0.123175</td>\n",
       "      <td>0.010597</td>\n",
       "      <td>0.020103</td>\n",
       "      <td>-0.039115</td>\n",
       "      <td>0.009343</td>\n",
       "      <td>0.020442</td>\n",
       "      <td>-0.025635</td>\n",
       "      <td>0.025635</td>\n",
       "    </tr>\n",
       "    <tr>\n",
       "      <th>avg_rating_of_driver</th>\n",
       "      <td>0.034509</td>\n",
       "      <td>0.123175</td>\n",
       "      <td>1.000000</td>\n",
       "      <td>-0.026189</td>\n",
       "      <td>-0.003899</td>\n",
       "      <td>-0.011302</td>\n",
       "      <td>-0.002086</td>\n",
       "      <td>0.014630</td>\n",
       "      <td>-0.010834</td>\n",
       "      <td>0.010834</td>\n",
       "    </tr>\n",
       "    <tr>\n",
       "      <th>avg_surge</th>\n",
       "      <td>-0.081491</td>\n",
       "      <td>0.010597</td>\n",
       "      <td>-0.026189</td>\n",
       "      <td>1.000000</td>\n",
       "      <td>0.793582</td>\n",
       "      <td>-0.001841</td>\n",
       "      <td>-0.078791</td>\n",
       "      <td>-0.110071</td>\n",
       "      <td>-0.003567</td>\n",
       "      <td>0.003567</td>\n",
       "    </tr>\n",
       "    <tr>\n",
       "      <th>surge_pct</th>\n",
       "      <td>-0.104414</td>\n",
       "      <td>0.020103</td>\n",
       "      <td>-0.003899</td>\n",
       "      <td>0.793582</td>\n",
       "      <td>1.000000</td>\n",
       "      <td>0.005720</td>\n",
       "      <td>-0.106861</td>\n",
       "      <td>-0.144918</td>\n",
       "      <td>0.010612</td>\n",
       "      <td>-0.010612</td>\n",
       "    </tr>\n",
       "    <tr>\n",
       "      <th>trips_in_first_30_days</th>\n",
       "      <td>-0.136329</td>\n",
       "      <td>-0.039115</td>\n",
       "      <td>-0.011302</td>\n",
       "      <td>-0.001841</td>\n",
       "      <td>0.005720</td>\n",
       "      <td>1.000000</td>\n",
       "      <td>0.112210</td>\n",
       "      <td>0.050388</td>\n",
       "      <td>0.214728</td>\n",
       "      <td>-0.214728</td>\n",
       "    </tr>\n",
       "    <tr>\n",
       "      <th>luxury_car_user</th>\n",
       "      <td>0.032310</td>\n",
       "      <td>0.009343</td>\n",
       "      <td>-0.002086</td>\n",
       "      <td>-0.078791</td>\n",
       "      <td>-0.106861</td>\n",
       "      <td>0.112210</td>\n",
       "      <td>1.000000</td>\n",
       "      <td>0.035998</td>\n",
       "      <td>0.210259</td>\n",
       "      <td>-0.210259</td>\n",
       "    </tr>\n",
       "    <tr>\n",
       "      <th>weekday_pct</th>\n",
       "      <td>0.101652</td>\n",
       "      <td>0.020442</td>\n",
       "      <td>0.014630</td>\n",
       "      <td>-0.110071</td>\n",
       "      <td>-0.144918</td>\n",
       "      <td>0.050388</td>\n",
       "      <td>0.035998</td>\n",
       "      <td>1.000000</td>\n",
       "      <td>0.026413</td>\n",
       "      <td>-0.026413</td>\n",
       "    </tr>\n",
       "    <tr>\n",
       "      <th>is_active</th>\n",
       "      <td>-0.090279</td>\n",
       "      <td>-0.025635</td>\n",
       "      <td>-0.010834</td>\n",
       "      <td>-0.003567</td>\n",
       "      <td>0.010612</td>\n",
       "      <td>0.214728</td>\n",
       "      <td>0.210259</td>\n",
       "      <td>0.026413</td>\n",
       "      <td>1.000000</td>\n",
       "      <td>-1.000000</td>\n",
       "    </tr>\n",
       "    <tr>\n",
       "      <th>b_churned</th>\n",
       "      <td>0.090279</td>\n",
       "      <td>0.025635</td>\n",
       "      <td>0.010834</td>\n",
       "      <td>0.003567</td>\n",
       "      <td>-0.010612</td>\n",
       "      <td>-0.214728</td>\n",
       "      <td>-0.210259</td>\n",
       "      <td>-0.026413</td>\n",
       "      <td>-1.000000</td>\n",
       "      <td>1.000000</td>\n",
       "    </tr>\n",
       "  </tbody>\n",
       "</table>\n",
       "</div>"
      ],
      "text/plain": [
       "                        avg_dist  avg_rating_by_driver  avg_rating_of_driver  \\\n",
       "avg_dist                1.000000              0.080540              0.034509   \n",
       "avg_rating_by_driver    0.080540              1.000000              0.123175   \n",
       "avg_rating_of_driver    0.034509              0.123175              1.000000   \n",
       "avg_surge              -0.081491              0.010597             -0.026189   \n",
       "surge_pct              -0.104414              0.020103             -0.003899   \n",
       "trips_in_first_30_days -0.136329             -0.039115             -0.011302   \n",
       "luxury_car_user         0.032310              0.009343             -0.002086   \n",
       "weekday_pct             0.101652              0.020442              0.014630   \n",
       "is_active              -0.090279             -0.025635             -0.010834   \n",
       "b_churned               0.090279              0.025635              0.010834   \n",
       "\n",
       "                        avg_surge  surge_pct  trips_in_first_30_days  \\\n",
       "avg_dist                -0.081491  -0.104414               -0.136329   \n",
       "avg_rating_by_driver     0.010597   0.020103               -0.039115   \n",
       "avg_rating_of_driver    -0.026189  -0.003899               -0.011302   \n",
       "avg_surge                1.000000   0.793582               -0.001841   \n",
       "surge_pct                0.793582   1.000000                0.005720   \n",
       "trips_in_first_30_days  -0.001841   0.005720                1.000000   \n",
       "luxury_car_user         -0.078791  -0.106861                0.112210   \n",
       "weekday_pct             -0.110071  -0.144918                0.050388   \n",
       "is_active               -0.003567   0.010612                0.214728   \n",
       "b_churned                0.003567  -0.010612               -0.214728   \n",
       "\n",
       "                        luxury_car_user  weekday_pct  is_active  b_churned  \n",
       "avg_dist                       0.032310     0.101652  -0.090279   0.090279  \n",
       "avg_rating_by_driver           0.009343     0.020442  -0.025635   0.025635  \n",
       "avg_rating_of_driver          -0.002086     0.014630  -0.010834   0.010834  \n",
       "avg_surge                     -0.078791    -0.110071  -0.003567   0.003567  \n",
       "surge_pct                     -0.106861    -0.144918   0.010612  -0.010612  \n",
       "trips_in_first_30_days         0.112210     0.050388   0.214728  -0.214728  \n",
       "luxury_car_user                1.000000     0.035998   0.210259  -0.210259  \n",
       "weekday_pct                    0.035998     1.000000   0.026413  -0.026413  \n",
       "is_active                      0.210259     0.026413   1.000000  -1.000000  \n",
       "b_churned                     -0.210259    -0.026413  -1.000000   1.000000  "
      ]
     },
     "execution_count": 17,
     "metadata": {},
     "output_type": "execute_result"
    }
   ],
   "source": [
    "df.corr()"
   ]
  },
  {
   "cell_type": "markdown",
   "metadata": {},
   "source": [
    "### Checking dates\n",
    "\n",
    "There are often problems with dates, so let's perform some simple checks as part of EDA"
   ]
  },
  {
   "cell_type": "code",
   "execution_count": 18,
   "metadata": {
    "collapsed": false
   },
   "outputs": [
    {
     "data": {
      "text/plain": [
       "False"
      ]
     },
     "execution_count": 18,
     "metadata": {},
     "output_type": "execute_result"
    }
   ],
   "source": [
    "np.any(df.last_trip_date < df.signup_date)"
   ]
  },
  {
   "cell_type": "markdown",
   "metadata": {},
   "source": [
    "See what distribution of signup dates looks like"
   ]
  },
  {
   "cell_type": "code",
   "execution_count": 19,
   "metadata": {
    "collapsed": false
   },
   "outputs": [
    {
     "data": {
      "text/html": [
       "<div style=\"max-height:1000px;max-width:1500px;overflow:auto;\">\n",
       "<table border=\"1\" class=\"dataframe\">\n",
       "  <thead>\n",
       "    <tr style=\"text-align: right;\">\n",
       "      <th>signup_year</th>\n",
       "      <th>2014</th>\n",
       "    </tr>\n",
       "    <tr>\n",
       "      <th>signup_month</th>\n",
       "      <th></th>\n",
       "    </tr>\n",
       "  </thead>\n",
       "  <tbody>\n",
       "    <tr>\n",
       "      <th>1</th>\n",
       "      <td>50000</td>\n",
       "    </tr>\n",
       "  </tbody>\n",
       "</table>\n",
       "</div>"
      ],
      "text/plain": [
       "signup_year    2014\n",
       "signup_month       \n",
       "1             50000"
      ]
     },
     "execution_count": 19,
     "metadata": {},
     "output_type": "execute_result"
    }
   ],
   "source": [
    "df['signup_year'] = df.signup_date.apply(lambda x: x.year)\n",
    "df['signup_month'] = df.signup_date.apply(lambda x: x.month)\n",
    "pd.crosstab(df.signup_month, df.signup_year)"
   ]
  },
  {
   "cell_type": "markdown",
   "metadata": {},
   "source": [
    "This means we don't need to worry about any customers who joined in the last 30 days."
   ]
  },
  {
   "cell_type": "code",
   "execution_count": 20,
   "metadata": {
    "collapsed": false
   },
   "outputs": [
    {
     "data": {
      "text/plain": [
       "count                   50000\n",
       "unique                     31\n",
       "top       2014-01-18 00:00:00\n",
       "freq                     2948\n",
       "first     2014-01-01 00:00:00\n",
       "last      2014-01-31 00:00:00\n",
       "Name: signup_date, dtype: object"
      ]
     },
     "execution_count": 20,
     "metadata": {},
     "output_type": "execute_result"
    }
   ],
   "source": [
    "df.signup_date.describe()"
   ]
  },
  {
   "cell_type": "markdown",
   "metadata": {},
   "source": [
    "So all of our signup data comes from January.  This could affect customer type and retention if there is a selection effect based on `signup_date."
   ]
  },
  {
   "cell_type": "code",
   "execution_count": 21,
   "metadata": {
    "collapsed": false
   },
   "outputs": [
    {
     "data": {
      "text/html": [
       "<div style=\"max-height:1000px;max-width:1500px;overflow:auto;\">\n",
       "<table border=\"1\" class=\"dataframe\">\n",
       "  <thead>\n",
       "    <tr style=\"text-align: right;\">\n",
       "      <th>last_year</th>\n",
       "      <th>2014</th>\n",
       "    </tr>\n",
       "    <tr>\n",
       "      <th>last_month</th>\n",
       "      <th></th>\n",
       "    </tr>\n",
       "  </thead>\n",
       "  <tbody>\n",
       "    <tr>\n",
       "      <th>1</th>\n",
       "      <td>10147</td>\n",
       "    </tr>\n",
       "    <tr>\n",
       "      <th>2</th>\n",
       "      <td>4308</td>\n",
       "    </tr>\n",
       "    <tr>\n",
       "      <th>3</th>\n",
       "      <td>4568</td>\n",
       "    </tr>\n",
       "    <tr>\n",
       "      <th>4</th>\n",
       "      <td>4588</td>\n",
       "    </tr>\n",
       "    <tr>\n",
       "      <th>5</th>\n",
       "      <td>7585</td>\n",
       "    </tr>\n",
       "    <tr>\n",
       "      <th>6</th>\n",
       "      <td>18256</td>\n",
       "    </tr>\n",
       "    <tr>\n",
       "      <th>7</th>\n",
       "      <td>548</td>\n",
       "    </tr>\n",
       "  </tbody>\n",
       "</table>\n",
       "</div>"
      ],
      "text/plain": [
       "last_year    2014\n",
       "last_month       \n",
       "1           10147\n",
       "2            4308\n",
       "3            4568\n",
       "4            4588\n",
       "5            7585\n",
       "6           18256\n",
       "7             548"
      ]
     },
     "execution_count": 21,
     "metadata": {},
     "output_type": "execute_result"
    }
   ],
   "source": [
    "df['last_year'] = df.last_trip_date.apply(lambda x: x.year)\n",
    "df['last_month'] = df.last_trip_date.apply(lambda x: x.month)\n",
    "pd.crosstab(df.last_month, df.last_year)"
   ]
  },
  {
   "cell_type": "markdown",
   "metadata": {},
   "source": [
    "Let's take a look at June to see what is going on day by day"
   ]
  },
  {
   "cell_type": "code",
   "execution_count": 22,
   "metadata": {
    "collapsed": false
   },
   "outputs": [
    {
     "name": "stderr",
     "output_type": "stream",
     "text": [
      "/Users/bss/anaconda/lib/python2.7/site-packages/IPython/kernel/__main__.py:2: SettingWithCopyWarning: \n",
      "A value is trying to be set on a copy of a slice from a DataFrame.\n",
      "Try using .loc[row_indexer,col_indexer] = value instead\n",
      "\n",
      "See the the caveats in the documentation: http://pandas.pydata.org/pandas-docs/stable/indexing.html#indexing-view-versus-copy\n",
      "  from IPython.kernel.zmq import kernelapp as app\n"
     ]
    },
    {
     "data": {
      "text/plain": [
       "29    2036\n",
       "28    1679\n",
       "30    1408\n",
       "27    1120\n",
       "22    1024\n",
       "21     869\n",
       "26     793\n",
       "14     665\n",
       "15     647\n",
       "20     612\n",
       "25     603\n",
       "23     546\n",
       "7      534\n",
       "8      527\n",
       "1      494\n",
       "19     455\n",
       "24     440\n",
       "13     438\n",
       "18     400\n",
       "12     351\n",
       "6      314\n",
       "16     310\n",
       "11     297\n",
       "17     296\n",
       "5      262\n",
       "9      262\n",
       "10     244\n",
       "4      240\n",
       "2      208\n",
       "3      182\n",
       "dtype: int64"
      ]
     },
     "execution_count": 22,
     "metadata": {},
     "output_type": "execute_result"
    }
   ],
   "source": [
    "dftmp = df[df.last_month == 6]\n",
    "dftmp['last_day'] = dftmp.last_trip_date.apply(lambda x: x.day)\n",
    "dftmp.last_day.value_counts()"
   ]
  },
  {
   "cell_type": "markdown",
   "metadata": {},
   "source": [
    "It looks like usage stabilizes for a couple months after signup with users try the new product, but then there is a spike in June followed by huge attrition in July. Remember: we only have data for 2014-07-01, so this is not a problem -- there is no huge attrition in July."
   ]
  },
  {
   "cell_type": "markdown",
   "metadata": {},
   "source": [
    "Let's check some simple 'groupby' stats to see how different groups compare:"
   ]
  },
  {
   "cell_type": "code",
   "execution_count": 23,
   "metadata": {
    "collapsed": false
   },
   "outputs": [
    {
     "data": {
      "text/html": [
       "<div style=\"max-height:1000px;max-width:1500px;overflow:auto;\">\n",
       "<table border=\"1\" class=\"dataframe\">\n",
       "  <thead>\n",
       "    <tr style=\"text-align: right;\">\n",
       "      <th></th>\n",
       "      <th></th>\n",
       "      <th>avg_dist</th>\n",
       "      <th>avg_rating_by_driver</th>\n",
       "      <th>avg_rating_of_driver</th>\n",
       "      <th>avg_surge</th>\n",
       "      <th>surge_pct</th>\n",
       "      <th>trips_in_first_30_days</th>\n",
       "      <th>luxury_car_user</th>\n",
       "      <th>weekday_pct</th>\n",
       "      <th>b_churned</th>\n",
       "      <th>signup_year</th>\n",
       "      <th>signup_month</th>\n",
       "      <th>last_year</th>\n",
       "    </tr>\n",
       "    <tr>\n",
       "      <th>is_active</th>\n",
       "      <th>last_month</th>\n",
       "      <th></th>\n",
       "      <th></th>\n",
       "      <th></th>\n",
       "      <th></th>\n",
       "      <th></th>\n",
       "      <th></th>\n",
       "      <th></th>\n",
       "      <th></th>\n",
       "      <th></th>\n",
       "      <th></th>\n",
       "      <th></th>\n",
       "      <th></th>\n",
       "    </tr>\n",
       "  </thead>\n",
       "  <tbody>\n",
       "    <tr>\n",
       "      <th rowspan=\"6\" valign=\"top\">False</th>\n",
       "      <th>1</th>\n",
       "      <td>6.816549</td>\n",
       "      <td>4.806602</td>\n",
       "      <td>4.633324</td>\n",
       "      <td>1.078925</td>\n",
       "      <td>8.926274</td>\n",
       "      <td>1.710161</td>\n",
       "      <td>0.287868</td>\n",
       "      <td>59.999704</td>\n",
       "      <td>1</td>\n",
       "      <td>2014</td>\n",
       "      <td>1</td>\n",
       "      <td>2014</td>\n",
       "    </tr>\n",
       "    <tr>\n",
       "      <th>2</th>\n",
       "      <td>6.038006</td>\n",
       "      <td>4.778979</td>\n",
       "      <td>4.585495</td>\n",
       "      <td>1.089396</td>\n",
       "      <td>9.338649</td>\n",
       "      <td>2.112813</td>\n",
       "      <td>0.305942</td>\n",
       "      <td>61.031848</td>\n",
       "      <td>1</td>\n",
       "      <td>2014</td>\n",
       "      <td>1</td>\n",
       "      <td>2014</td>\n",
       "    </tr>\n",
       "    <tr>\n",
       "      <th>3</th>\n",
       "      <td>5.882500</td>\n",
       "      <td>4.778203</td>\n",
       "      <td>4.591581</td>\n",
       "      <td>1.085274</td>\n",
       "      <td>8.715740</td>\n",
       "      <td>1.290061</td>\n",
       "      <td>0.318739</td>\n",
       "      <td>57.635924</td>\n",
       "      <td>1</td>\n",
       "      <td>2014</td>\n",
       "      <td>1</td>\n",
       "      <td>2014</td>\n",
       "    </tr>\n",
       "    <tr>\n",
       "      <th>4</th>\n",
       "      <td>6.038993</td>\n",
       "      <td>4.773951</td>\n",
       "      <td>4.599419</td>\n",
       "      <td>1.060728</td>\n",
       "      <td>7.656168</td>\n",
       "      <td>1.378814</td>\n",
       "      <td>0.318221</td>\n",
       "      <td>62.013622</td>\n",
       "      <td>1</td>\n",
       "      <td>2014</td>\n",
       "      <td>1</td>\n",
       "      <td>2014</td>\n",
       "    </tr>\n",
       "    <tr>\n",
       "      <th>5</th>\n",
       "      <td>5.788456</td>\n",
       "      <td>4.780513</td>\n",
       "      <td>4.602883</td>\n",
       "      <td>1.065413</td>\n",
       "      <td>8.519684</td>\n",
       "      <td>1.722347</td>\n",
       "      <td>0.290310</td>\n",
       "      <td>62.281239</td>\n",
       "      <td>1</td>\n",
       "      <td>2014</td>\n",
       "      <td>1</td>\n",
       "      <td>2014</td>\n",
       "    </tr>\n",
       "    <tr>\n",
       "      <th>6</th>\n",
       "      <td>4.959534</td>\n",
       "      <td>4.749797</td>\n",
       "      <td>4.576047</td>\n",
       "      <td>1.077105</td>\n",
       "      <td>10.065789</td>\n",
       "      <td>1.702429</td>\n",
       "      <td>0.279352</td>\n",
       "      <td>30.789474</td>\n",
       "      <td>1</td>\n",
       "      <td>2014</td>\n",
       "      <td>1</td>\n",
       "      <td>2014</td>\n",
       "    </tr>\n",
       "    <tr>\n",
       "      <th rowspan=\"2\" valign=\"top\">True</th>\n",
       "      <th>6</th>\n",
       "      <td>5.147640</td>\n",
       "      <td>4.763216</td>\n",
       "      <td>4.592054</td>\n",
       "      <td>1.073605</td>\n",
       "      <td>9.094961</td>\n",
       "      <td>3.291071</td>\n",
       "      <td>0.511316</td>\n",
       "      <td>61.948897</td>\n",
       "      <td>0</td>\n",
       "      <td>2014</td>\n",
       "      <td>1</td>\n",
       "      <td>2014</td>\n",
       "    </tr>\n",
       "    <tr>\n",
       "      <th>7</th>\n",
       "      <td>4.189927</td>\n",
       "      <td>4.760036</td>\n",
       "      <td>4.633271</td>\n",
       "      <td>1.077464</td>\n",
       "      <td>10.204380</td>\n",
       "      <td>5.246350</td>\n",
       "      <td>0.505474</td>\n",
       "      <td>70.826825</td>\n",
       "      <td>0</td>\n",
       "      <td>2014</td>\n",
       "      <td>1</td>\n",
       "      <td>2014</td>\n",
       "    </tr>\n",
       "  </tbody>\n",
       "</table>\n",
       "</div>"
      ],
      "text/plain": [
       "                      avg_dist  avg_rating_by_driver  avg_rating_of_driver  \\\n",
       "is_active last_month                                                         \n",
       "False     1           6.816549              4.806602              4.633324   \n",
       "          2           6.038006              4.778979              4.585495   \n",
       "          3           5.882500              4.778203              4.591581   \n",
       "          4           6.038993              4.773951              4.599419   \n",
       "          5           5.788456              4.780513              4.602883   \n",
       "          6           4.959534              4.749797              4.576047   \n",
       "True      6           5.147640              4.763216              4.592054   \n",
       "          7           4.189927              4.760036              4.633271   \n",
       "\n",
       "                      avg_surge  surge_pct  trips_in_first_30_days  \\\n",
       "is_active last_month                                                 \n",
       "False     1            1.078925   8.926274                1.710161   \n",
       "          2            1.089396   9.338649                2.112813   \n",
       "          3            1.085274   8.715740                1.290061   \n",
       "          4            1.060728   7.656168                1.378814   \n",
       "          5            1.065413   8.519684                1.722347   \n",
       "          6            1.077105  10.065789                1.702429   \n",
       "True      6            1.073605   9.094961                3.291071   \n",
       "          7            1.077464  10.204380                5.246350   \n",
       "\n",
       "                      luxury_car_user  weekday_pct  b_churned  signup_year  \\\n",
       "is_active last_month                                                         \n",
       "False     1                  0.287868    59.999704          1         2014   \n",
       "          2                  0.305942    61.031848          1         2014   \n",
       "          3                  0.318739    57.635924          1         2014   \n",
       "          4                  0.318221    62.013622          1         2014   \n",
       "          5                  0.290310    62.281239          1         2014   \n",
       "          6                  0.279352    30.789474          1         2014   \n",
       "True      6                  0.511316    61.948897          0         2014   \n",
       "          7                  0.505474    70.826825          0         2014   \n",
       "\n",
       "                      signup_month  last_year  \n",
       "is_active last_month                           \n",
       "False     1                      1       2014  \n",
       "          2                      1       2014  \n",
       "          3                      1       2014  \n",
       "          4                      1       2014  \n",
       "          5                      1       2014  \n",
       "          6                      1       2014  \n",
       "True      6                      1       2014  \n",
       "          7                      1       2014  "
      ]
     },
     "execution_count": 23,
     "metadata": {},
     "output_type": "execute_result"
    }
   ],
   "source": [
    "df.groupby(['is_active', 'last_month']).mean()"
   ]
  },
  {
   "cell_type": "markdown",
   "metadata": {},
   "source": [
    "Top users appear to take shorter trips on average, take more trips in the first 30 days and uses luxury cars more."
   ]
  },
  {
   "cell_type": "code",
   "execution_count": 24,
   "metadata": {
    "collapsed": false
   },
   "outputs": [
    {
     "data": {
      "text/html": [
       "<div style=\"max-height:1000px;max-width:1500px;overflow:auto;\">\n",
       "<table border=\"1\" class=\"dataframe\">\n",
       "  <thead>\n",
       "    <tr style=\"text-align: right;\">\n",
       "      <th></th>\n",
       "      <th></th>\n",
       "      <th>avg_dist</th>\n",
       "      <th>avg_rating_by_driver</th>\n",
       "      <th>avg_rating_of_driver</th>\n",
       "      <th>avg_surge</th>\n",
       "      <th>b_churned</th>\n",
       "      <th>last_year</th>\n",
       "      <th>luxury_car_user</th>\n",
       "      <th>signup_month</th>\n",
       "      <th>signup_year</th>\n",
       "      <th>surge_pct</th>\n",
       "      <th>trips_in_first_30_days</th>\n",
       "      <th>weekday_pct</th>\n",
       "    </tr>\n",
       "    <tr>\n",
       "      <th>is_active</th>\n",
       "      <th>last_month</th>\n",
       "      <th></th>\n",
       "      <th></th>\n",
       "      <th></th>\n",
       "      <th></th>\n",
       "      <th></th>\n",
       "      <th></th>\n",
       "      <th></th>\n",
       "      <th></th>\n",
       "      <th></th>\n",
       "      <th></th>\n",
       "      <th></th>\n",
       "      <th></th>\n",
       "    </tr>\n",
       "  </thead>\n",
       "  <tbody>\n",
       "    <tr>\n",
       "      <th rowspan=\"6\" valign=\"top\">False</th>\n",
       "      <th>1</th>\n",
       "      <td>4.240</td>\n",
       "      <td>5.0</td>\n",
       "      <td>5.0</td>\n",
       "      <td>1.00</td>\n",
       "      <td>1</td>\n",
       "      <td>2014</td>\n",
       "      <td>0</td>\n",
       "      <td>1</td>\n",
       "      <td>2014</td>\n",
       "      <td>0.00</td>\n",
       "      <td>1</td>\n",
       "      <td>100.0</td>\n",
       "    </tr>\n",
       "    <tr>\n",
       "      <th>2</th>\n",
       "      <td>3.865</td>\n",
       "      <td>5.0</td>\n",
       "      <td>5.0</td>\n",
       "      <td>1.00</td>\n",
       "      <td>1</td>\n",
       "      <td>2014</td>\n",
       "      <td>0</td>\n",
       "      <td>1</td>\n",
       "      <td>2014</td>\n",
       "      <td>0.00</td>\n",
       "      <td>1</td>\n",
       "      <td>66.7</td>\n",
       "    </tr>\n",
       "    <tr>\n",
       "      <th>3</th>\n",
       "      <td>3.825</td>\n",
       "      <td>5.0</td>\n",
       "      <td>5.0</td>\n",
       "      <td>1.00</td>\n",
       "      <td>1</td>\n",
       "      <td>2014</td>\n",
       "      <td>0</td>\n",
       "      <td>1</td>\n",
       "      <td>2014</td>\n",
       "      <td>0.00</td>\n",
       "      <td>0</td>\n",
       "      <td>66.7</td>\n",
       "    </tr>\n",
       "    <tr>\n",
       "      <th>4</th>\n",
       "      <td>4.150</td>\n",
       "      <td>5.0</td>\n",
       "      <td>5.0</td>\n",
       "      <td>1.00</td>\n",
       "      <td>1</td>\n",
       "      <td>2014</td>\n",
       "      <td>0</td>\n",
       "      <td>1</td>\n",
       "      <td>2014</td>\n",
       "      <td>0.00</td>\n",
       "      <td>0</td>\n",
       "      <td>66.7</td>\n",
       "    </tr>\n",
       "    <tr>\n",
       "      <th>5</th>\n",
       "      <td>3.970</td>\n",
       "      <td>5.0</td>\n",
       "      <td>4.9</td>\n",
       "      <td>1.00</td>\n",
       "      <td>1</td>\n",
       "      <td>2014</td>\n",
       "      <td>0</td>\n",
       "      <td>1</td>\n",
       "      <td>2014</td>\n",
       "      <td>0.00</td>\n",
       "      <td>1</td>\n",
       "      <td>66.7</td>\n",
       "    </tr>\n",
       "    <tr>\n",
       "      <th>6</th>\n",
       "      <td>3.740</td>\n",
       "      <td>5.0</td>\n",
       "      <td>4.9</td>\n",
       "      <td>1.00</td>\n",
       "      <td>1</td>\n",
       "      <td>2014</td>\n",
       "      <td>0</td>\n",
       "      <td>1</td>\n",
       "      <td>2014</td>\n",
       "      <td>0.00</td>\n",
       "      <td>1</td>\n",
       "      <td>30.0</td>\n",
       "    </tr>\n",
       "    <tr>\n",
       "      <th rowspan=\"2\" valign=\"top\">True</th>\n",
       "      <th>6</th>\n",
       "      <td>3.740</td>\n",
       "      <td>4.8</td>\n",
       "      <td>4.8</td>\n",
       "      <td>1.00</td>\n",
       "      <td>0</td>\n",
       "      <td>2014</td>\n",
       "      <td>1</td>\n",
       "      <td>1</td>\n",
       "      <td>2014</td>\n",
       "      <td>0.00</td>\n",
       "      <td>2</td>\n",
       "      <td>64.7</td>\n",
       "    </tr>\n",
       "    <tr>\n",
       "      <th>7</th>\n",
       "      <td>3.405</td>\n",
       "      <td>4.8</td>\n",
       "      <td>4.8</td>\n",
       "      <td>1.04</td>\n",
       "      <td>0</td>\n",
       "      <td>2014</td>\n",
       "      <td>1</td>\n",
       "      <td>1</td>\n",
       "      <td>2014</td>\n",
       "      <td>6.85</td>\n",
       "      <td>3</td>\n",
       "      <td>68.9</td>\n",
       "    </tr>\n",
       "  </tbody>\n",
       "</table>\n",
       "</div>"
      ],
      "text/plain": [
       "                      avg_dist  avg_rating_by_driver  avg_rating_of_driver  \\\n",
       "is_active last_month                                                         \n",
       "False     1              4.240                   5.0                   5.0   \n",
       "          2              3.865                   5.0                   5.0   \n",
       "          3              3.825                   5.0                   5.0   \n",
       "          4              4.150                   5.0                   5.0   \n",
       "          5              3.970                   5.0                   4.9   \n",
       "          6              3.740                   5.0                   4.9   \n",
       "True      6              3.740                   4.8                   4.8   \n",
       "          7              3.405                   4.8                   4.8   \n",
       "\n",
       "                      avg_surge  b_churned  last_year  luxury_car_user  \\\n",
       "is_active last_month                                                     \n",
       "False     1                1.00          1       2014                0   \n",
       "          2                1.00          1       2014                0   \n",
       "          3                1.00          1       2014                0   \n",
       "          4                1.00          1       2014                0   \n",
       "          5                1.00          1       2014                0   \n",
       "          6                1.00          1       2014                0   \n",
       "True      6                1.00          0       2014                1   \n",
       "          7                1.04          0       2014                1   \n",
       "\n",
       "                      signup_month  signup_year  surge_pct  \\\n",
       "is_active last_month                                         \n",
       "False     1                      1         2014       0.00   \n",
       "          2                      1         2014       0.00   \n",
       "          3                      1         2014       0.00   \n",
       "          4                      1         2014       0.00   \n",
       "          5                      1         2014       0.00   \n",
       "          6                      1         2014       0.00   \n",
       "True      6                      1         2014       0.00   \n",
       "          7                      1         2014       6.85   \n",
       "\n",
       "                      trips_in_first_30_days  weekday_pct  \n",
       "is_active last_month                                       \n",
       "False     1                                1        100.0  \n",
       "          2                                1         66.7  \n",
       "          3                                0         66.7  \n",
       "          4                                0         66.7  \n",
       "          5                                1         66.7  \n",
       "          6                                1         30.0  \n",
       "True      6                                2         64.7  \n",
       "          7                                3         68.9  "
      ]
     },
     "execution_count": 24,
     "metadata": {},
     "output_type": "execute_result"
    }
   ],
   "source": [
    "df.groupby(['is_active', 'last_month']).quantile(q=0.5)"
   ]
  },
  {
   "cell_type": "code",
   "execution_count": 25,
   "metadata": {
    "collapsed": false
   },
   "outputs": [
    {
     "data": {
      "text/html": [
       "<div style=\"max-height:1000px;max-width:1500px;overflow:auto;\">\n",
       "<table border=\"1\" class=\"dataframe\">\n",
       "  <thead>\n",
       "    <tr style=\"text-align: right;\">\n",
       "      <th></th>\n",
       "      <th></th>\n",
       "      <th>avg_dist</th>\n",
       "      <th>avg_rating_by_driver</th>\n",
       "      <th>avg_rating_of_driver</th>\n",
       "      <th>avg_surge</th>\n",
       "      <th>surge_pct</th>\n",
       "      <th>trips_in_first_30_days</th>\n",
       "      <th>luxury_car_user</th>\n",
       "      <th>weekday_pct</th>\n",
       "      <th>b_churned</th>\n",
       "      <th>signup_year</th>\n",
       "      <th>signup_month</th>\n",
       "      <th>last_year</th>\n",
       "    </tr>\n",
       "    <tr>\n",
       "      <th>is_active</th>\n",
       "      <th>last_month</th>\n",
       "      <th></th>\n",
       "      <th></th>\n",
       "      <th></th>\n",
       "      <th></th>\n",
       "      <th></th>\n",
       "      <th></th>\n",
       "      <th></th>\n",
       "      <th></th>\n",
       "      <th></th>\n",
       "      <th></th>\n",
       "      <th></th>\n",
       "      <th></th>\n",
       "    </tr>\n",
       "  </thead>\n",
       "  <tbody>\n",
       "    <tr>\n",
       "      <th rowspan=\"6\" valign=\"top\">False</th>\n",
       "      <th>1</th>\n",
       "      <td>7.013694</td>\n",
       "      <td>0.574543</td>\n",
       "      <td>0.689215</td>\n",
       "      <td>0.304895</td>\n",
       "      <td>25.980567</td>\n",
       "      <td>1.551805</td>\n",
       "      <td>0.452792</td>\n",
       "      <td>46.420268</td>\n",
       "      <td>0</td>\n",
       "      <td>0</td>\n",
       "      <td>0</td>\n",
       "      <td>0</td>\n",
       "    </tr>\n",
       "    <tr>\n",
       "      <th>2</th>\n",
       "      <td>6.068764</td>\n",
       "      <td>0.548422</td>\n",
       "      <td>0.706111</td>\n",
       "      <td>0.283917</td>\n",
       "      <td>23.251825</td>\n",
       "      <td>2.580902</td>\n",
       "      <td>0.460859</td>\n",
       "      <td>41.123237</td>\n",
       "      <td>0</td>\n",
       "      <td>0</td>\n",
       "      <td>0</td>\n",
       "      <td>0</td>\n",
       "    </tr>\n",
       "    <tr>\n",
       "      <th>3</th>\n",
       "      <td>6.073346</td>\n",
       "      <td>0.483683</td>\n",
       "      <td>0.682383</td>\n",
       "      <td>0.267277</td>\n",
       "      <td>21.283339</td>\n",
       "      <td>3.042242</td>\n",
       "      <td>0.466039</td>\n",
       "      <td>40.520700</td>\n",
       "      <td>0</td>\n",
       "      <td>0</td>\n",
       "      <td>0</td>\n",
       "      <td>0</td>\n",
       "    </tr>\n",
       "    <tr>\n",
       "      <th>4</th>\n",
       "      <td>5.684452</td>\n",
       "      <td>0.465194</td>\n",
       "      <td>0.629729</td>\n",
       "      <td>0.179838</td>\n",
       "      <td>18.370067</td>\n",
       "      <td>2.936937</td>\n",
       "      <td>0.465837</td>\n",
       "      <td>37.450785</td>\n",
       "      <td>0</td>\n",
       "      <td>0</td>\n",
       "      <td>0</td>\n",
       "      <td>0</td>\n",
       "    </tr>\n",
       "    <tr>\n",
       "      <th>5</th>\n",
       "      <td>5.553574</td>\n",
       "      <td>0.404029</td>\n",
       "      <td>0.619594</td>\n",
       "      <td>0.163539</td>\n",
       "      <td>18.315359</td>\n",
       "      <td>3.305858</td>\n",
       "      <td>0.453935</td>\n",
       "      <td>34.905845</td>\n",
       "      <td>0</td>\n",
       "      <td>0</td>\n",
       "      <td>0</td>\n",
       "      <td>0</td>\n",
       "    </tr>\n",
       "    <tr>\n",
       "      <th>6</th>\n",
       "      <td>4.115148</td>\n",
       "      <td>0.450910</td>\n",
       "      <td>0.687388</td>\n",
       "      <td>0.162823</td>\n",
       "      <td>18.902930</td>\n",
       "      <td>3.111601</td>\n",
       "      <td>0.449136</td>\n",
       "      <td>28.626718</td>\n",
       "      <td>0</td>\n",
       "      <td>0</td>\n",
       "      <td>0</td>\n",
       "      <td>0</td>\n",
       "    </tr>\n",
       "    <tr>\n",
       "      <th rowspan=\"2\" valign=\"top\">True</th>\n",
       "      <th>6</th>\n",
       "      <td>4.668550</td>\n",
       "      <td>0.326044</td>\n",
       "      <td>0.539787</td>\n",
       "      <td>0.164427</td>\n",
       "      <td>15.553910</td>\n",
       "      <td>4.934725</td>\n",
       "      <td>0.499886</td>\n",
       "      <td>29.294894</td>\n",
       "      <td>0</td>\n",
       "      <td>0</td>\n",
       "      <td>0</td>\n",
       "      <td>0</td>\n",
       "    </tr>\n",
       "    <tr>\n",
       "      <th>7</th>\n",
       "      <td>2.882536</td>\n",
       "      <td>0.272690</td>\n",
       "      <td>0.484955</td>\n",
       "      <td>0.115908</td>\n",
       "      <td>13.194029</td>\n",
       "      <td>7.021480</td>\n",
       "      <td>0.500427</td>\n",
       "      <td>18.453815</td>\n",
       "      <td>0</td>\n",
       "      <td>0</td>\n",
       "      <td>0</td>\n",
       "      <td>0</td>\n",
       "    </tr>\n",
       "  </tbody>\n",
       "</table>\n",
       "</div>"
      ],
      "text/plain": [
       "                      avg_dist  avg_rating_by_driver  avg_rating_of_driver  \\\n",
       "is_active last_month                                                         \n",
       "False     1           7.013694              0.574543              0.689215   \n",
       "          2           6.068764              0.548422              0.706111   \n",
       "          3           6.073346              0.483683              0.682383   \n",
       "          4           5.684452              0.465194              0.629729   \n",
       "          5           5.553574              0.404029              0.619594   \n",
       "          6           4.115148              0.450910              0.687388   \n",
       "True      6           4.668550              0.326044              0.539787   \n",
       "          7           2.882536              0.272690              0.484955   \n",
       "\n",
       "                      avg_surge  surge_pct  trips_in_first_30_days  \\\n",
       "is_active last_month                                                 \n",
       "False     1            0.304895  25.980567                1.551805   \n",
       "          2            0.283917  23.251825                2.580902   \n",
       "          3            0.267277  21.283339                3.042242   \n",
       "          4            0.179838  18.370067                2.936937   \n",
       "          5            0.163539  18.315359                3.305858   \n",
       "          6            0.162823  18.902930                3.111601   \n",
       "True      6            0.164427  15.553910                4.934725   \n",
       "          7            0.115908  13.194029                7.021480   \n",
       "\n",
       "                      luxury_car_user  weekday_pct  b_churned  signup_year  \\\n",
       "is_active last_month                                                         \n",
       "False     1                  0.452792    46.420268          0            0   \n",
       "          2                  0.460859    41.123237          0            0   \n",
       "          3                  0.466039    40.520700          0            0   \n",
       "          4                  0.465837    37.450785          0            0   \n",
       "          5                  0.453935    34.905845          0            0   \n",
       "          6                  0.449136    28.626718          0            0   \n",
       "True      6                  0.499886    29.294894          0            0   \n",
       "          7                  0.500427    18.453815          0            0   \n",
       "\n",
       "                      signup_month  last_year  \n",
       "is_active last_month                           \n",
       "False     1                      0          0  \n",
       "          2                      0          0  \n",
       "          3                      0          0  \n",
       "          4                      0          0  \n",
       "          5                      0          0  \n",
       "          6                      0          0  \n",
       "True      6                      0          0  \n",
       "          7                      0          0  "
      ]
     },
     "execution_count": 25,
     "metadata": {},
     "output_type": "execute_result"
    }
   ],
   "source": [
    "df.groupby(['is_active', 'last_month']).std()"
   ]
  },
  {
   "cell_type": "markdown",
   "metadata": {},
   "source": [
    "### Quick visualization\n",
    "\n",
    "It is always good to visualize data if possible -- i.e., the data set is not too large.  Note:  we plot active users as red and inactive (churn) as blue."
   ]
  },
  {
   "cell_type": "code",
   "execution_count": 26,
   "metadata": {
    "collapsed": true
   },
   "outputs": [],
   "source": [
    "from pandas.tools.plotting import scatter_matrix"
   ]
  },
  {
   "cell_type": "code",
   "execution_count": 27,
   "metadata": {
    "collapsed": false
   },
   "outputs": [],
   "source": [
    "core_features = ['avg_dist', 'avg_rating_by_driver', 'avg_rating_of_driver', 'avg_surge', \n",
    "                 'surge_pct', 'trips_in_first_30_days', 'luxury_car_user', 'weekday_pct']\n",
    "colors = ['red' if ix else 'blue' for ix in df.is_active]"
   ]
  },
  {
   "cell_type": "code",
   "execution_count": 30,
   "metadata": {
    "collapsed": false
   },
   "outputs": [
    {
     "data": {
      "text/plain": [
       "array([[<matplotlib.axes._subplots.AxesSubplot object at 0x108f76a50>,\n",
       "        <matplotlib.axes._subplots.AxesSubplot object at 0x10a92ae10>,\n",
       "        <matplotlib.axes._subplots.AxesSubplot object at 0x109aa2ad0>,\n",
       "        <matplotlib.axes._subplots.AxesSubplot object at 0x1096bb150>,\n",
       "        <matplotlib.axes._subplots.AxesSubplot object at 0x108d33290>,\n",
       "        <matplotlib.axes._subplots.AxesSubplot object at 0x10965d250>,\n",
       "        <matplotlib.axes._subplots.AxesSubplot object at 0x109e8c490>,\n",
       "        <matplotlib.axes._subplots.AxesSubplot object at 0x1099efb10>],\n",
       "       [<matplotlib.axes._subplots.AxesSubplot object at 0x10a8e6c50>,\n",
       "        <matplotlib.axes._subplots.AxesSubplot object at 0x10aca0990>,\n",
       "        <matplotlib.axes._subplots.AxesSubplot object at 0x10b445590>,\n",
       "        <matplotlib.axes._subplots.AxesSubplot object at 0x10b4c9610>,\n",
       "        <matplotlib.axes._subplots.AxesSubplot object at 0x10b522ed0>,\n",
       "        <matplotlib.axes._subplots.AxesSubplot object at 0x10b5b3150>,\n",
       "        <matplotlib.axes._subplots.AxesSubplot object at 0x10b55d790>,\n",
       "        <matplotlib.axes._subplots.AxesSubplot object at 0x10b69b7d0>],\n",
       "       [<matplotlib.axes._subplots.AxesSubplot object at 0x10b71f750>,\n",
       "        <matplotlib.axes._subplots.AxesSubplot object at 0x10b783c50>,\n",
       "        <matplotlib.axes._subplots.AxesSubplot object at 0x10c02d990>,\n",
       "        <matplotlib.axes._subplots.AxesSubplot object at 0x10c095410>,\n",
       "        <matplotlib.axes._subplots.AxesSubplot object at 0x10c1182d0>,\n",
       "        <matplotlib.axes._subplots.AxesSubplot object at 0x10c18dfd0>,\n",
       "        <matplotlib.axes._subplots.AxesSubplot object at 0x1092eb110>,\n",
       "        <matplotlib.axes._subplots.AxesSubplot object at 0x10c22cd10>],\n",
       "       [<matplotlib.axes._subplots.AxesSubplot object at 0x10c294890>,\n",
       "        <matplotlib.axes._subplots.AxesSubplot object at 0x10c3175d0>,\n",
       "        <matplotlib.axes._subplots.AxesSubplot object at 0x10c39b310>,\n",
       "        <matplotlib.axes._subplots.AxesSubplot object at 0x10c40b1d0>,\n",
       "        <matplotlib.axes._subplots.AxesSubplot object at 0x10c482dd0>,\n",
       "        <matplotlib.axes._subplots.AxesSubplot object at 0x10c4e7c50>,\n",
       "        <matplotlib.axes._subplots.AxesSubplot object at 0x10c56c990>,\n",
       "        <matplotlib.axes._subplots.AxesSubplot object at 0x10c50c790>],\n",
       "       [<matplotlib.axes._subplots.AxesSubplot object at 0x10c65f590>,\n",
       "        <matplotlib.axes._subplots.AxesSubplot object at 0x10c6e51d0>,\n",
       "        <matplotlib.axes._subplots.AxesSubplot object at 0x10d049810>,\n",
       "        <matplotlib.axes._subplots.AxesSubplot object at 0x10d0cf550>,\n",
       "        <matplotlib.axes._subplots.AxesSubplot object at 0x10d134190>,\n",
       "        <matplotlib.axes._subplots.AxesSubplot object at 0x10d1b7110>,\n",
       "        <matplotlib.axes._subplots.AxesSubplot object at 0x10d22dd10>,\n",
       "        <matplotlib.axes._subplots.AxesSubplot object at 0x10d29e990>],\n",
       "       [<matplotlib.axes._subplots.AxesSubplot object at 0x10d423910>,\n",
       "        <matplotlib.axes._subplots.AxesSubplot object at 0x10d489650>,\n",
       "        <matplotlib.axes._subplots.AxesSubplot object at 0x10d50b890>,\n",
       "        <matplotlib.axes._subplots.AxesSubplot object at 0x10d4b7ad0>,\n",
       "        <matplotlib.axes._subplots.AxesSubplot object at 0x10d5f3e50>,\n",
       "        <matplotlib.axes._subplots.AxesSubplot object at 0x10d678dd0>,\n",
       "        <matplotlib.axes._subplots.AxesSubplot object at 0x10d6ea3d0>,\n",
       "        <matplotlib.axes._subplots.AxesSubplot object at 0x10d76d110>],\n",
       "       [<matplotlib.axes._subplots.AxesSubplot object at 0x10c49dd10>,\n",
       "        <matplotlib.axes._subplots.AxesSubplot object at 0x10d936590>,\n",
       "        <matplotlib.axes._subplots.AxesSubplot object at 0x10d9bc1d0>,\n",
       "        <matplotlib.axes._subplots.AxesSubplot object at 0x10db1f810>,\n",
       "        <matplotlib.axes._subplots.AxesSubplot object at 0x10dba2550>,\n",
       "        <matplotlib.axes._subplots.AxesSubplot object at 0x10dc0b190>,\n",
       "        <matplotlib.axes._subplots.AxesSubplot object at 0x10dc8c110>,\n",
       "        <matplotlib.axes._subplots.AxesSubplot object at 0x10dd05d10>],\n",
       "       [<matplotlib.axes._subplots.AxesSubplot object at 0x10dd74990>,\n",
       "        <matplotlib.axes._subplots.AxesSubplot object at 0x10ddfa910>,\n",
       "        <matplotlib.axes._subplots.AxesSubplot object at 0x10df60650>,\n",
       "        <matplotlib.axes._subplots.AxesSubplot object at 0x10dfe1890>,\n",
       "        <matplotlib.axes._subplots.AxesSubplot object at 0x10df8ead0>,\n",
       "        <matplotlib.axes._subplots.AxesSubplot object at 0x10e0cae50>,\n",
       "        <matplotlib.axes._subplots.AxesSubplot object at 0x10e24edd0>,\n",
       "        <matplotlib.axes._subplots.AxesSubplot object at 0x10e2bf3d0>]], dtype=object)"
      ]
     },
     "execution_count": 30,
     "metadata": {},
     "output_type": "execute_result"
    },
    {
     "data": {
      "image/png": "[encoded data removed]",
      "text/plain": [
       "<matplotlib.figure.Figure at 0x108856690>"
      ]
     },
     "metadata": {},
     "output_type": "display_data"
    }
   ],
   "source": [
    "scatter_matrix(df[core_features], alpha=0.2, figsize=(16, 16), diagonal='hist', color=colors)"
   ]
  },
  {
   "cell_type": "markdown",
   "metadata": {},
   "source": [
    "The scatter matrix does not show any feature which will clearly separate out active vs. inactive users.  Some features do seem to help.  Thus, we probably have a highly non-linear relationship and should consider a random forest or gradient boosted decision tree, which are ensemble versions of a decision tree.  With a lot of feature engineering, we might be able to get comparable performance from logistic regression.  SVM almost certainly will not work because there is no clear separation of postive and negative calsses.\n",
    "\n",
    "There seems to be some observations where surge_pct = (+/-) weekday_pct.  May merit further investigation or signal a data feed/entry problem."
   ]
  },
  {
   "cell_type": "markdown",
   "metadata": {},
   "source": [
    "### Missing data: EDA\n",
    "\n",
    "The count field shows some columns have missing data.  Let's look into this and figure out how to deal with it."
   ]
  },
  {
   "cell_type": "code",
   "execution_count": 28,
   "metadata": {
    "collapsed": false
   },
   "outputs": [
    {
     "data": {
      "text/plain": [
       "avg_dist                     0\n",
       "avg_rating_by_driver       201\n",
       "avg_rating_of_driver      8122\n",
       "avg_surge                    0\n",
       "city                         0\n",
       "last_trip_date               0\n",
       "phone                        0\n",
       "signup_date                  0\n",
       "surge_pct                    0\n",
       "trips_in_first_30_days       0\n",
       "luxury_car_user              0\n",
       "weekday_pct                  0\n",
       "is_active                    0\n",
       "b_churned                    0\n",
       "signup_year                  0\n",
       "signup_month                 0\n",
       "last_year                    0\n",
       "last_month                   0\n",
       "dtype: int64"
      ]
     },
     "execution_count": 28,
     "metadata": {},
     "output_type": "execute_result"
    }
   ],
   "source": [
    "df.apply(lambda x: np.sum(pd.isnull(x)))"
   ]
  },
  {
   "cell_type": "markdown",
   "metadata": {},
   "source": [
    "So, ~16% of `avg_rating_of_driver` is missing, which means we probably should not drop this data.  Would be nice to just do a simple t-test to see if distribution of features is different for rows with/without missing values.  Here is a helper function:"
   ]
  },
  {
   "cell_type": "code",
   "execution_count": 29,
   "metadata": {
    "collapsed": true
   },
   "outputs": [],
   "source": [
    "def ttest_by(vals, by):\n",
    "    '''Compute a t-test on a column based on an indicator for which sample the values are in.'''\n",
    "    vals1 = vals[by]\n",
    "    vals2 = vals[-by]\n",
    "    \n",
    "    return sp.stats.ttest_ind(vals1, vals2)"
   ]
  },
  {
   "cell_type": "code",
   "execution_count": 30,
   "metadata": {
    "collapsed": false
   },
   "outputs": [
    {
     "data": {
      "text/plain": [
       "(29.754284259108406, 7.407707064855626e-193)"
      ]
     },
     "execution_count": 30,
     "metadata": {},
     "output_type": "execute_result"
    }
   ],
   "source": [
    "ttest_by(df.avg_dist, pd.isnull(df.avg_rating_of_driver))"
   ]
  },
  {
   "cell_type": "code",
   "execution_count": 31,
   "metadata": {
    "collapsed": false
   },
   "outputs": [
    {
     "data": {
      "text/plain": [
       "(0.92179603168389357, 0.35663942563201456)"
      ]
     },
     "execution_count": 31,
     "metadata": {},
     "output_type": "execute_result"
    }
   ],
   "source": [
    "ttest_by(df.avg_dist, pd.isnull(df.avg_rating_by_driver))"
   ]
  },
  {
   "cell_type": "markdown",
   "metadata": {},
   "source": [
    "We can reject H0: of no difference only for case where `avg_rating_by_driver` is missing. Thus, `avg_rating_by_driver` is not missing at random.  Can probably drop data when `phone` or `avg_rating_by_driver` are missing because they are so rare.  We have a couple options for handling missing data: drop the rows if there are only a few or they are missing at random, impute the missing values, or bin the feature by quantiles (typically deciles) + a bin for missing."
   ]
  },
  {
   "cell_type": "code",
   "execution_count": 32,
   "metadata": {
    "collapsed": true
   },
   "outputs": [],
   "source": [
    "df['b_no_rating_of_driver'] = pd.isnull(df.avg_rating_of_driver)"
   ]
  },
  {
   "cell_type": "code",
   "execution_count": 33,
   "metadata": {
    "collapsed": false
   },
   "outputs": [
    {
     "data": {
      "text/plain": [
       "<matplotlib.axes._subplots.AxesSubplot at 0x1088980d0>"
      ]
     },
     "execution_count": 33,
     "metadata": {},
     "output_type": "execute_result"
    },
    {
     "data": {
      "image/png": "[encoded data removed]",
      "text/plain": [
       "<matplotlib.figure.Figure at 0x108949790>"
      ]
     },
     "metadata": {},
     "output_type": "display_data"
    }
   ],
   "source": [
    "df.boxplot('avg_dist', by='b_no_rating_of_driver')"
   ]
  },
  {
   "cell_type": "code",
   "execution_count": 34,
   "metadata": {
    "collapsed": true
   },
   "outputs": [],
   "source": [
    "df2 = df[(pd.notnull(df.avg_rating_by_driver))]"
   ]
  },
  {
   "cell_type": "code",
   "execution_count": 35,
   "metadata": {
    "collapsed": false
   },
   "outputs": [
    {
     "data": {
      "text/plain": [
       "avg_dist                     0\n",
       "avg_rating_by_driver         0\n",
       "avg_rating_of_driver      8055\n",
       "avg_surge                    0\n",
       "city                         0\n",
       "last_trip_date               0\n",
       "phone                        0\n",
       "signup_date                  0\n",
       "surge_pct                    0\n",
       "trips_in_first_30_days       0\n",
       "luxury_car_user              0\n",
       "weekday_pct                  0\n",
       "is_active                    0\n",
       "b_churned                    0\n",
       "signup_year                  0\n",
       "signup_month                 0\n",
       "last_year                    0\n",
       "last_month                   0\n",
       "b_no_rating_of_driver        0\n",
       "dtype: int64"
      ]
     },
     "execution_count": 35,
     "metadata": {},
     "output_type": "execute_result"
    }
   ],
   "source": [
    "df2.apply(lambda x: np.sum(pd.isnull(x)))"
   ]
  },
  {
   "cell_type": "markdown",
   "metadata": {},
   "source": [
    "Check that dropping rows with missing `avg_rating_by_driver` does not remove key observation."
   ]
  },
  {
   "cell_type": "code",
   "execution_count": 36,
   "metadata": {
    "collapsed": false
   },
   "outputs": [
    {
     "data": {
      "text/html": [
       "<div style=\"max-height:1000px;max-width:1500px;overflow:auto;\">\n",
       "<table border=\"1\" class=\"dataframe\">\n",
       "  <thead>\n",
       "    <tr style=\"text-align: right;\">\n",
       "      <th>is_active</th>\n",
       "      <th>False</th>\n",
       "      <th>True</th>\n",
       "    </tr>\n",
       "    <tr>\n",
       "      <th>b_churned</th>\n",
       "      <th></th>\n",
       "      <th></th>\n",
       "    </tr>\n",
       "  </thead>\n",
       "  <tbody>\n",
       "    <tr>\n",
       "      <th>False</th>\n",
       "      <td>0</td>\n",
       "      <td>18310</td>\n",
       "    </tr>\n",
       "    <tr>\n",
       "      <th>True</th>\n",
       "      <td>31690</td>\n",
       "      <td>0</td>\n",
       "    </tr>\n",
       "  </tbody>\n",
       "</table>\n",
       "</div>"
      ],
      "text/plain": [
       "is_active  False  True \n",
       "b_churned              \n",
       "False          0  18310\n",
       "True       31690      0"
      ]
     },
     "execution_count": 36,
     "metadata": {},
     "output_type": "execute_result"
    }
   ],
   "source": [
    "pd.crosstab(df.b_churned, df.is_active) # Simple check"
   ]
  },
  {
   "cell_type": "code",
   "execution_count": 37,
   "metadata": {
    "collapsed": false
   },
   "outputs": [
    {
     "data": {
      "text/html": [
       "<div style=\"max-height:1000px;max-width:1500px;overflow:auto;\">\n",
       "<table border=\"1\" class=\"dataframe\">\n",
       "  <thead>\n",
       "    <tr style=\"text-align: right;\">\n",
       "      <th>is_active</th>\n",
       "      <th>False</th>\n",
       "      <th>True</th>\n",
       "    </tr>\n",
       "    <tr>\n",
       "      <th>b_churned</th>\n",
       "      <th></th>\n",
       "      <th></th>\n",
       "    </tr>\n",
       "  </thead>\n",
       "  <tbody>\n",
       "    <tr>\n",
       "      <th>False</th>\n",
       "      <td>0</td>\n",
       "      <td>18276</td>\n",
       "    </tr>\n",
       "    <tr>\n",
       "      <th>True</th>\n",
       "      <td>31523</td>\n",
       "      <td>0</td>\n",
       "    </tr>\n",
       "  </tbody>\n",
       "</table>\n",
       "</div>"
      ],
      "text/plain": [
       "is_active  False  True \n",
       "b_churned              \n",
       "False          0  18276\n",
       "True       31523      0"
      ]
     },
     "execution_count": 37,
     "metadata": {},
     "output_type": "execute_result"
    }
   ],
   "source": [
    "pd.crosstab(df2.b_churned, df2.is_active) # Simple check"
   ]
  },
  {
   "cell_type": "markdown",
   "metadata": {},
   "source": [
    "We lose `77+34` observations which did not churn, so dropping these missing rows should be fine."
   ]
  },
  {
   "cell_type": "code",
   "execution_count": 38,
   "metadata": {
    "collapsed": false
   },
   "outputs": [],
   "source": [
    "df3 = df[pd.notnull(df.avg_rating_of_driver)]"
   ]
  },
  {
   "cell_type": "code",
   "execution_count": 39,
   "metadata": {
    "collapsed": false
   },
   "outputs": [
    {
     "data": {
      "text/html": [
       "<div style=\"max-height:1000px;max-width:1500px;overflow:auto;\">\n",
       "<table border=\"1\" class=\"dataframe\">\n",
       "  <thead>\n",
       "    <tr style=\"text-align: right;\">\n",
       "      <th>is_active</th>\n",
       "      <th>False</th>\n",
       "      <th>True</th>\n",
       "    </tr>\n",
       "    <tr>\n",
       "      <th>b_churned</th>\n",
       "      <th></th>\n",
       "      <th></th>\n",
       "    </tr>\n",
       "  </thead>\n",
       "  <tbody>\n",
       "    <tr>\n",
       "      <th>False</th>\n",
       "      <td>0</td>\n",
       "      <td>16742</td>\n",
       "    </tr>\n",
       "    <tr>\n",
       "      <th>True</th>\n",
       "      <td>25136</td>\n",
       "      <td>0</td>\n",
       "    </tr>\n",
       "  </tbody>\n",
       "</table>\n",
       "</div>"
      ],
      "text/plain": [
       "is_active  False  True \n",
       "b_churned              \n",
       "False          0  16742\n",
       "True       25136      0"
      ]
     },
     "execution_count": 39,
     "metadata": {},
     "output_type": "execute_result"
    }
   ],
   "source": [
    "pd.crosstab(df3.b_churned, df3.is_active) # Simple check"
   ]
  },
  {
   "cell_type": "markdown",
   "metadata": {},
   "source": [
    "We may be able to drop observations which are missing `avg_rating_of_driver`."
   ]
  },
  {
   "cell_type": "code",
   "execution_count": 40,
   "metadata": {
    "collapsed": false
   },
   "outputs": [
    {
     "data": {
      "text/html": [
       "<div style=\"max-height:1000px;max-width:1500px;overflow:auto;\">\n",
       "<table border=\"1\" class=\"dataframe\">\n",
       "  <thead>\n",
       "    <tr>\n",
       "      <th>b_no_rating_of_driver</th>\n",
       "      <th colspan=\"8\" halign=\"left\">False</th>\n",
       "      <th colspan=\"8\" halign=\"left\">True</th>\n",
       "    </tr>\n",
       "    <tr>\n",
       "      <th></th>\n",
       "      <th>count</th>\n",
       "      <th>mean</th>\n",
       "      <th>std</th>\n",
       "      <th>min</th>\n",
       "      <th>25%</th>\n",
       "      <th>50%</th>\n",
       "      <th>75%</th>\n",
       "      <th>max</th>\n",
       "      <th>count</th>\n",
       "      <th>mean</th>\n",
       "      <th>std</th>\n",
       "      <th>min</th>\n",
       "      <th>25%</th>\n",
       "      <th>50%</th>\n",
       "      <th>75%</th>\n",
       "      <th>max</th>\n",
       "    </tr>\n",
       "  </thead>\n",
       "  <tbody>\n",
       "    <tr>\n",
       "      <th>avg_dist</th>\n",
       "      <td>41878</td>\n",
       "      <td>5.46529</td>\n",
       "      <td>5.151833</td>\n",
       "      <td>0</td>\n",
       "      <td>2.42</td>\n",
       "      <td>3.79</td>\n",
       "      <td>6.49</td>\n",
       "      <td>79.69</td>\n",
       "      <td>8122</td>\n",
       "      <td>7.506267</td>\n",
       "      <td>7.758616</td>\n",
       "      <td>0</td>\n",
       "      <td>2.41</td>\n",
       "      <td>4.715</td>\n",
       "      <td>10.72</td>\n",
       "      <td>160.96</td>\n",
       "    </tr>\n",
       "    <tr>\n",
       "      <th>avg_rating_by_driver</th>\n",
       "      <td>41744</td>\n",
       "      <td>4.776648</td>\n",
       "      <td>0.4041094</td>\n",
       "      <td>1</td>\n",
       "      <td>4.7</td>\n",
       "      <td>5</td>\n",
       "      <td>5</td>\n",
       "      <td>5</td>\n",
       "      <td>8055</td>\n",
       "      <td>4.785984</td>\n",
       "      <td>0.6221221</td>\n",
       "      <td>1</td>\n",
       "      <td>5</td>\n",
       "      <td>5</td>\n",
       "      <td>5</td>\n",
       "      <td>5</td>\n",
       "    </tr>\n",
       "    <tr>\n",
       "      <th>avg_rating_of_driver</th>\n",
       "      <td>41878</td>\n",
       "      <td>4.601559</td>\n",
       "      <td>0.6173385</td>\n",
       "      <td>1</td>\n",
       "      <td>4.3</td>\n",
       "      <td>4.9</td>\n",
       "      <td>5</td>\n",
       "      <td>5</td>\n",
       "      <td>0</td>\n",
       "      <td>NaN</td>\n",
       "      <td>NaN</td>\n",
       "      <td>NaN</td>\n",
       "      <td>NaN</td>\n",
       "      <td>NaN</td>\n",
       "      <td>NaN</td>\n",
       "      <td>NaN</td>\n",
       "    </tr>\n",
       "    <tr>\n",
       "      <th>avg_surge</th>\n",
       "      <td>41878</td>\n",
       "      <td>1.074095</td>\n",
       "      <td>0.2008607</td>\n",
       "      <td>1</td>\n",
       "      <td>1</td>\n",
       "      <td>1</td>\n",
       "      <td>1.07</td>\n",
       "      <td>8</td>\n",
       "      <td>8122</td>\n",
       "      <td>1.07821</td>\n",
       "      <td>0.3103064</td>\n",
       "      <td>1</td>\n",
       "      <td>1</td>\n",
       "      <td>1</td>\n",
       "      <td>1</td>\n",
       "      <td>5</td>\n",
       "    </tr>\n",
       "    <tr>\n",
       "      <th>b_churned</th>\n",
       "      <td>41878</td>\n",
       "      <td>0.6002197</td>\n",
       "      <td>0.4898589</td>\n",
       "      <td>False</td>\n",
       "      <td>0</td>\n",
       "      <td>1</td>\n",
       "      <td>1</td>\n",
       "      <td>True</td>\n",
       "      <td>8122</td>\n",
       "      <td>0.8069441</td>\n",
       "      <td>0.3947208</td>\n",
       "      <td>False</td>\n",
       "      <td>1</td>\n",
       "      <td>1</td>\n",
       "      <td>1</td>\n",
       "      <td>True</td>\n",
       "    </tr>\n",
       "    <tr>\n",
       "      <th>is_active</th>\n",
       "      <td>41878</td>\n",
       "      <td>0.3997803</td>\n",
       "      <td>0.4898589</td>\n",
       "      <td>False</td>\n",
       "      <td>0</td>\n",
       "      <td>0</td>\n",
       "      <td>1</td>\n",
       "      <td>True</td>\n",
       "      <td>8122</td>\n",
       "      <td>0.1930559</td>\n",
       "      <td>0.3947208</td>\n",
       "      <td>False</td>\n",
       "      <td>0</td>\n",
       "      <td>0</td>\n",
       "      <td>0</td>\n",
       "      <td>True</td>\n",
       "    </tr>\n",
       "    <tr>\n",
       "      <th>last_month</th>\n",
       "      <td>41878</td>\n",
       "      <td>4.200368</td>\n",
       "      <td>1.959421</td>\n",
       "      <td>1</td>\n",
       "      <td>2</td>\n",
       "      <td>5</td>\n",
       "      <td>6</td>\n",
       "      <td>7</td>\n",
       "      <td>8122</td>\n",
       "      <td>3.227407</td>\n",
       "      <td>1.964936</td>\n",
       "      <td>1</td>\n",
       "      <td>1</td>\n",
       "      <td>3</td>\n",
       "      <td>5</td>\n",
       "      <td>7</td>\n",
       "    </tr>\n",
       "    <tr>\n",
       "      <th>last_year</th>\n",
       "      <td>41878</td>\n",
       "      <td>2014</td>\n",
       "      <td>0</td>\n",
       "      <td>2014</td>\n",
       "      <td>2014</td>\n",
       "      <td>2014</td>\n",
       "      <td>2014</td>\n",
       "      <td>2014</td>\n",
       "      <td>8122</td>\n",
       "      <td>2014</td>\n",
       "      <td>0</td>\n",
       "      <td>2014</td>\n",
       "      <td>2014</td>\n",
       "      <td>2014</td>\n",
       "      <td>2014</td>\n",
       "      <td>2014</td>\n",
       "    </tr>\n",
       "    <tr>\n",
       "      <th>luxury_car_user</th>\n",
       "      <td>41878</td>\n",
       "      <td>0.3849038</td>\n",
       "      <td>0.4865784</td>\n",
       "      <td>False</td>\n",
       "      <td>0</td>\n",
       "      <td>0</td>\n",
       "      <td>1</td>\n",
       "      <td>True</td>\n",
       "      <td>8122</td>\n",
       "      <td>0.3367397</td>\n",
       "      <td>0.4726241</td>\n",
       "      <td>False</td>\n",
       "      <td>0</td>\n",
       "      <td>0</td>\n",
       "      <td>1</td>\n",
       "      <td>True</td>\n",
       "    </tr>\n",
       "    <tr>\n",
       "      <th>signup_month</th>\n",
       "      <td>41878</td>\n",
       "      <td>1</td>\n",
       "      <td>0</td>\n",
       "      <td>1</td>\n",
       "      <td>1</td>\n",
       "      <td>1</td>\n",
       "      <td>1</td>\n",
       "      <td>1</td>\n",
       "      <td>8122</td>\n",
       "      <td>1</td>\n",
       "      <td>0</td>\n",
       "      <td>1</td>\n",
       "      <td>1</td>\n",
       "      <td>1</td>\n",
       "      <td>1</td>\n",
       "      <td>1</td>\n",
       "    </tr>\n",
       "    <tr>\n",
       "      <th>signup_year</th>\n",
       "      <td>41878</td>\n",
       "      <td>2014</td>\n",
       "      <td>0</td>\n",
       "      <td>2014</td>\n",
       "      <td>2014</td>\n",
       "      <td>2014</td>\n",
       "      <td>2014</td>\n",
       "      <td>2014</td>\n",
       "      <td>8122</td>\n",
       "      <td>2014</td>\n",
       "      <td>0</td>\n",
       "      <td>2014</td>\n",
       "      <td>2014</td>\n",
       "      <td>2014</td>\n",
       "      <td>2014</td>\n",
       "      <td>2014</td>\n",
       "    </tr>\n",
       "    <tr>\n",
       "      <th>surge_pct</th>\n",
       "      <td>41878</td>\n",
       "      <td>8.908004</td>\n",
       "      <td>18.40114</td>\n",
       "      <td>0</td>\n",
       "      <td>0</td>\n",
       "      <td>0</td>\n",
       "      <td>11.1</td>\n",
       "      <td>100</td>\n",
       "      <td>8122</td>\n",
       "      <td>8.548067</td>\n",
       "      <td>26.57846</td>\n",
       "      <td>0</td>\n",
       "      <td>0</td>\n",
       "      <td>0</td>\n",
       "      <td>0</td>\n",
       "      <td>100</td>\n",
       "    </tr>\n",
       "    <tr>\n",
       "      <th>trips_in_first_30_days</th>\n",
       "      <td>41878</td>\n",
       "      <td>2.604972</td>\n",
       "      <td>4.055311</td>\n",
       "      <td>0</td>\n",
       "      <td>0</td>\n",
       "      <td>1</td>\n",
       "      <td>3</td>\n",
       "      <td>125</td>\n",
       "      <td>8122</td>\n",
       "      <td>0.5933268</td>\n",
       "      <td>0.6067549</td>\n",
       "      <td>0</td>\n",
       "      <td>0</td>\n",
       "      <td>1</td>\n",
       "      <td>1</td>\n",
       "      <td>5</td>\n",
       "    </tr>\n",
       "    <tr>\n",
       "      <th>weekday_pct</th>\n",
       "      <td>41878</td>\n",
       "      <td>61.28976</td>\n",
       "      <td>34.85805</td>\n",
       "      <td>0</td>\n",
       "      <td>37.5</td>\n",
       "      <td>66.7</td>\n",
       "      <td>100</td>\n",
       "      <td>100</td>\n",
       "      <td>8122</td>\n",
       "      <td>59.05095</td>\n",
       "      <td>46.85974</td>\n",
       "      <td>0</td>\n",
       "      <td>0</td>\n",
       "      <td>100</td>\n",
       "      <td>100</td>\n",
       "      <td>100</td>\n",
       "    </tr>\n",
       "  </tbody>\n",
       "</table>\n",
       "</div>"
      ],
      "text/plain": [
       "b_no_rating_of_driver   False                                                 \\\n",
       "                        count       mean        std    min   25%   50%   75%   \n",
       "avg_dist                41878    5.46529   5.151833      0  2.42  3.79  6.49   \n",
       "avg_rating_by_driver    41744   4.776648  0.4041094      1   4.7     5     5   \n",
       "avg_rating_of_driver    41878   4.601559  0.6173385      1   4.3   4.9     5   \n",
       "avg_surge               41878   1.074095  0.2008607      1     1     1  1.07   \n",
       "b_churned               41878  0.6002197  0.4898589  False     0     1     1   \n",
       "is_active               41878  0.3997803  0.4898589  False     0     0     1   \n",
       "last_month              41878   4.200368   1.959421      1     2     5     6   \n",
       "last_year               41878       2014          0   2014  2014  2014  2014   \n",
       "luxury_car_user         41878  0.3849038  0.4865784  False     0     0     1   \n",
       "signup_month            41878          1          0      1     1     1     1   \n",
       "signup_year             41878       2014          0   2014  2014  2014  2014   \n",
       "surge_pct               41878   8.908004   18.40114      0     0     0  11.1   \n",
       "trips_in_first_30_days  41878   2.604972   4.055311      0     0     1     3   \n",
       "weekday_pct             41878   61.28976   34.85805      0  37.5  66.7   100   \n",
       "\n",
       "b_no_rating_of_driver         True                                             \\\n",
       "                          max count       mean        std    min   25%    50%   \n",
       "avg_dist                79.69  8122   7.506267   7.758616      0  2.41  4.715   \n",
       "avg_rating_by_driver        5  8055   4.785984  0.6221221      1     5      5   \n",
       "avg_rating_of_driver        5     0        NaN        NaN    NaN   NaN    NaN   \n",
       "avg_surge                   8  8122    1.07821  0.3103064      1     1      1   \n",
       "b_churned                True  8122  0.8069441  0.3947208  False     1      1   \n",
       "is_active                True  8122  0.1930559  0.3947208  False     0      0   \n",
       "last_month                  7  8122   3.227407   1.964936      1     1      3   \n",
       "last_year                2014  8122       2014          0   2014  2014   2014   \n",
       "luxury_car_user          True  8122  0.3367397  0.4726241  False     0      0   \n",
       "signup_month                1  8122          1          0      1     1      1   \n",
       "signup_year              2014  8122       2014          0   2014  2014   2014   \n",
       "surge_pct                 100  8122   8.548067   26.57846      0     0      0   \n",
       "trips_in_first_30_days    125  8122  0.5933268  0.6067549      0     0      1   \n",
       "weekday_pct               100  8122   59.05095   46.85974      0     0    100   \n",
       "\n",
       "b_no_rating_of_driver                  \n",
       "                          75%     max  \n",
       "avg_dist                10.72  160.96  \n",
       "avg_rating_by_driver        5       5  \n",
       "avg_rating_of_driver      NaN     NaN  \n",
       "avg_surge                   1       5  \n",
       "b_churned                   1    True  \n",
       "is_active                   0    True  \n",
       "last_month                  5       7  \n",
       "last_year                2014    2014  \n",
       "luxury_car_user             1    True  \n",
       "signup_month                1       1  \n",
       "signup_year              2014    2014  \n",
       "surge_pct                   0     100  \n",
       "trips_in_first_30_days      1       5  \n",
       "weekday_pct               100     100  "
      ]
     },
     "execution_count": 40,
     "metadata": {},
     "output_type": "execute_result"
    }
   ],
   "source": [
    "df.groupby('b_no_rating_of_driver').describe().T"
   ]
  },
  {
   "cell_type": "markdown",
   "metadata": {},
   "source": [
    "This statistics make it clear that the two populations are different so ratings are almost certainly not _missing at random_."
   ]
  },
  {
   "cell_type": "code",
   "execution_count": 41,
   "metadata": {
    "collapsed": false
   },
   "outputs": [
    {
     "data": {
      "text/html": [
       "<div style=\"max-height:1000px;max-width:1500px;overflow:auto;\">\n",
       "<table border=\"1\" class=\"dataframe\">\n",
       "  <thead>\n",
       "    <tr>\n",
       "      <th>is_active</th>\n",
       "      <th colspan=\"8\" halign=\"left\">False</th>\n",
       "      <th colspan=\"8\" halign=\"left\">True</th>\n",
       "    </tr>\n",
       "    <tr>\n",
       "      <th></th>\n",
       "      <th>count</th>\n",
       "      <th>mean</th>\n",
       "      <th>std</th>\n",
       "      <th>min</th>\n",
       "      <th>25%</th>\n",
       "      <th>50%</th>\n",
       "      <th>75%</th>\n",
       "      <th>max</th>\n",
       "      <th>count</th>\n",
       "      <th>mean</th>\n",
       "      <th>std</th>\n",
       "      <th>min</th>\n",
       "      <th>25%</th>\n",
       "      <th>50%</th>\n",
       "      <th>75%</th>\n",
       "      <th>max</th>\n",
       "    </tr>\n",
       "  </thead>\n",
       "  <tbody>\n",
       "    <tr>\n",
       "      <th>avg_dist</th>\n",
       "      <td>31690</td>\n",
       "      <td>6.188478</td>\n",
       "      <td>6.213027</td>\n",
       "      <td>0</td>\n",
       "      <td>2.32</td>\n",
       "      <td>4.03</td>\n",
       "      <td>7.77</td>\n",
       "      <td>129.89</td>\n",
       "      <td>18310</td>\n",
       "      <td>5.118977</td>\n",
       "      <td>4.627946</td>\n",
       "      <td>0</td>\n",
       "      <td>2.56</td>\n",
       "      <td>3.73</td>\n",
       "      <td>5.88</td>\n",
       "      <td>160.96</td>\n",
       "    </tr>\n",
       "    <tr>\n",
       "      <th>avg_rating_by_driver</th>\n",
       "      <td>31523</td>\n",
       "      <td>4.786876</td>\n",
       "      <td>0.5038687</td>\n",
       "      <td>1</td>\n",
       "      <td>4.8</td>\n",
       "      <td>5</td>\n",
       "      <td>5</td>\n",
       "      <td>5</td>\n",
       "      <td>18276</td>\n",
       "      <td>4.763121</td>\n",
       "      <td>0.3245659</td>\n",
       "      <td>1</td>\n",
       "      <td>4.7</td>\n",
       "      <td>4.8</td>\n",
       "      <td>5</td>\n",
       "      <td>5</td>\n",
       "    </tr>\n",
       "    <tr>\n",
       "      <th>avg_rating_of_driver</th>\n",
       "      <td>25136</td>\n",
       "      <td>4.607018</td>\n",
       "      <td>0.6648156</td>\n",
       "      <td>1</td>\n",
       "      <td>4.4</td>\n",
       "      <td>5</td>\n",
       "      <td>5</td>\n",
       "      <td>5</td>\n",
       "      <td>16742</td>\n",
       "      <td>4.593364</td>\n",
       "      <td>0.538166</td>\n",
       "      <td>1</td>\n",
       "      <td>4.3</td>\n",
       "      <td>4.8</td>\n",
       "      <td>5</td>\n",
       "      <td>5</td>\n",
       "    </tr>\n",
       "    <tr>\n",
       "      <th>avg_surge</th>\n",
       "      <td>31690</td>\n",
       "      <td>1.075367</td>\n",
       "      <td>0.2502193</td>\n",
       "      <td>1</td>\n",
       "      <td>1</td>\n",
       "      <td>1</td>\n",
       "      <td>1</td>\n",
       "      <td>8</td>\n",
       "      <td>18310</td>\n",
       "      <td>1.07372</td>\n",
       "      <td>0.1631831</td>\n",
       "      <td>1</td>\n",
       "      <td>1</td>\n",
       "      <td>1</td>\n",
       "      <td>1.09</td>\n",
       "      <td>4.5</td>\n",
       "    </tr>\n",
       "    <tr>\n",
       "      <th>b_churned</th>\n",
       "      <td>31690</td>\n",
       "      <td>1</td>\n",
       "      <td>0</td>\n",
       "      <td>True</td>\n",
       "      <td>1</td>\n",
       "      <td>1</td>\n",
       "      <td>1</td>\n",
       "      <td>True</td>\n",
       "      <td>18310</td>\n",
       "      <td>0</td>\n",
       "      <td>0</td>\n",
       "      <td>False</td>\n",
       "      <td>0</td>\n",
       "      <td>0</td>\n",
       "      <td>0</td>\n",
       "      <td>False</td>\n",
       "    </tr>\n",
       "    <tr>\n",
       "      <th>b_no_rating_of_driver</th>\n",
       "      <td>31690</td>\n",
       "      <td>0.206816</td>\n",
       "      <td>0.4050288</td>\n",
       "      <td>False</td>\n",
       "      <td>0</td>\n",
       "      <td>0</td>\n",
       "      <td>0</td>\n",
       "      <td>True</td>\n",
       "      <td>18310</td>\n",
       "      <td>0.08563626</td>\n",
       "      <td>0.2798338</td>\n",
       "      <td>False</td>\n",
       "      <td>0</td>\n",
       "      <td>0</td>\n",
       "      <td>0</td>\n",
       "      <td>True</td>\n",
       "    </tr>\n",
       "    <tr>\n",
       "      <th>last_month</th>\n",
       "      <td>31690</td>\n",
       "      <td>2.89391</td>\n",
       "      <td>1.627276</td>\n",
       "      <td>1</td>\n",
       "      <td>1</td>\n",
       "      <td>3</td>\n",
       "      <td>5</td>\n",
       "      <td>6</td>\n",
       "      <td>18310</td>\n",
       "      <td>6.029929</td>\n",
       "      <td>0.1703961</td>\n",
       "      <td>6</td>\n",
       "      <td>6</td>\n",
       "      <td>6</td>\n",
       "      <td>6</td>\n",
       "      <td>7</td>\n",
       "    </tr>\n",
       "    <tr>\n",
       "      <th>last_year</th>\n",
       "      <td>31690</td>\n",
       "      <td>2014</td>\n",
       "      <td>0</td>\n",
       "      <td>2014</td>\n",
       "      <td>2014</td>\n",
       "      <td>2014</td>\n",
       "      <td>2014</td>\n",
       "      <td>2014</td>\n",
       "      <td>18310</td>\n",
       "      <td>2014</td>\n",
       "      <td>0</td>\n",
       "      <td>2014</td>\n",
       "      <td>2014</td>\n",
       "      <td>2014</td>\n",
       "      <td>2014</td>\n",
       "      <td>2014</td>\n",
       "    </tr>\n",
       "    <tr>\n",
       "      <th>luxury_car_user</th>\n",
       "      <td>31690</td>\n",
       "      <td>0.2996213</td>\n",
       "      <td>0.4580993</td>\n",
       "      <td>False</td>\n",
       "      <td>0</td>\n",
       "      <td>0</td>\n",
       "      <td>1</td>\n",
       "      <td>True</td>\n",
       "      <td>18310</td>\n",
       "      <td>0.5111415</td>\n",
       "      <td>0.4998895</td>\n",
       "      <td>False</td>\n",
       "      <td>0</td>\n",
       "      <td>1</td>\n",
       "      <td>1</td>\n",
       "      <td>True</td>\n",
       "    </tr>\n",
       "    <tr>\n",
       "      <th>signup_month</th>\n",
       "      <td>31690</td>\n",
       "      <td>1</td>\n",
       "      <td>0</td>\n",
       "      <td>1</td>\n",
       "      <td>1</td>\n",
       "      <td>1</td>\n",
       "      <td>1</td>\n",
       "      <td>1</td>\n",
       "      <td>18310</td>\n",
       "      <td>1</td>\n",
       "      <td>0</td>\n",
       "      <td>1</td>\n",
       "      <td>1</td>\n",
       "      <td>1</td>\n",
       "      <td>1</td>\n",
       "      <td>1</td>\n",
       "    </tr>\n",
       "    <tr>\n",
       "      <th>signup_year</th>\n",
       "      <td>31690</td>\n",
       "      <td>2014</td>\n",
       "      <td>0</td>\n",
       "      <td>2014</td>\n",
       "      <td>2014</td>\n",
       "      <td>2014</td>\n",
       "      <td>2014</td>\n",
       "      <td>2014</td>\n",
       "      <td>18310</td>\n",
       "      <td>2014</td>\n",
       "      <td>0</td>\n",
       "      <td>2014</td>\n",
       "      <td>2014</td>\n",
       "      <td>2014</td>\n",
       "      <td>2014</td>\n",
       "      <td>2014</td>\n",
       "    </tr>\n",
       "    <tr>\n",
       "      <th>surge_pct</th>\n",
       "      <td>31690</td>\n",
       "      <td>8.688548</td>\n",
       "      <td>22.13221</td>\n",
       "      <td>0</td>\n",
       "      <td>0</td>\n",
       "      <td>0</td>\n",
       "      <td>0</td>\n",
       "      <td>100</td>\n",
       "      <td>18310</td>\n",
       "      <td>9.128165</td>\n",
       "      <td>15.48934</td>\n",
       "      <td>0</td>\n",
       "      <td>0</td>\n",
       "      <td>0</td>\n",
       "      <td>13.3</td>\n",
       "      <td>100</td>\n",
       "    </tr>\n",
       "    <tr>\n",
       "      <th>trips_in_first_30_days</th>\n",
       "      <td>31690</td>\n",
       "      <td>1.659167</td>\n",
       "      <td>2.661903</td>\n",
       "      <td>0</td>\n",
       "      <td>0</td>\n",
       "      <td>1</td>\n",
       "      <td>2</td>\n",
       "      <td>73</td>\n",
       "      <td>18310</td>\n",
       "      <td>3.34959</td>\n",
       "      <td>5.020615</td>\n",
       "      <td>0</td>\n",
       "      <td>0</td>\n",
       "      <td>2</td>\n",
       "      <td>4</td>\n",
       "      <td>125</td>\n",
       "    </tr>\n",
       "    <tr>\n",
       "      <th>weekday_pct</th>\n",
       "      <td>31690</td>\n",
       "      <td>60.1816</td>\n",
       "      <td>40.9857</td>\n",
       "      <td>0</td>\n",
       "      <td>16.7</td>\n",
       "      <td>66.7</td>\n",
       "      <td>100</td>\n",
       "      <td>100</td>\n",
       "      <td>18310</td>\n",
       "      <td>62.2146</td>\n",
       "      <td>29.06832</td>\n",
       "      <td>0</td>\n",
       "      <td>45.5</td>\n",
       "      <td>65.2</td>\n",
       "      <td>85.7</td>\n",
       "      <td>100</td>\n",
       "    </tr>\n",
       "  </tbody>\n",
       "</table>\n",
       "</div>"
      ],
      "text/plain": [
       "is_active               False                                                 \\\n",
       "                        count       mean        std    min   25%   50%   75%   \n",
       "avg_dist                31690   6.188478   6.213027      0  2.32  4.03  7.77   \n",
       "avg_rating_by_driver    31523   4.786876  0.5038687      1   4.8     5     5   \n",
       "avg_rating_of_driver    25136   4.607018  0.6648156      1   4.4     5     5   \n",
       "avg_surge               31690   1.075367  0.2502193      1     1     1     1   \n",
       "b_churned               31690          1          0   True     1     1     1   \n",
       "b_no_rating_of_driver   31690   0.206816  0.4050288  False     0     0     0   \n",
       "last_month              31690    2.89391   1.627276      1     1     3     5   \n",
       "last_year               31690       2014          0   2014  2014  2014  2014   \n",
       "luxury_car_user         31690  0.2996213  0.4580993  False     0     0     1   \n",
       "signup_month            31690          1          0      1     1     1     1   \n",
       "signup_year             31690       2014          0   2014  2014  2014  2014   \n",
       "surge_pct               31690   8.688548   22.13221      0     0     0     0   \n",
       "trips_in_first_30_days  31690   1.659167   2.661903      0     0     1     2   \n",
       "weekday_pct             31690    60.1816    40.9857      0  16.7  66.7   100   \n",
       "\n",
       "is_active                       True                                       \\\n",
       "                           max  count        mean        std    min   25%   \n",
       "avg_dist                129.89  18310    5.118977   4.627946      0  2.56   \n",
       "avg_rating_by_driver         5  18276    4.763121  0.3245659      1   4.7   \n",
       "avg_rating_of_driver         5  16742    4.593364   0.538166      1   4.3   \n",
       "avg_surge                    8  18310     1.07372  0.1631831      1     1   \n",
       "b_churned                 True  18310           0          0  False     0   \n",
       "b_no_rating_of_driver     True  18310  0.08563626  0.2798338  False     0   \n",
       "last_month                   6  18310    6.029929  0.1703961      6     6   \n",
       "last_year                 2014  18310        2014          0   2014  2014   \n",
       "luxury_car_user           True  18310   0.5111415  0.4998895  False     0   \n",
       "signup_month                 1  18310           1          0      1     1   \n",
       "signup_year               2014  18310        2014          0   2014  2014   \n",
       "surge_pct                  100  18310    9.128165   15.48934      0     0   \n",
       "trips_in_first_30_days      73  18310     3.34959   5.020615      0     0   \n",
       "weekday_pct                100  18310     62.2146   29.06832      0  45.5   \n",
       "\n",
       "is_active                                   \n",
       "                         50%   75%     max  \n",
       "avg_dist                3.73  5.88  160.96  \n",
       "avg_rating_by_driver     4.8     5       5  \n",
       "avg_rating_of_driver     4.8     5       5  \n",
       "avg_surge                  1  1.09     4.5  \n",
       "b_churned                  0     0   False  \n",
       "b_no_rating_of_driver      0     0    True  \n",
       "last_month                 6     6       7  \n",
       "last_year               2014  2014    2014  \n",
       "luxury_car_user            1     1    True  \n",
       "signup_month               1     1       1  \n",
       "signup_year             2014  2014    2014  \n",
       "surge_pct                  0  13.3     100  \n",
       "trips_in_first_30_days     2     4     125  \n",
       "weekday_pct             65.2  85.7     100  "
      ]
     },
     "execution_count": 41,
     "metadata": {},
     "output_type": "execute_result"
    }
   ],
   "source": [
    "df.groupby('is_active').describe().T"
   ]
  },
  {
   "cell_type": "markdown",
   "metadata": {},
   "source": [
    "We see that summary statistics vary depending on activity status.  Thus, we are hopeful that the variation in the data will help us build a model."
   ]
  },
  {
   "cell_type": "markdown",
   "metadata": {},
   "source": [
    "### Rating data\n",
    "\n",
    "We need to take a closer look at the rating data because most users rate drivers `5`.  MBAs often worry about *mean opinion score* (MOS).  How the app works can affect ratings. E.g., for Uber, if you rate a driver below `4`, you must then explain why.  Consequently, many people don't rate drivers below `4` even if they are horrible.  Be mindful of the incentives which can affect human behavior."
   ]
  },
  {
   "cell_type": "code",
   "execution_count": 70,
   "metadata": {
    "collapsed": false
   },
   "outputs": [
    {
     "data": {
      "text/plain": [
       "array([<matplotlib.axes._subplots.AxesSubplot object at 0x10c8f1790>,\n",
       "       <matplotlib.axes._subplots.AxesSubplot object at 0x10cb0ce10>], dtype=object)"
      ]
     },
     "execution_count": 70,
     "metadata": {},
     "output_type": "execute_result"
    },
    {
     "data": {
      "image/png": "[encoded data removed]",
      "text/plain": [
       "<matplotlib.figure.Figure at 0x10c900210>"
      ]
     },
     "metadata": {},
     "output_type": "display_data"
    }
   ],
   "source": [
    "df.avg_rating_by_driver.hist(bins=50, histtype='bar', by=df.is_active, stacked=True)"
   ]
  },
  {
   "cell_type": "code",
   "execution_count": 79,
   "metadata": {
    "collapsed": false
   },
   "outputs": [
    {
     "data": {
      "text/plain": [
       "array([<matplotlib.axes._subplots.AxesSubplot object at 0x10a5adbd0>,\n",
       "       <matplotlib.axes._subplots.AxesSubplot object at 0x10c480690>], dtype=object)"
      ]
     },
     "execution_count": 79,
     "metadata": {},
     "output_type": "execute_result"
    },
    {
     "data": {
      "image/png": "[encoded data removed]",
      "text/plain": [
       "<matplotlib.figure.Figure at 0x10d64a850>"
      ]
     },
     "metadata": {},
     "output_type": "display_data"
    }
   ],
   "source": [
    "df.avg_rating_of_driver.hist(bins=50, histtype='bar', by=df.is_active, stacked=True)"
   ]
  },
  {
   "cell_type": "markdown",
   "metadata": {},
   "source": [
    "Many users clearly only rate drivers `5` and, conversely, many drivers only rate users `5`.  Note the spike at `4` because many users don't want the hassle of explaining why they rated a driver below `4`."
   ]
  },
  {
   "cell_type": "code",
   "execution_count": 89,
   "metadata": {
    "collapsed": false
   },
   "outputs": [],
   "source": [
    "df['b_rating_5'] = df.avg_rating_of_driver == 5"
   ]
  },
  {
   "cell_type": "code",
   "execution_count": 90,
   "metadata": {
    "collapsed": false
   },
   "outputs": [
    {
     "data": {
      "text/html": [
       "<div style=\"max-height:1000px;max-width:1500px;overflow:auto;\">\n",
       "<table border=\"1\" class=\"dataframe\">\n",
       "  <thead>\n",
       "    <tr style=\"text-align: right;\">\n",
       "      <th></th>\n",
       "      <th>False</th>\n",
       "      <th>True</th>\n",
       "      <th>All</th>\n",
       "    </tr>\n",
       "    <tr>\n",
       "      <th>b_rating_5</th>\n",
       "      <th></th>\n",
       "      <th></th>\n",
       "      <th></th>\n",
       "    </tr>\n",
       "  </thead>\n",
       "  <tbody>\n",
       "    <tr>\n",
       "      <th>False</th>\n",
       "      <td>17134</td>\n",
       "      <td>12095</td>\n",
       "      <td>29229</td>\n",
       "    </tr>\n",
       "    <tr>\n",
       "      <th>True</th>\n",
       "      <td>14556</td>\n",
       "      <td>6215</td>\n",
       "      <td>20771</td>\n",
       "    </tr>\n",
       "    <tr>\n",
       "      <th>All</th>\n",
       "      <td>31690</td>\n",
       "      <td>18310</td>\n",
       "      <td>50000</td>\n",
       "    </tr>\n",
       "  </tbody>\n",
       "</table>\n",
       "</div>"
      ],
      "text/plain": [
       "            False   True    All\n",
       "b_rating_5                     \n",
       "False       17134  12095  29229\n",
       "True        14556   6215  20771\n",
       "All         31690  18310  50000"
      ]
     },
     "execution_count": 90,
     "metadata": {},
     "output_type": "execute_result"
    }
   ],
   "source": [
    "pd.crosstab(df.b_rating_5, df.is_active, dropna=False, margins=True)"
   ]
  },
  {
   "cell_type": "markdown",
   "metadata": {},
   "source": [
    "Note: 51% of active users always rate drivers `5` vs. 85% of inactive users.  We will worry more about this during feature engineering."
   ]
  },
  {
   "cell_type": "markdown",
   "metadata": {},
   "source": [
    "### Missing data: solution\n",
    "\n",
    "We have two main options: \n",
    "\n",
    "1.  Use `df3` where we have dropped rows which are missing rating information.  \n",
    "2.  Quantize features with missing data, but use full data set, `df`.  Add missing bin value for quantized features.  Typically, use deciles."
   ]
  },
  {
   "cell_type": "markdown",
   "metadata": {},
   "source": [
    "Because a significant fraction of people only give out a rating of `5` and there are disincentives to give a rating below `4`, we choose appropriate cuts below.  If data was distributed more smoothly, we would cut by quantile.  Note that the way we setup the cuts, the top bin contains only ratings whose average is `5`: thus, we do not need the `b_rating_5` field."
   ]
  },
  {
   "cell_type": "code",
   "execution_count": 117,
   "metadata": {
    "collapsed": true
   },
   "outputs": [],
   "source": [
    "df['bin_avg_rating_by_driver'] = pd.cut(df.avg_rating_by_driver, bins=[0., 2.99, 3.99, 4.99, 5], \n",
    "                                        include_lowest=True, right=True)\n",
    "df['bin_avg_rating_of_driver'] = pd.cut(df.avg_rating_of_driver, bins=[0., 2.99, 3.99, 4.99, 5], \n",
    "                                        include_lowest=True, right=True)"
   ]
  },
  {
   "cell_type": "code",
   "execution_count": 121,
   "metadata": {
    "collapsed": false
   },
   "outputs": [
    {
     "data": {
      "text/html": [
       "<div style=\"max-height:1000px;max-width:1500px;overflow:auto;\">\n",
       "<table border=\"1\" class=\"dataframe\">\n",
       "  <thead>\n",
       "    <tr style=\"text-align: right;\">\n",
       "      <th>b_rating_5</th>\n",
       "      <th>False</th>\n",
       "      <th>True</th>\n",
       "    </tr>\n",
       "    <tr>\n",
       "      <th>bin_avg_rating_by_driver</th>\n",
       "      <th></th>\n",
       "      <th></th>\n",
       "    </tr>\n",
       "  </thead>\n",
       "  <tbody>\n",
       "    <tr>\n",
       "      <th>[0, 2.99]</th>\n",
       "      <td>232</td>\n",
       "      <td>116</td>\n",
       "    </tr>\n",
       "    <tr>\n",
       "      <th>(2.99, 3.99]</th>\n",
       "      <td>753</td>\n",
       "      <td>468</td>\n",
       "    </tr>\n",
       "    <tr>\n",
       "      <th>(3.99, 4.99]</th>\n",
       "      <td>13621</td>\n",
       "      <td>6101</td>\n",
       "    </tr>\n",
       "    <tr>\n",
       "      <th>(4.99, 5]</th>\n",
       "      <td>14519</td>\n",
       "      <td>13989</td>\n",
       "    </tr>\n",
       "  </tbody>\n",
       "</table>\n",
       "</div>"
      ],
      "text/plain": [
       "b_rating_5                False  True \n",
       "bin_avg_rating_by_driver              \n",
       "[0, 2.99]                   232    116\n",
       "(2.99, 3.99]                753    468\n",
       "(3.99, 4.99]              13621   6101\n",
       "(4.99, 5]                 14519  13989"
      ]
     },
     "execution_count": 121,
     "metadata": {},
     "output_type": "execute_result"
    }
   ],
   "source": [
    "pd.crosstab(df.bin_avg_rating_by_driver, df.b_rating_5)"
   ]
  },
  {
   "cell_type": "code",
   "execution_count": 122,
   "metadata": {
    "collapsed": false
   },
   "outputs": [
    {
     "data": {
      "text/html": [
       "<div style=\"max-height:1000px;max-width:1500px;overflow:auto;\">\n",
       "<table border=\"1\" class=\"dataframe\">\n",
       "  <thead>\n",
       "    <tr style=\"text-align: right;\">\n",
       "      <th>is_active</th>\n",
       "      <th>False</th>\n",
       "      <th>True</th>\n",
       "    </tr>\n",
       "    <tr>\n",
       "      <th>bin_avg_rating_by_driver</th>\n",
       "      <th></th>\n",
       "      <th></th>\n",
       "    </tr>\n",
       "  </thead>\n",
       "  <tbody>\n",
       "    <tr>\n",
       "      <th>[0, 2.99]</th>\n",
       "      <td>309</td>\n",
       "      <td>39</td>\n",
       "    </tr>\n",
       "    <tr>\n",
       "      <th>(2.99, 3.99]</th>\n",
       "      <td>948</td>\n",
       "      <td>273</td>\n",
       "    </tr>\n",
       "    <tr>\n",
       "      <th>(3.99, 4.99]</th>\n",
       "      <td>8428</td>\n",
       "      <td>11294</td>\n",
       "    </tr>\n",
       "    <tr>\n",
       "      <th>(4.99, 5]</th>\n",
       "      <td>21838</td>\n",
       "      <td>6670</td>\n",
       "    </tr>\n",
       "  </tbody>\n",
       "</table>\n",
       "</div>"
      ],
      "text/plain": [
       "is_active                 False  True \n",
       "bin_avg_rating_by_driver              \n",
       "[0, 2.99]                   309     39\n",
       "(2.99, 3.99]                948    273\n",
       "(3.99, 4.99]               8428  11294\n",
       "(4.99, 5]                 21838   6670"
      ]
     },
     "execution_count": 122,
     "metadata": {},
     "output_type": "execute_result"
    }
   ],
   "source": [
    "pd.crosstab(df.bin_avg_rating_by_driver, df.is_active)"
   ]
  },
  {
   "cell_type": "code",
   "execution_count": 123,
   "metadata": {
    "collapsed": false
   },
   "outputs": [
    {
     "data": {
      "text/html": [
       "<div style=\"max-height:1000px;max-width:1500px;overflow:auto;\">\n",
       "<table border=\"1\" class=\"dataframe\">\n",
       "  <thead>\n",
       "    <tr style=\"text-align: right;\">\n",
       "      <th>b_rating_5</th>\n",
       "      <th>False</th>\n",
       "      <th>True</th>\n",
       "    </tr>\n",
       "    <tr>\n",
       "      <th>bin_avg_rating_of_driver</th>\n",
       "      <th></th>\n",
       "      <th></th>\n",
       "    </tr>\n",
       "  </thead>\n",
       "  <tbody>\n",
       "    <tr>\n",
       "      <th>[0, 2.99]</th>\n",
       "      <td>701</td>\n",
       "      <td>0</td>\n",
       "    </tr>\n",
       "    <tr>\n",
       "      <th>(2.99, 3.99]</th>\n",
       "      <td>3111</td>\n",
       "      <td>0</td>\n",
       "    </tr>\n",
       "    <tr>\n",
       "      <th>(3.99, 4.99]</th>\n",
       "      <td>17295</td>\n",
       "      <td>0</td>\n",
       "    </tr>\n",
       "    <tr>\n",
       "      <th>(4.99, 5]</th>\n",
       "      <td>0</td>\n",
       "      <td>20771</td>\n",
       "    </tr>\n",
       "  </tbody>\n",
       "</table>\n",
       "</div>"
      ],
      "text/plain": [
       "b_rating_5                False  True \n",
       "bin_avg_rating_of_driver              \n",
       "[0, 2.99]                   701      0\n",
       "(2.99, 3.99]               3111      0\n",
       "(3.99, 4.99]              17295      0\n",
       "(4.99, 5]                     0  20771"
      ]
     },
     "execution_count": 123,
     "metadata": {},
     "output_type": "execute_result"
    }
   ],
   "source": [
    "pd.crosstab(df.bin_avg_rating_of_driver, df.b_rating_5)"
   ]
  },
  {
   "cell_type": "code",
   "execution_count": 124,
   "metadata": {
    "collapsed": false
   },
   "outputs": [
    {
     "data": {
      "text/html": [
       "<div style=\"max-height:1000px;max-width:1500px;overflow:auto;\">\n",
       "<table border=\"1\" class=\"dataframe\">\n",
       "  <thead>\n",
       "    <tr style=\"text-align: right;\">\n",
       "      <th>b_rating_5</th>\n",
       "      <th>False</th>\n",
       "      <th>True</th>\n",
       "    </tr>\n",
       "    <tr>\n",
       "      <th>bin_avg_rating_of_driver</th>\n",
       "      <th></th>\n",
       "      <th></th>\n",
       "    </tr>\n",
       "  </thead>\n",
       "  <tbody>\n",
       "    <tr>\n",
       "      <th>[0, 2.99]</th>\n",
       "      <td>701</td>\n",
       "      <td>0</td>\n",
       "    </tr>\n",
       "    <tr>\n",
       "      <th>(2.99, 3.99]</th>\n",
       "      <td>3111</td>\n",
       "      <td>0</td>\n",
       "    </tr>\n",
       "    <tr>\n",
       "      <th>(3.99, 4.99]</th>\n",
       "      <td>17295</td>\n",
       "      <td>0</td>\n",
       "    </tr>\n",
       "    <tr>\n",
       "      <th>(4.99, 5]</th>\n",
       "      <td>0</td>\n",
       "      <td>20771</td>\n",
       "    </tr>\n",
       "  </tbody>\n",
       "</table>\n",
       "</div>"
      ],
      "text/plain": [
       "b_rating_5                False  True \n",
       "bin_avg_rating_of_driver              \n",
       "[0, 2.99]                   701      0\n",
       "(2.99, 3.99]               3111      0\n",
       "(3.99, 4.99]              17295      0\n",
       "(4.99, 5]                     0  20771"
      ]
     },
     "execution_count": 124,
     "metadata": {},
     "output_type": "execute_result"
    }
   ],
   "source": [
    "pd.crosstab(df.bin_avg_rating_of_driver, df.b_rating_5)"
   ]
  },
  {
   "cell_type": "code",
   "execution_count": 126,
   "metadata": {
    "collapsed": false
   },
   "outputs": [],
   "source": [
    "df.bin_avg_rating_by_driver.cat.add_categories('missing', inplace=True)\n",
    "df.bin_avg_rating_of_driver.cat.add_categories('missing', inplace=True)"
   ]
  },
  {
   "cell_type": "code",
   "execution_count": 129,
   "metadata": {
    "collapsed": false
   },
   "outputs": [],
   "source": [
    "df.bin_avg_rating_by_driver.fillna('missing', inplace=True)\n",
    "df.bin_avg_rating_of_driver.fillna('missing', inplace=True)"
   ]
  },
  {
   "cell_type": "code",
   "execution_count": 130,
   "metadata": {
    "collapsed": false
   },
   "outputs": [
    {
     "data": {
      "text/html": [
       "<div style=\"max-height:1000px;max-width:1500px;overflow:auto;\">\n",
       "<table border=\"1\" class=\"dataframe\">\n",
       "  <thead>\n",
       "    <tr style=\"text-align: right;\">\n",
       "      <th>bin_avg_rating_of_driver</th>\n",
       "      <th>[0, 2.99]</th>\n",
       "      <th>(2.99, 3.99]</th>\n",
       "      <th>(3.99, 4.99]</th>\n",
       "      <th>(4.99, 5]</th>\n",
       "      <th>missing</th>\n",
       "    </tr>\n",
       "    <tr>\n",
       "      <th>bin_avg_rating_by_driver</th>\n",
       "      <th></th>\n",
       "      <th></th>\n",
       "      <th></th>\n",
       "      <th></th>\n",
       "      <th></th>\n",
       "    </tr>\n",
       "  </thead>\n",
       "  <tbody>\n",
       "    <tr>\n",
       "      <th>[0, 2.99]</th>\n",
       "      <td>23</td>\n",
       "      <td>25</td>\n",
       "      <td>39</td>\n",
       "      <td>116</td>\n",
       "      <td>145</td>\n",
       "    </tr>\n",
       "    <tr>\n",
       "      <th>(2.99, 3.99]</th>\n",
       "      <td>52</td>\n",
       "      <td>125</td>\n",
       "      <td>319</td>\n",
       "      <td>468</td>\n",
       "      <td>257</td>\n",
       "    </tr>\n",
       "    <tr>\n",
       "      <th>(3.99, 4.99]</th>\n",
       "      <td>236</td>\n",
       "      <td>1757</td>\n",
       "      <td>10721</td>\n",
       "      <td>6101</td>\n",
       "      <td>907</td>\n",
       "    </tr>\n",
       "    <tr>\n",
       "      <th>(4.99, 5]</th>\n",
       "      <td>382</td>\n",
       "      <td>1196</td>\n",
       "      <td>6195</td>\n",
       "      <td>13989</td>\n",
       "      <td>6746</td>\n",
       "    </tr>\n",
       "    <tr>\n",
       "      <th>missing</th>\n",
       "      <td>8</td>\n",
       "      <td>8</td>\n",
       "      <td>21</td>\n",
       "      <td>97</td>\n",
       "      <td>67</td>\n",
       "    </tr>\n",
       "  </tbody>\n",
       "</table>\n",
       "</div>"
      ],
      "text/plain": [
       "bin_avg_rating_of_driver  [0, 2.99]  (2.99, 3.99]  (3.99, 4.99]  (4.99, 5]  \\\n",
       "bin_avg_rating_by_driver                                                     \n",
       "[0, 2.99]                        23            25            39        116   \n",
       "(2.99, 3.99]                     52           125           319        468   \n",
       "(3.99, 4.99]                    236          1757         10721       6101   \n",
       "(4.99, 5]                       382          1196          6195      13989   \n",
       "missing                           8             8            21         97   \n",
       "\n",
       "bin_avg_rating_of_driver  missing  \n",
       "bin_avg_rating_by_driver           \n",
       "[0, 2.99]                     145  \n",
       "(2.99, 3.99]                  257  \n",
       "(3.99, 4.99]                  907  \n",
       "(4.99, 5]                    6746  \n",
       "missing                        67  "
      ]
     },
     "execution_count": 130,
     "metadata": {},
     "output_type": "execute_result"
    }
   ],
   "source": [
    "pd.crosstab(df.bin_avg_rating_by_driver, df.bin_avg_rating_of_driver)"
   ]
  },
  {
   "cell_type": "markdown",
   "metadata": {},
   "source": [
    "Now these fields are binned with a level for missing.  Convert to dummy variables."
   ]
  },
  {
   "cell_type": "code",
   "execution_count": 132,
   "metadata": {
    "collapsed": false
   },
   "outputs": [
    {
     "data": {
      "text/html": [
       "<div style=\"max-height:1000px;max-width:1500px;overflow:auto;\">\n",
       "<table border=\"1\" class=\"dataframe\">\n",
       "  <thead>\n",
       "    <tr style=\"text-align: right;\">\n",
       "      <th></th>\n",
       "      <th>[0, 2.99]</th>\n",
       "      <th>(2.99, 3.99]</th>\n",
       "      <th>(3.99, 4.99]</th>\n",
       "      <th>(4.99, 5]</th>\n",
       "      <th>missing</th>\n",
       "    </tr>\n",
       "  </thead>\n",
       "  <tbody>\n",
       "    <tr>\n",
       "      <th>0</th>\n",
       "      <td>49652</td>\n",
       "      <td>48779</td>\n",
       "      <td>30278</td>\n",
       "      <td>21492</td>\n",
       "      <td>49799</td>\n",
       "    </tr>\n",
       "    <tr>\n",
       "      <th>1</th>\n",
       "      <td>348</td>\n",
       "      <td>1221</td>\n",
       "      <td>19722</td>\n",
       "      <td>28508</td>\n",
       "      <td>201</td>\n",
       "    </tr>\n",
       "  </tbody>\n",
       "</table>\n",
       "</div>"
      ],
      "text/plain": [
       "   [0, 2.99]  (2.99, 3.99]  (3.99, 4.99]  (4.99, 5]  missing\n",
       "0      49652         48779         30278      21492    49799\n",
       "1        348          1221         19722      28508      201"
      ]
     },
     "execution_count": 132,
     "metadata": {},
     "output_type": "execute_result"
    }
   ],
   "source": [
    "df_dum_by = pd.get_dummies(df.bin_avg_rating_by_driver)\n",
    "df_dum_by.apply(lambda x: x.value_counts())"
   ]
  },
  {
   "cell_type": "code",
   "execution_count": 133,
   "metadata": {
    "collapsed": false
   },
   "outputs": [],
   "source": [
    "df_dum_by.columns = map(lambda x: 'bin_by_driver_' + str(x), df_dum_by.columns)"
   ]
  },
  {
   "cell_type": "code",
   "execution_count": 134,
   "metadata": {
    "collapsed": false
   },
   "outputs": [
    {
     "data": {
      "text/html": [
       "<div style=\"max-height:1000px;max-width:1500px;overflow:auto;\">\n",
       "<table border=\"1\" class=\"dataframe\">\n",
       "  <thead>\n",
       "    <tr style=\"text-align: right;\">\n",
       "      <th></th>\n",
       "      <th>[0, 2.99]</th>\n",
       "      <th>(2.99, 3.99]</th>\n",
       "      <th>(3.99, 4.99]</th>\n",
       "      <th>(4.99, 5]</th>\n",
       "      <th>missing</th>\n",
       "    </tr>\n",
       "  </thead>\n",
       "  <tbody>\n",
       "    <tr>\n",
       "      <th>0</th>\n",
       "      <td>49299</td>\n",
       "      <td>46889</td>\n",
       "      <td>32705</td>\n",
       "      <td>29229</td>\n",
       "      <td>41878</td>\n",
       "    </tr>\n",
       "    <tr>\n",
       "      <th>1</th>\n",
       "      <td>701</td>\n",
       "      <td>3111</td>\n",
       "      <td>17295</td>\n",
       "      <td>20771</td>\n",
       "      <td>8122</td>\n",
       "    </tr>\n",
       "  </tbody>\n",
       "</table>\n",
       "</div>"
      ],
      "text/plain": [
       "   [0, 2.99]  (2.99, 3.99]  (3.99, 4.99]  (4.99, 5]  missing\n",
       "0      49299         46889         32705      29229    41878\n",
       "1        701          3111         17295      20771     8122"
      ]
     },
     "execution_count": 134,
     "metadata": {},
     "output_type": "execute_result"
    }
   ],
   "source": [
    "df_dum_of = pd.get_dummies(df.bin_avg_rating_of_driver)\n",
    "df_dum_of.apply(lambda x: x.value_counts())"
   ]
  },
  {
   "cell_type": "code",
   "execution_count": 135,
   "metadata": {
    "collapsed": true
   },
   "outputs": [],
   "source": [
    "df_dum_of.columns = map(lambda x: 'bin_of_driver_' + str(x), df_dum_of.columns)"
   ]
  },
  {
   "cell_type": "code",
   "execution_count": 136,
   "metadata": {
    "collapsed": true
   },
   "outputs": [],
   "source": [
    "df_dum_phone = pd.get_dummies(df.phone)"
   ]
  },
  {
   "cell_type": "code",
   "execution_count": 137,
   "metadata": {
    "collapsed": true
   },
   "outputs": [],
   "source": [
    "df_dum_city = pd.get_dummies(df.city)"
   ]
  },
  {
   "cell_type": "markdown",
   "metadata": {},
   "source": [
    "Assemble data into complete DataFrame"
   ]
  },
  {
   "cell_type": "code",
   "execution_count": 175,
   "metadata": {
    "collapsed": false
   },
   "outputs": [
    {
     "name": "stdout",
     "output_type": "stream",
     "text": [
      "<class 'pandas.core.frame.DataFrame'>\n",
      "Int64Index: 50000 entries, 0 to 49999\n",
      "Data columns (total 22 columns):\n",
      "avg_dist                      50000 non-null float64\n",
      "Android                       50000 non-null float64\n",
      "iPhone                        50000 non-null float64\n",
      "no_phone                      50000 non-null float64\n",
      "Astapor                       50000 non-null float64\n",
      "King's Landing                50000 non-null float64\n",
      "Winterfell                    50000 non-null float64\n",
      "surge_pct                     50000 non-null float64\n",
      "trips_in_first_30_days        50000 non-null int64\n",
      "luxury_car_user               50000 non-null bool\n",
      "weekday_pct                   50000 non-null float64\n",
      "is_active                     50000 non-null bool\n",
      "bin_by_driver_[0, 2.99]       50000 non-null float64\n",
      "bin_by_driver_(2.99, 3.99]    50000 non-null float64\n",
      "bin_by_driver_(3.99, 4.99]    50000 non-null float64\n",
      "bin_by_driver_(4.99, 5]       50000 non-null float64\n",
      "bin_by_driver_missing         50000 non-null float64\n",
      "bin_of_driver_[0, 2.99]       50000 non-null float64\n",
      "bin_of_driver_(2.99, 3.99]    50000 non-null float64\n",
      "bin_of_driver_(3.99, 4.99]    50000 non-null float64\n",
      "bin_of_driver_(4.99, 5]       50000 non-null float64\n",
      "bin_of_driver_missing         50000 non-null float64\n",
      "dtypes: bool(2), float64(19), int64(1)\n",
      "memory usage: 8.1 MB\n"
     ]
    }
   ],
   "source": [
    "df_all = pd.concat([df.avg_dist, df_dum_phone, df_dum_city, df.ix[:, \n",
    "                    ['surge_pct', 'trips_in_first_30_days', 'luxury_car_user', \n",
    "                     'weekday_pct', 'is_active']], df_dum_by, df_dum_of], axis=1)\n",
    "df_all.info()"
   ]
  },
  {
   "cell_type": "code",
   "execution_count": 176,
   "metadata": {
    "collapsed": false
   },
   "outputs": [
    {
     "data": {
      "text/html": [
       "<div style=\"max-height:1000px;max-width:1500px;overflow:auto;\">\n",
       "<table border=\"1\" class=\"dataframe\">\n",
       "  <thead>\n",
       "    <tr style=\"text-align: right;\">\n",
       "      <th></th>\n",
       "      <th>count</th>\n",
       "      <th>mean</th>\n",
       "      <th>std</th>\n",
       "      <th>min</th>\n",
       "      <th>25%</th>\n",
       "      <th>50%</th>\n",
       "      <th>75%</th>\n",
       "      <th>max</th>\n",
       "    </tr>\n",
       "  </thead>\n",
       "  <tbody>\n",
       "    <tr>\n",
       "      <th>avg_dist</th>\n",
       "      <td>50000</td>\n",
       "      <td>5.796827</td>\n",
       "      <td>5.707357</td>\n",
       "      <td>0</td>\n",
       "      <td>2.42</td>\n",
       "      <td>3.88</td>\n",
       "      <td>6.94</td>\n",
       "      <td>160.96</td>\n",
       "    </tr>\n",
       "    <tr>\n",
       "      <th>Android</th>\n",
       "      <td>50000</td>\n",
       "      <td>0.30044</td>\n",
       "      <td>0.4584539</td>\n",
       "      <td>0</td>\n",
       "      <td>0</td>\n",
       "      <td>0</td>\n",
       "      <td>1</td>\n",
       "      <td>1</td>\n",
       "    </tr>\n",
       "    <tr>\n",
       "      <th>iPhone</th>\n",
       "      <td>50000</td>\n",
       "      <td>0.69164</td>\n",
       "      <td>0.4618207</td>\n",
       "      <td>0</td>\n",
       "      <td>0</td>\n",
       "      <td>1</td>\n",
       "      <td>1</td>\n",
       "      <td>1</td>\n",
       "    </tr>\n",
       "    <tr>\n",
       "      <th>no_phone</th>\n",
       "      <td>50000</td>\n",
       "      <td>0.00792</td>\n",
       "      <td>0.08864215</td>\n",
       "      <td>0</td>\n",
       "      <td>0</td>\n",
       "      <td>0</td>\n",
       "      <td>0</td>\n",
       "      <td>1</td>\n",
       "    </tr>\n",
       "    <tr>\n",
       "      <th>Astapor</th>\n",
       "      <td>50000</td>\n",
       "      <td>0.33068</td>\n",
       "      <td>0.4704627</td>\n",
       "      <td>0</td>\n",
       "      <td>0</td>\n",
       "      <td>0</td>\n",
       "      <td>1</td>\n",
       "      <td>1</td>\n",
       "    </tr>\n",
       "    <tr>\n",
       "      <th>King's Landing</th>\n",
       "      <td>50000</td>\n",
       "      <td>0.2026</td>\n",
       "      <td>0.4019409</td>\n",
       "      <td>0</td>\n",
       "      <td>0</td>\n",
       "      <td>0</td>\n",
       "      <td>0</td>\n",
       "      <td>1</td>\n",
       "    </tr>\n",
       "    <tr>\n",
       "      <th>Winterfell</th>\n",
       "      <td>50000</td>\n",
       "      <td>0.46672</td>\n",
       "      <td>0.4988962</td>\n",
       "      <td>0</td>\n",
       "      <td>0</td>\n",
       "      <td>0</td>\n",
       "      <td>1</td>\n",
       "      <td>1</td>\n",
       "    </tr>\n",
       "    <tr>\n",
       "      <th>surge_pct</th>\n",
       "      <td>50000</td>\n",
       "      <td>8.849536</td>\n",
       "      <td>19.95881</td>\n",
       "      <td>0</td>\n",
       "      <td>0</td>\n",
       "      <td>0</td>\n",
       "      <td>8.6</td>\n",
       "      <td>100</td>\n",
       "    </tr>\n",
       "    <tr>\n",
       "      <th>trips_in_first_30_days</th>\n",
       "      <td>50000</td>\n",
       "      <td>2.2782</td>\n",
       "      <td>3.792684</td>\n",
       "      <td>0</td>\n",
       "      <td>0</td>\n",
       "      <td>1</td>\n",
       "      <td>3</td>\n",
       "      <td>125</td>\n",
       "    </tr>\n",
       "    <tr>\n",
       "      <th>luxury_car_user</th>\n",
       "      <td>50000</td>\n",
       "      <td>0.37708</td>\n",
       "      <td>0.4846601</td>\n",
       "      <td>False</td>\n",
       "      <td>0</td>\n",
       "      <td>0</td>\n",
       "      <td>1</td>\n",
       "      <td>True</td>\n",
       "    </tr>\n",
       "    <tr>\n",
       "      <th>weekday_pct</th>\n",
       "      <td>50000</td>\n",
       "      <td>60.92608</td>\n",
       "      <td>37.0815</td>\n",
       "      <td>0</td>\n",
       "      <td>33.3</td>\n",
       "      <td>66.7</td>\n",
       "      <td>100</td>\n",
       "      <td>100</td>\n",
       "    </tr>\n",
       "    <tr>\n",
       "      <th>is_active</th>\n",
       "      <td>50000</td>\n",
       "      <td>0.3662</td>\n",
       "      <td>0.4817699</td>\n",
       "      <td>False</td>\n",
       "      <td>0</td>\n",
       "      <td>0</td>\n",
       "      <td>1</td>\n",
       "      <td>True</td>\n",
       "    </tr>\n",
       "    <tr>\n",
       "      <th>bin_by_driver_[0, 2.99]</th>\n",
       "      <td>50000</td>\n",
       "      <td>0.00696</td>\n",
       "      <td>0.08313661</td>\n",
       "      <td>0</td>\n",
       "      <td>0</td>\n",
       "      <td>0</td>\n",
       "      <td>0</td>\n",
       "      <td>1</td>\n",
       "    </tr>\n",
       "    <tr>\n",
       "      <th>bin_by_driver_(2.99, 3.99]</th>\n",
       "      <td>50000</td>\n",
       "      <td>0.02442</td>\n",
       "      <td>0.1543507</td>\n",
       "      <td>0</td>\n",
       "      <td>0</td>\n",
       "      <td>0</td>\n",
       "      <td>0</td>\n",
       "      <td>1</td>\n",
       "    </tr>\n",
       "    <tr>\n",
       "      <th>bin_by_driver_(3.99, 4.99]</th>\n",
       "      <td>50000</td>\n",
       "      <td>0.39444</td>\n",
       "      <td>0.488735</td>\n",
       "      <td>0</td>\n",
       "      <td>0</td>\n",
       "      <td>0</td>\n",
       "      <td>1</td>\n",
       "      <td>1</td>\n",
       "    </tr>\n",
       "    <tr>\n",
       "      <th>bin_by_driver_(4.99, 5]</th>\n",
       "      <td>50000</td>\n",
       "      <td>0.57016</td>\n",
       "      <td>0.4950581</td>\n",
       "      <td>0</td>\n",
       "      <td>0</td>\n",
       "      <td>1</td>\n",
       "      <td>1</td>\n",
       "      <td>1</td>\n",
       "    </tr>\n",
       "    <tr>\n",
       "      <th>bin_by_driver_missing</th>\n",
       "      <td>50000</td>\n",
       "      <td>0.00402</td>\n",
       "      <td>0.06327653</td>\n",
       "      <td>0</td>\n",
       "      <td>0</td>\n",
       "      <td>0</td>\n",
       "      <td>0</td>\n",
       "      <td>1</td>\n",
       "    </tr>\n",
       "    <tr>\n",
       "      <th>bin_of_driver_[0, 2.99]</th>\n",
       "      <td>50000</td>\n",
       "      <td>0.01402</td>\n",
       "      <td>0.1175743</td>\n",
       "      <td>0</td>\n",
       "      <td>0</td>\n",
       "      <td>0</td>\n",
       "      <td>0</td>\n",
       "      <td>1</td>\n",
       "    </tr>\n",
       "    <tr>\n",
       "      <th>bin_of_driver_(2.99, 3.99]</th>\n",
       "      <td>50000</td>\n",
       "      <td>0.06222</td>\n",
       "      <td>0.2415571</td>\n",
       "      <td>0</td>\n",
       "      <td>0</td>\n",
       "      <td>0</td>\n",
       "      <td>0</td>\n",
       "      <td>1</td>\n",
       "    </tr>\n",
       "    <tr>\n",
       "      <th>bin_of_driver_(3.99, 4.99]</th>\n",
       "      <td>50000</td>\n",
       "      <td>0.3459</td>\n",
       "      <td>0.4756655</td>\n",
       "      <td>0</td>\n",
       "      <td>0</td>\n",
       "      <td>0</td>\n",
       "      <td>1</td>\n",
       "      <td>1</td>\n",
       "    </tr>\n",
       "    <tr>\n",
       "      <th>bin_of_driver_(4.99, 5]</th>\n",
       "      <td>50000</td>\n",
       "      <td>0.41542</td>\n",
       "      <td>0.4927992</td>\n",
       "      <td>0</td>\n",
       "      <td>0</td>\n",
       "      <td>0</td>\n",
       "      <td>1</td>\n",
       "      <td>1</td>\n",
       "    </tr>\n",
       "    <tr>\n",
       "      <th>bin_of_driver_missing</th>\n",
       "      <td>50000</td>\n",
       "      <td>0.16244</td>\n",
       "      <td>0.3688577</td>\n",
       "      <td>0</td>\n",
       "      <td>0</td>\n",
       "      <td>0</td>\n",
       "      <td>0</td>\n",
       "      <td>1</td>\n",
       "    </tr>\n",
       "  </tbody>\n",
       "</table>\n",
       "</div>"
      ],
      "text/plain": [
       "                            count      mean         std    min   25%   50%  \\\n",
       "avg_dist                    50000  5.796827    5.707357      0  2.42  3.88   \n",
       "Android                     50000   0.30044   0.4584539      0     0     0   \n",
       "iPhone                      50000   0.69164   0.4618207      0     0     1   \n",
       "no_phone                    50000   0.00792  0.08864215      0     0     0   \n",
       "Astapor                     50000   0.33068   0.4704627      0     0     0   \n",
       "King's Landing              50000    0.2026   0.4019409      0     0     0   \n",
       "Winterfell                  50000   0.46672   0.4988962      0     0     0   \n",
       "surge_pct                   50000  8.849536    19.95881      0     0     0   \n",
       "trips_in_first_30_days      50000    2.2782    3.792684      0     0     1   \n",
       "luxury_car_user             50000   0.37708   0.4846601  False     0     0   \n",
       "weekday_pct                 50000  60.92608     37.0815      0  33.3  66.7   \n",
       "is_active                   50000    0.3662   0.4817699  False     0     0   \n",
       "bin_by_driver_[0, 2.99]     50000   0.00696  0.08313661      0     0     0   \n",
       "bin_by_driver_(2.99, 3.99]  50000   0.02442   0.1543507      0     0     0   \n",
       "bin_by_driver_(3.99, 4.99]  50000   0.39444    0.488735      0     0     0   \n",
       "bin_by_driver_(4.99, 5]     50000   0.57016   0.4950581      0     0     1   \n",
       "bin_by_driver_missing       50000   0.00402  0.06327653      0     0     0   \n",
       "bin_of_driver_[0, 2.99]     50000   0.01402   0.1175743      0     0     0   \n",
       "bin_of_driver_(2.99, 3.99]  50000   0.06222   0.2415571      0     0     0   \n",
       "bin_of_driver_(3.99, 4.99]  50000    0.3459   0.4756655      0     0     0   \n",
       "bin_of_driver_(4.99, 5]     50000   0.41542   0.4927992      0     0     0   \n",
       "bin_of_driver_missing       50000   0.16244   0.3688577      0     0     0   \n",
       "\n",
       "                             75%     max  \n",
       "avg_dist                    6.94  160.96  \n",
       "Android                        1       1  \n",
       "iPhone                         1       1  \n",
       "no_phone                       0       1  \n",
       "Astapor                        1       1  \n",
       "King's Landing                 0       1  \n",
       "Winterfell                     1       1  \n",
       "surge_pct                    8.6     100  \n",
       "trips_in_first_30_days         3     125  \n",
       "luxury_car_user                1    True  \n",
       "weekday_pct                  100     100  \n",
       "is_active                      1    True  \n",
       "bin_by_driver_[0, 2.99]        0       1  \n",
       "bin_by_driver_(2.99, 3.99]     0       1  \n",
       "bin_by_driver_(3.99, 4.99]     1       1  \n",
       "bin_by_driver_(4.99, 5]        1       1  \n",
       "bin_by_driver_missing          0       1  \n",
       "bin_of_driver_[0, 2.99]        0       1  \n",
       "bin_of_driver_(2.99, 3.99]     0       1  \n",
       "bin_of_driver_(3.99, 4.99]     1       1  \n",
       "bin_of_driver_(4.99, 5]        1       1  \n",
       "bin_of_driver_missing          0       1  "
      ]
     },
     "execution_count": 176,
     "metadata": {},
     "output_type": "execute_result"
    }
   ],
   "source": [
    "df_all.describe().T"
   ]
  },
  {
   "cell_type": "markdown",
   "metadata": {},
   "source": [
    "We have assembled a basic dataset.  We may want to peform further feature engineering:\n",
    "\n",
    "1.  Indicators for signup dates (ISO week, month, year)\n",
    "2.  Interactions between features"
   ]
  },
  {
   "cell_type": "markdown",
   "metadata": {},
   "source": [
    "# Modeling\n",
    "\n",
    "Now we move to the modeling phase"
   ]
  },
  {
   "cell_type": "markdown",
   "metadata": {},
   "source": [
    "## First model\n",
    "\n",
    "We start by building a simple, poor model.  If it performs well, be suspicious..."
   ]
  },
  {
   "cell_type": "code",
   "execution_count": 140,
   "metadata": {
    "collapsed": false
   },
   "outputs": [],
   "source": [
    "from sklearn.linear_model import LogisticRegression\n",
    "from sklearn.pipeline import Pipeline\n",
    "from sklearn.grid_search import GridSearchCV\n",
    "from sklearn.cross_validation import train_test_split"
   ]
  },
  {
   "cell_type": "markdown",
   "metadata": {},
   "source": [
    "### Code to plot ROC curve\n",
    "\n",
    "We digress by hacking together some code from the *Logistic Regression* lab to plot the ROC curve"
   ]
  },
  {
   "cell_type": "code",
   "execution_count": 141,
   "metadata": {
    "collapsed": true
   },
   "outputs": [],
   "source": [
    "def roc_curve(probabilities, labels):\n",
    "    '''\n",
    "    INPUT: numpy array, numpy array\n",
    "    OUTPUT: list, list, list\n",
    "\n",
    "    Take a numpy array of the predicted probabilities and a numpy array of the\n",
    "    true labels.\n",
    "    Return the True Positive Rates, False Positive Rates and Thresholds for the\n",
    "    ROC curve.\n",
    "    '''\n",
    "\n",
    "    thresholds = np.sort(probabilities)\n",
    "\n",
    "    tprs = []\n",
    "    fprs = []\n",
    "\n",
    "    num_positive_cases = sum(labels)\n",
    "    num_negative_cases = len(labels) - num_positive_cases\n",
    "\n",
    "    for threshold in thresholds:\n",
    "        # With this threshold, give the prediction of each instance\n",
    "        predicted_positive = probabilities >= threshold\n",
    "        # Calculate the number of correctly predicted positive cases\n",
    "        true_positives = np.sum(predicted_positive * labels)\n",
    "        # Calculate the number of incorrectly predicted positive cases\n",
    "        false_positives = np.sum(predicted_positive) - true_positives\n",
    "        # Calculate the True Positive Rate\n",
    "        tpr = true_positives / float(num_positive_cases)\n",
    "        # Calculate the False Positive Rate\n",
    "        fpr = false_positives / float(num_negative_cases)\n",
    "\n",
    "        fprs.append(fpr)\n",
    "        tprs.append(tpr)\n",
    "    \n",
    "    return tprs, fprs, thresholds.tolist()\n",
    "\n",
    "def plot_roc(probs, y_true, title, xlabel, ylabel):\n",
    "    # ROC\n",
    "    tpr, fpr, thresholds = roc_curve(v_probs, y_test)\n",
    "\n",
    "    plt.hold(True)\n",
    "    plt.plot(fpr, tpr)\n",
    "\n",
    "    # 45 degree line\n",
    "    xx = np.linspace(0, 1.0, 20)\n",
    "    plt.plot(xx, xx, color='red')\n",
    "\n",
    "    plt.xlabel(xlabel)\n",
    "    plt.ylabel(ylabel)\n",
    "    plt.title(title)\n",
    "\n",
    "    plt.show()"
   ]
  },
  {
   "cell_type": "markdown",
   "metadata": {},
   "source": [
    "### Setup data with simple train/test split"
   ]
  },
  {
   "cell_type": "code",
   "execution_count": 177,
   "metadata": {
    "collapsed": false
   },
   "outputs": [],
   "source": [
    "v_features = df_all.columns\n",
    "v_features = v_features.tolist()\n",
    "v_features = v_features[:]\n",
    "del v_features[v_features.index('is_active')]"
   ]
  },
  {
   "cell_type": "code",
   "execution_count": 189,
   "metadata": {
    "collapsed": false
   },
   "outputs": [],
   "source": [
    "X = df_all.ix[:, v_features]\n",
    "y = df_all.is_active.astype('int')"
   ]
  },
  {
   "cell_type": "code",
   "execution_count": 190,
   "metadata": {
    "collapsed": true
   },
   "outputs": [],
   "source": [
    "X_train, X_test, y_train, y_test = train_test_split(X, y, test_size=0.20, random_state=67)"
   ]
  },
  {
   "cell_type": "markdown",
   "metadata": {},
   "source": [
    "### First crappy model: logistic regression"
   ]
  },
  {
   "cell_type": "code",
   "execution_count": 180,
   "metadata": {
    "collapsed": false
   },
   "outputs": [
    {
     "data": {
      "text/plain": [
       "LogisticRegression(C=1.0, class_weight='auto', dual=False, fit_intercept=True,\n",
       "          intercept_scaling=1, max_iter=100, multi_class='ovr',\n",
       "          penalty='l2', random_state=None, solver='liblinear', tol=0.0001,\n",
       "          verbose=0)"
      ]
     },
     "execution_count": 180,
     "metadata": {},
     "output_type": "execute_result"
    }
   ],
   "source": [
    "lr = LogisticRegression(class_weight='auto')\n",
    "lr.fit(X_train, y_train)"
   ]
  },
  {
   "cell_type": "code",
   "execution_count": 181,
   "metadata": {
    "collapsed": false
   },
   "outputs": [
    {
     "data": {
      "text/plain": [
       "0.74819999999999998"
      ]
     },
     "execution_count": 181,
     "metadata": {},
     "output_type": "execute_result"
    }
   ],
   "source": [
    "lr.score(X_test,y_test)"
   ]
  },
  {
   "cell_type": "code",
   "execution_count": 182,
   "metadata": {
    "collapsed": true
   },
   "outputs": [],
   "source": [
    "v_probs = lr.predict_proba(X_test)[:, 1]"
   ]
  },
  {
   "cell_type": "code",
   "execution_count": 183,
   "metadata": {
    "collapsed": false
   },
   "outputs": [
    {
     "data": {
      "image/png": "[encoded data removed]",
      "text/plain": [
       "<matplotlib.figure.Figure at 0x10d50a8d0>"
      ]
     },
     "metadata": {},
     "output_type": "display_data"
    }
   ],
   "source": [
    "plot_roc(v_probs, y_test, \"ROC plot of churn data\", \n",
    "         \"False Positive Rate (1 - Specificity)\", \"True Positive Rate (Sensitivity, Recall)\")"
   ]
  },
  {
   "cell_type": "code",
   "execution_count": 184,
   "metadata": {
    "collapsed": false
   },
   "outputs": [
    {
     "data": {
      "text/plain": [
       "0.7468694104315784"
      ]
     },
     "execution_count": 184,
     "metadata": {},
     "output_type": "execute_result"
    }
   ],
   "source": [
    "import sklearn.metrics as skm\n",
    "skm.roc_auc_score(y_test, lr.predict(X_test))"
   ]
  },
  {
   "cell_type": "markdown",
   "metadata": {},
   "source": [
    "Not a great AUC..."
   ]
  },
  {
   "cell_type": "code",
   "execution_count": 150,
   "metadata": {
    "collapsed": false
   },
   "outputs": [
    {
     "data": {
      "text/html": [
       "<div style=\"max-height:1000px;max-width:1500px;overflow:auto;\">\n",
       "<table border=\"1\" class=\"dataframe\">\n",
       "  <thead>\n",
       "    <tr style=\"text-align: right;\">\n",
       "      <th>col_0</th>\n",
       "      <th>0</th>\n",
       "      <th>1</th>\n",
       "    </tr>\n",
       "    <tr>\n",
       "      <th>is_active</th>\n",
       "      <th></th>\n",
       "      <th></th>\n",
       "    </tr>\n",
       "  </thead>\n",
       "  <tbody>\n",
       "    <tr>\n",
       "      <th>0</th>\n",
       "      <td>4771</td>\n",
       "      <td>1575</td>\n",
       "    </tr>\n",
       "    <tr>\n",
       "      <th>1</th>\n",
       "      <td>943</td>\n",
       "      <td>2711</td>\n",
       "    </tr>\n",
       "  </tbody>\n",
       "</table>\n",
       "</div>"
      ],
      "text/plain": [
       "col_0         0     1\n",
       "is_active            \n",
       "0          4771  1575\n",
       "1           943  2711"
      ]
     },
     "execution_count": 150,
     "metadata": {},
     "output_type": "execute_result"
    }
   ],
   "source": [
    "pd.crosstab(y_test, lr.predict(X_test))"
   ]
  },
  {
   "cell_type": "code",
   "execution_count": 151,
   "metadata": {
    "collapsed": false
   },
   "outputs": [],
   "source": [
    "from sklearn.metrics import confusion_matrix\n",
    "\n",
    "def plot_confusion_matrix(model, X_test, y_true):\n",
    "    '''Code stolen brazenly from sklearn example.'''\n",
    "    cm = confusion_matrix(y_true, model.predict(X_test))\n",
    "\n",
    "    print(cm)\n",
    "\n",
    "    # Show confusion matrix in a separate window\n",
    "    plt.matshow(cm)\n",
    "    plt.title('Confusion matrix')\n",
    "    plt.colorbar()\n",
    "    plt.ylabel('True label')\n",
    "    plt.xlabel('Predicted label')\n",
    "    plt.show()"
   ]
  },
  {
   "cell_type": "code",
   "execution_count": 152,
   "metadata": {
    "collapsed": false
   },
   "outputs": [
    {
     "name": "stdout",
     "output_type": "stream",
     "text": [
      "[[4771 1575]\n",
      " [ 943 2711]]\n"
     ]
    },
    {
     "data": {
      "image/png": "[encoded data removed]",
      "text/plain": [
       "<matplotlib.figure.Figure at 0x10e7c5e10>"
      ]
     },
     "metadata": {},
     "output_type": "display_data"
    }
   ],
   "source": [
    "plot_confusion_matrix(lr, X_test, y_test)"
   ]
  },
  {
   "cell_type": "markdown",
   "metadata": {},
   "source": [
    "Simple model is not very good and would be much worse without `class_weight='auto'`.  Rerun without `class_weight='auto'`."
   ]
  },
  {
   "cell_type": "markdown",
   "metadata": {},
   "source": [
    "### A slightly better crappy model: gradient boosting classification trees\n",
    "\n",
    "The non-linear nature of the problem makes decision trees appealing.  But, it makes sense to use an ensemble model (random forest, gradient boosting) to get the best performance."
   ]
  },
  {
   "cell_type": "code",
   "execution_count": 153,
   "metadata": {
    "collapsed": true
   },
   "outputs": [],
   "source": [
    "from sklearn.ensemble import GradientBoostingClassifier"
   ]
  },
  {
   "cell_type": "code",
   "execution_count": 154,
   "metadata": {
    "collapsed": false
   },
   "outputs": [
    {
     "data": {
      "text/plain": [
       "GradientBoostingClassifier(init=None, learning_rate=0.05, loss='deviance',\n",
       "              max_depth=8, max_features='auto', max_leaf_nodes=None,\n",
       "              min_samples_leaf=1, min_samples_split=2,\n",
       "              min_weight_fraction_leaf=0.0, n_estimators=500,\n",
       "              random_state=None, subsample=0.5, verbose=0,\n",
       "              warm_start=False)"
      ]
     },
     "execution_count": 154,
     "metadata": {},
     "output_type": "execute_result"
    }
   ],
   "source": [
    "gbc = GradientBoostingClassifier(n_estimators=500, max_depth=8, subsample=0.5, \n",
    "                                 max_features='auto', learning_rate=0.05)\n",
    "gbc.fit(X_train, y_train)"
   ]
  },
  {
   "cell_type": "code",
   "execution_count": 155,
   "metadata": {
    "collapsed": false
   },
   "outputs": [
    {
     "data": {
      "text/plain": [
       "0.79390000000000005"
      ]
     },
     "execution_count": 155,
     "metadata": {},
     "output_type": "execute_result"
    }
   ],
   "source": [
    "gbc.score(X_test,y_test)"
   ]
  },
  {
   "cell_type": "code",
   "execution_count": 156,
   "metadata": {
    "collapsed": false
   },
   "outputs": [
    {
     "data": {
      "text/html": [
       "<div style=\"max-height:1000px;max-width:1500px;overflow:auto;\">\n",
       "<table border=\"1\" class=\"dataframe\">\n",
       "  <thead>\n",
       "    <tr style=\"text-align: right;\">\n",
       "      <th>col_0</th>\n",
       "      <th>0</th>\n",
       "      <th>1</th>\n",
       "    </tr>\n",
       "    <tr>\n",
       "      <th>is_active</th>\n",
       "      <th></th>\n",
       "      <th></th>\n",
       "    </tr>\n",
       "  </thead>\n",
       "  <tbody>\n",
       "    <tr>\n",
       "      <th>0</th>\n",
       "      <td>5497</td>\n",
       "      <td>849</td>\n",
       "    </tr>\n",
       "    <tr>\n",
       "      <th>1</th>\n",
       "      <td>1212</td>\n",
       "      <td>2442</td>\n",
       "    </tr>\n",
       "  </tbody>\n",
       "</table>\n",
       "</div>"
      ],
      "text/plain": [
       "col_0         0     1\n",
       "is_active            \n",
       "0          5497   849\n",
       "1          1212  2442"
      ]
     },
     "execution_count": 156,
     "metadata": {},
     "output_type": "execute_result"
    }
   ],
   "source": [
    "pd.crosstab(y_test, gbc.predict(X_test))"
   ]
  },
  {
   "cell_type": "markdown",
   "metadata": {},
   "source": [
    "This looks a bit better."
   ]
  },
  {
   "cell_type": "code",
   "execution_count": 157,
   "metadata": {
    "collapsed": false
   },
   "outputs": [
    {
     "data": {
      "text/plain": [
       "0.76726182066771309"
      ]
     },
     "execution_count": 157,
     "metadata": {},
     "output_type": "execute_result"
    }
   ],
   "source": [
    "skm.roc_auc_score(y_test, gbc.predict(X_test))"
   ]
  },
  {
   "cell_type": "markdown",
   "metadata": {},
   "source": [
    "This is not great, but not horrible..."
   ]
  },
  {
   "cell_type": "code",
   "execution_count": 158,
   "metadata": {
    "collapsed": false
   },
   "outputs": [
    {
     "name": "stdout",
     "output_type": "stream",
     "text": [
      "[[5497  849]\n",
      " [1212 2442]]\n"
     ]
    },
    {
     "data": {
      "image/png": "[encoded data removed]",
      "text/plain": [
       "<matplotlib.figure.Figure at 0x111745210>"
      ]
     },
     "metadata": {},
     "output_type": "display_data"
    }
   ],
   "source": [
    "plot_confusion_matrix(gbc, X_test, y_test)"
   ]
  },
  {
   "cell_type": "markdown",
   "metadata": {},
   "source": [
    "Let's see if random forests are any better"
   ]
  },
  {
   "cell_type": "code",
   "execution_count": 159,
   "metadata": {
    "collapsed": false
   },
   "outputs": [],
   "source": [
    "from sklearn.ensemble import RandomForestClassifier"
   ]
  },
  {
   "cell_type": "code",
   "execution_count": 160,
   "metadata": {
    "collapsed": false
   },
   "outputs": [
    {
     "data": {
      "text/plain": [
       "RandomForestClassifier(bootstrap=True, class_weight='auto', criterion='gini',\n",
       "            max_depth=None, max_features='auto', max_leaf_nodes=None,\n",
       "            min_samples_leaf=1, min_samples_split=2,\n",
       "            min_weight_fraction_leaf=0.0, n_estimators=500, n_jobs=-1,\n",
       "            oob_score=False, random_state=None, verbose=0,\n",
       "            warm_start=False)"
      ]
     },
     "execution_count": 160,
     "metadata": {},
     "output_type": "execute_result"
    }
   ],
   "source": [
    "rfc = RandomForestClassifier(n_estimators=500, n_jobs=-1, class_weight='auto')\n",
    "rfc.fit(X_train, y_train)"
   ]
  },
  {
   "cell_type": "code",
   "execution_count": 161,
   "metadata": {
    "collapsed": false
   },
   "outputs": [
    {
     "data": {
      "text/plain": [
       "0.75260000000000005"
      ]
     },
     "execution_count": 161,
     "metadata": {},
     "output_type": "execute_result"
    }
   ],
   "source": [
    "rfc.score(X_test, y_test)"
   ]
  },
  {
   "cell_type": "code",
   "execution_count": 162,
   "metadata": {
    "collapsed": false
   },
   "outputs": [
    {
     "data": {
      "text/html": [
       "<div style=\"max-height:1000px;max-width:1500px;overflow:auto;\">\n",
       "<table border=\"1\" class=\"dataframe\">\n",
       "  <thead>\n",
       "    <tr style=\"text-align: right;\">\n",
       "      <th>col_0</th>\n",
       "      <th>0</th>\n",
       "      <th>1</th>\n",
       "    </tr>\n",
       "    <tr>\n",
       "      <th>is_active</th>\n",
       "      <th></th>\n",
       "      <th></th>\n",
       "    </tr>\n",
       "  </thead>\n",
       "  <tbody>\n",
       "    <tr>\n",
       "      <th>0</th>\n",
       "      <td>5145</td>\n",
       "      <td>1201</td>\n",
       "    </tr>\n",
       "    <tr>\n",
       "      <th>1</th>\n",
       "      <td>1273</td>\n",
       "      <td>2381</td>\n",
       "    </tr>\n",
       "  </tbody>\n",
       "</table>\n",
       "</div>"
      ],
      "text/plain": [
       "col_0         0     1\n",
       "is_active            \n",
       "0          5145  1201\n",
       "1          1273  2381"
      ]
     },
     "execution_count": 162,
     "metadata": {},
     "output_type": "execute_result"
    }
   ],
   "source": [
    "pd.crosstab(y_test, rfc.predict(X_test))"
   ]
  },
  {
   "cell_type": "code",
   "execution_count": 163,
   "metadata": {
    "collapsed": false
   },
   "outputs": [
    {
     "data": {
      "text/html": [
       "<div style=\"max-height:1000px;max-width:1500px;overflow:auto;\">\n",
       "<table border=\"1\" class=\"dataframe\">\n",
       "  <thead>\n",
       "    <tr style=\"text-align: right;\">\n",
       "      <th>col_0</th>\n",
       "      <th>0</th>\n",
       "      <th>1</th>\n",
       "    </tr>\n",
       "    <tr>\n",
       "      <th>is_active</th>\n",
       "      <th></th>\n",
       "      <th></th>\n",
       "    </tr>\n",
       "  </thead>\n",
       "  <tbody>\n",
       "    <tr>\n",
       "      <th>0</th>\n",
       "      <td>25281</td>\n",
       "      <td>63</td>\n",
       "    </tr>\n",
       "    <tr>\n",
       "      <th>1</th>\n",
       "      <td>67</td>\n",
       "      <td>14589</td>\n",
       "    </tr>\n",
       "  </tbody>\n",
       "</table>\n",
       "</div>"
      ],
      "text/plain": [
       "col_0          0      1\n",
       "is_active              \n",
       "0          25281     63\n",
       "1             67  14589"
      ]
     },
     "execution_count": 163,
     "metadata": {},
     "output_type": "execute_result"
    }
   ],
   "source": [
    "pd.crosstab(y_train, rfc.predict(X_train))"
   ]
  },
  {
   "cell_type": "code",
   "execution_count": 164,
   "metadata": {
    "collapsed": false
   },
   "outputs": [
    {
     "data": {
      "text/plain": [
       "0.73118079802714164"
      ]
     },
     "execution_count": 164,
     "metadata": {},
     "output_type": "execute_result"
    }
   ],
   "source": [
    "skm.roc_auc_score(y_test, rfc.predict(X_test))"
   ]
  },
  {
   "cell_type": "code",
   "execution_count": 165,
   "metadata": {
    "collapsed": false
   },
   "outputs": [
    {
     "name": "stdout",
     "output_type": "stream",
     "text": [
      "[[5145 1201]\n",
      " [1273 2381]]\n"
     ]
    },
    {
     "data": {
      "image/png": "[encoded data removed]",
      "text/plain": [
       "<matplotlib.figure.Figure at 0x10e438c10>"
      ]
     },
     "metadata": {},
     "output_type": "display_data"
    }
   ],
   "source": [
    "plot_confusion_matrix(rfc, X_test, y_test)"
   ]
  },
  {
   "cell_type": "markdown",
   "metadata": {},
   "source": [
    "The model appears to be a bit worse than gradient boosting."
   ]
  },
  {
   "cell_type": "markdown",
   "metadata": {},
   "source": [
    "## Refine model\n",
    "\n",
    "Now we try several things:\n",
    "\n",
    "1.  Scale data\n",
    "1.  Use grid search to find the best tuning of each model\n",
    "2.  Compare different classification models\n",
    "3.  Explore feature engineering\n",
    "4.  Tune with profit curve based on costs of different classification errors"
   ]
  },
  {
   "cell_type": "code",
   "execution_count": 191,
   "metadata": {
    "collapsed": false
   },
   "outputs": [
    {
     "data": {
      "text/html": [
       "<div style=\"max-height:1000px;max-width:1500px;overflow:auto;\">\n",
       "<table border=\"1\" class=\"dataframe\">\n",
       "  <thead>\n",
       "    <tr style=\"text-align: right;\">\n",
       "      <th></th>\n",
       "      <th>avg_dist</th>\n",
       "      <th>surge_pct</th>\n",
       "      <th>trips_in_first_30_days</th>\n",
       "      <th>luxury_car_user</th>\n",
       "      <th>weekday_pct</th>\n",
       "    </tr>\n",
       "  </thead>\n",
       "  <tbody>\n",
       "    <tr>\n",
       "      <th>count</th>\n",
       "      <td>50000.000000</td>\n",
       "      <td>50000.000000</td>\n",
       "      <td>50000.000000</td>\n",
       "      <td>50000</td>\n",
       "      <td>50000.000000</td>\n",
       "    </tr>\n",
       "    <tr>\n",
       "      <th>mean</th>\n",
       "      <td>5.796827</td>\n",
       "      <td>8.849536</td>\n",
       "      <td>2.278200</td>\n",
       "      <td>0.37708</td>\n",
       "      <td>60.926084</td>\n",
       "    </tr>\n",
       "    <tr>\n",
       "      <th>std</th>\n",
       "      <td>5.707357</td>\n",
       "      <td>19.958811</td>\n",
       "      <td>3.792684</td>\n",
       "      <td>0.4846601</td>\n",
       "      <td>37.081503</td>\n",
       "    </tr>\n",
       "    <tr>\n",
       "      <th>min</th>\n",
       "      <td>0.000000</td>\n",
       "      <td>0.000000</td>\n",
       "      <td>0.000000</td>\n",
       "      <td>False</td>\n",
       "      <td>0.000000</td>\n",
       "    </tr>\n",
       "    <tr>\n",
       "      <th>25%</th>\n",
       "      <td>2.420000</td>\n",
       "      <td>0.000000</td>\n",
       "      <td>0.000000</td>\n",
       "      <td>0</td>\n",
       "      <td>33.300000</td>\n",
       "    </tr>\n",
       "    <tr>\n",
       "      <th>50%</th>\n",
       "      <td>3.880000</td>\n",
       "      <td>0.000000</td>\n",
       "      <td>1.000000</td>\n",
       "      <td>0</td>\n",
       "      <td>66.700000</td>\n",
       "    </tr>\n",
       "    <tr>\n",
       "      <th>75%</th>\n",
       "      <td>6.940000</td>\n",
       "      <td>8.600000</td>\n",
       "      <td>3.000000</td>\n",
       "      <td>1</td>\n",
       "      <td>100.000000</td>\n",
       "    </tr>\n",
       "    <tr>\n",
       "      <th>max</th>\n",
       "      <td>160.960000</td>\n",
       "      <td>100.000000</td>\n",
       "      <td>125.000000</td>\n",
       "      <td>True</td>\n",
       "      <td>100.000000</td>\n",
       "    </tr>\n",
       "  </tbody>\n",
       "</table>\n",
       "</div>"
      ],
      "text/plain": [
       "           avg_dist     surge_pct  trips_in_first_30_days luxury_car_user  \\\n",
       "count  50000.000000  50000.000000            50000.000000           50000   \n",
       "mean       5.796827      8.849536                2.278200         0.37708   \n",
       "std        5.707357     19.958811                3.792684       0.4846601   \n",
       "min        0.000000      0.000000                0.000000           False   \n",
       "25%        2.420000      0.000000                0.000000               0   \n",
       "50%        3.880000      0.000000                1.000000               0   \n",
       "75%        6.940000      8.600000                3.000000               1   \n",
       "max      160.960000    100.000000              125.000000            True   \n",
       "\n",
       "        weekday_pct  \n",
       "count  50000.000000  \n",
       "mean      60.926084  \n",
       "std       37.081503  \n",
       "min        0.000000  \n",
       "25%       33.300000  \n",
       "50%       66.700000  \n",
       "75%      100.000000  \n",
       "max      100.000000  "
      ]
     },
     "execution_count": 191,
     "metadata": {},
     "output_type": "execute_result"
    }
   ],
   "source": [
    "X[['avg_dist', 'surge_pct', 'trips_in_first_30_days', 'luxury_car_user', 'weekday_pct']].describe()"
   ]
  },
  {
   "cell_type": "code",
   "execution_count": 192,
   "metadata": {
    "collapsed": false
   },
   "outputs": [],
   "source": [
    "from sklearn.preprocessing import scale\n",
    "X.avg_dist = scale(X.avg_dist)\n",
    "X.surge_pct = scale(X.surge_pct)\n",
    "X.trips_in_first_30_days = scale(X.trips_in_first_30_days.astype('float'))\n",
    "X.weekday_pct = scale(X.weekday_pct)"
   ]
  },
  {
   "cell_type": "code",
   "execution_count": 193,
   "metadata": {
    "collapsed": false
   },
   "outputs": [
    {
     "data": {
      "text/html": [
       "<div style=\"max-height:1000px;max-width:1500px;overflow:auto;\">\n",
       "<table border=\"1\" class=\"dataframe\">\n",
       "  <thead>\n",
       "    <tr style=\"text-align: right;\">\n",
       "      <th></th>\n",
       "      <th>avg_dist</th>\n",
       "      <th>surge_pct</th>\n",
       "      <th>trips_in_first_30_days</th>\n",
       "      <th>weekday_pct</th>\n",
       "    </tr>\n",
       "  </thead>\n",
       "  <tbody>\n",
       "    <tr>\n",
       "      <th>count</th>\n",
       "      <td>5.000000e+04</td>\n",
       "      <td>5.000000e+04</td>\n",
       "      <td>5.000000e+04</td>\n",
       "      <td>5.000000e+04</td>\n",
       "    </tr>\n",
       "    <tr>\n",
       "      <th>mean</th>\n",
       "      <td>-2.142286e-17</td>\n",
       "      <td>6.494361e-17</td>\n",
       "      <td>1.335820e-17</td>\n",
       "      <td>1.244871e-16</td>\n",
       "    </tr>\n",
       "    <tr>\n",
       "      <th>std</th>\n",
       "      <td>1.000010e+00</td>\n",
       "      <td>1.000010e+00</td>\n",
       "      <td>1.000010e+00</td>\n",
       "      <td>1.000010e+00</td>\n",
       "    </tr>\n",
       "    <tr>\n",
       "      <th>min</th>\n",
       "      <td>-1.015686e+00</td>\n",
       "      <td>-4.433944e-01</td>\n",
       "      <td>-6.006888e-01</td>\n",
       "      <td>-1.643048e+00</td>\n",
       "    </tr>\n",
       "    <tr>\n",
       "      <th>25%</th>\n",
       "      <td>-5.916680e-01</td>\n",
       "      <td>-4.433944e-01</td>\n",
       "      <td>-6.006888e-01</td>\n",
       "      <td>-7.450173e-01</td>\n",
       "    </tr>\n",
       "    <tr>\n",
       "      <th>50%</th>\n",
       "      <td>-3.358553e-01</td>\n",
       "      <td>-4.433944e-01</td>\n",
       "      <td>-3.370206e-01</td>\n",
       "      <td>1.557103e-01</td>\n",
       "    </tr>\n",
       "    <tr>\n",
       "      <th>75%</th>\n",
       "      <td>2.003002e-01</td>\n",
       "      <td>-1.250267e-02</td>\n",
       "      <td>1.903157e-01</td>\n",
       "      <td>1.053741e+00</td>\n",
       "    </tr>\n",
       "    <tr>\n",
       "      <th>max</th>\n",
       "      <td>2.718679e+01</td>\n",
       "      <td>4.566974e+00</td>\n",
       "      <td>3.235783e+01</td>\n",
       "      <td>1.053741e+00</td>\n",
       "    </tr>\n",
       "  </tbody>\n",
       "</table>\n",
       "</div>"
      ],
      "text/plain": [
       "           avg_dist     surge_pct  trips_in_first_30_days   weekday_pct\n",
       "count  5.000000e+04  5.000000e+04            5.000000e+04  5.000000e+04\n",
       "mean  -2.142286e-17  6.494361e-17            1.335820e-17  1.244871e-16\n",
       "std    1.000010e+00  1.000010e+00            1.000010e+00  1.000010e+00\n",
       "min   -1.015686e+00 -4.433944e-01           -6.006888e-01 -1.643048e+00\n",
       "25%   -5.916680e-01 -4.433944e-01           -6.006888e-01 -7.450173e-01\n",
       "50%   -3.358553e-01 -4.433944e-01           -3.370206e-01  1.557103e-01\n",
       "75%    2.003002e-01 -1.250267e-02            1.903157e-01  1.053741e+00\n",
       "max    2.718679e+01  4.566974e+00            3.235783e+01  1.053741e+00"
      ]
     },
     "execution_count": 193,
     "metadata": {},
     "output_type": "execute_result"
    }
   ],
   "source": [
    "X[['avg_dist', 'surge_pct', 'trips_in_first_30_days', 'weekday_pct']].describe()"
   ]
  },
  {
   "cell_type": "code",
   "execution_count": 194,
   "metadata": {
    "collapsed": false
   },
   "outputs": [
    {
     "name": "stdout",
     "output_type": "stream",
     "text": [
      "<class 'pandas.core.frame.DataFrame'>\n",
      "Int64Index: 50000 entries, 0 to 49999\n",
      "Data columns (total 21 columns):\n",
      "avg_dist                      50000 non-null float64\n",
      "Android                       50000 non-null float64\n",
      "iPhone                        50000 non-null float64\n",
      "no_phone                      50000 non-null float64\n",
      "Astapor                       50000 non-null float64\n",
      "King's Landing                50000 non-null float64\n",
      "Winterfell                    50000 non-null float64\n",
      "surge_pct                     50000 non-null float64\n",
      "trips_in_first_30_days        50000 non-null float64\n",
      "luxury_car_user               50000 non-null bool\n",
      "weekday_pct                   50000 non-null float64\n",
      "bin_by_driver_[0, 2.99]       50000 non-null float64\n",
      "bin_by_driver_(2.99, 3.99]    50000 non-null float64\n",
      "bin_by_driver_(3.99, 4.99]    50000 non-null float64\n",
      "bin_by_driver_(4.99, 5]       50000 non-null float64\n",
      "bin_by_driver_missing         50000 non-null float64\n",
      "bin_of_driver_[0, 2.99]       50000 non-null float64\n",
      "bin_of_driver_(2.99, 3.99]    50000 non-null float64\n",
      "bin_of_driver_(3.99, 4.99]    50000 non-null float64\n",
      "bin_of_driver_(4.99, 5]       50000 non-null float64\n",
      "bin_of_driver_missing         50000 non-null float64\n",
      "dtypes: bool(1), float64(20)\n",
      "memory usage: 8.1 MB\n"
     ]
    }
   ],
   "source": [
    "X.info()"
   ]
  },
  {
   "cell_type": "code",
   "execution_count": 220,
   "metadata": {
    "collapsed": true
   },
   "outputs": [],
   "source": [
    "X_train, X_test, y_train, y_test = train_test_split(X, y, test_size=0.20, random_state=67)"
   ]
  },
  {
   "cell_type": "markdown",
   "metadata": {},
   "source": [
    "### Refine gradient boosting model via grid search"
   ]
  },
  {
   "cell_type": "code",
   "execution_count": 221,
   "metadata": {
    "collapsed": true
   },
   "outputs": [],
   "source": [
    "from sklearn.grid_search import GridSearchCV"
   ]
  },
  {
   "cell_type": "markdown",
   "metadata": {
    "collapsed": true
   },
   "source": [
    "Setup grid to search"
   ]
  },
  {
   "cell_type": "code",
   "execution_count": 223,
   "metadata": {
    "collapsed": false
   },
   "outputs": [],
   "source": [
    "gbc_grid = {\n",
    "    'learning_rate': [1.0, 0.5, 0.01],\n",
    "    'max_depth': [1, 3, 8],\n",
    "    'min_samples_leaf': [3],\n",
    "    'max_features': ['sqrt', 'log2', None ],\n",
    "    'n_estimators': [500, 1000],\n",
    "    'subsample': [0.5, 0.75, 1.0]\n",
    "}\n",
    "\n",
    "# The above grid takes a long time to run.  These are the best settings:\n",
    "gbc_grid = {'learning_rate': [0.01],\n",
    " 'max_depth': [8],\n",
    " 'max_features': [None],\n",
    " 'min_samples_leaf': [3],\n",
    " 'n_estimators': [1000],\n",
    " 'subsample': [0.5]\n",
    "}\n",
    "\n",
    "# Refined grid\n",
    "gbc_grid = {\n",
    "    'learning_rate': [0.75, 0.01, 0.005],\n",
    "    'max_depth': [6, 8, 10],\n",
    "    'min_samples_leaf': [2, 4],\n",
    "    'max_features': ['sqrt', 'log2', None ],\n",
    "    'n_estimators': [500, 1000],\n",
    "    'subsample': [0.25, 0.5]\n",
    "}"
   ]
  },
  {
   "cell_type": "code",
   "execution_count": 224,
   "metadata": {
    "collapsed": false
   },
   "outputs": [],
   "source": [
    "gbc_grid_cv = GridSearchCV(GradientBoostingClassifier(), gbc_grid, n_jobs=-1)"
   ]
  },
  {
   "cell_type": "code",
   "execution_count": 225,
   "metadata": {
    "collapsed": false
   },
   "outputs": [
    {
     "data": {
      "text/plain": [
       "GridSearchCV(cv=None, error_score='raise',\n",
       "       estimator=GradientBoostingClassifier(init=None, learning_rate=0.1, loss='deviance',\n",
       "              max_depth=3, max_features=None, max_leaf_nodes=None,\n",
       "              min_samples_leaf=1, min_samples_split=2,\n",
       "              min_weight_fraction_leaf=0.0, n_estimators=100,\n",
       "              random_state=None, subsample=1.0, verbose=0,\n",
       "              warm_start=False),\n",
       "       fit_params={}, iid=True, loss_func=None, n_jobs=-1,\n",
       "       param_grid={'learning_rate': [0.75, 0.01, 0.005], 'min_samples_leaf': [2, 4], 'n_estimators': [500, 1000], 'subsample': [0.25, 0.5], 'max_features': ['sqrt', 'log2', None], 'max_depth': [6, 8, 10]},\n",
       "       pre_dispatch='2*n_jobs', refit=True, score_func=None, scoring=None,\n",
       "       verbose=0)"
      ]
     },
     "execution_count": 225,
     "metadata": {},
     "output_type": "execute_result"
    }
   ],
   "source": [
    "gbc_grid_cv.fit(X_train, y_train)"
   ]
  },
  {
   "cell_type": "code",
   "execution_count": 226,
   "metadata": {
    "collapsed": true
   },
   "outputs": [],
   "source": [
    "best_model = gbc_grid_cv.best_estimator_"
   ]
  },
  {
   "cell_type": "code",
   "execution_count": 227,
   "metadata": {
    "collapsed": false
   },
   "outputs": [
    {
     "data": {
      "text/plain": [
       "{'learning_rate': 0.01,\n",
       " 'max_depth': 6,\n",
       " 'max_features': None,\n",
       " 'min_samples_leaf': 2,\n",
       " 'n_estimators': 1000,\n",
       " 'subsample': 0.25}"
      ]
     },
     "execution_count": 227,
     "metadata": {},
     "output_type": "execute_result"
    }
   ],
   "source": [
    "best_params = gbc_grid_cv.best_params_\n",
    "best_params"
   ]
  },
  {
   "cell_type": "code",
   "execution_count": 228,
   "metadata": {
    "collapsed": false
   },
   "outputs": [
    {
     "data": {
      "text/plain": [
       "0.79452500000000004"
      ]
     },
     "execution_count": 228,
     "metadata": {},
     "output_type": "execute_result"
    }
   ],
   "source": [
    "gbc_grid_cv.best_score_"
   ]
  },
  {
   "cell_type": "code",
   "execution_count": 248,
   "metadata": {
    "collapsed": false
   },
   "outputs": [
    {
     "data": {
      "text/plain": [
       "0.76129471245047731"
      ]
     },
     "execution_count": 248,
     "metadata": {},
     "output_type": "execute_result"
    }
   ],
   "source": [
    "skm.roc_auc_score(y_test, best_model.predict(X_test))"
   ]
  },
  {
   "cell_type": "code",
   "execution_count": 230,
   "metadata": {
    "collapsed": false
   },
   "outputs": [],
   "source": [
    "def plot_importance(clf, X, max_features=10):\n",
    "    '''Plot feature importance'''\n",
    "    feature_importance = clf.feature_importances_\n",
    "    # make importances relative to max importance\n",
    "    feature_importance = 100.0 * (feature_importance / feature_importance.max())\n",
    "    sorted_idx = np.argsort(feature_importance)\n",
    "    pos = np.arange(sorted_idx.shape[0]) + .5\n",
    "    \n",
    "    # Show only top features\n",
    "    pos = pos[-max_features:]\n",
    "    feature_importance = (feature_importance[sorted_idx])[-max_features:]\n",
    "    feature_names = (X.columns[sorted_idx])[-max_features:]\n",
    "    \n",
    "    plt.barh(pos, feature_importance, align='center')\n",
    "    plt.yticks(pos, feature_names)\n",
    "    plt.xlabel('Relative Importance')\n",
    "    plt.title('Variable Importance')"
   ]
  },
  {
   "cell_type": "code",
   "execution_count": 231,
   "metadata": {
    "collapsed": false
   },
   "outputs": [
    {
     "data": {
      "image/png": "[encoded data removed]",
      "text/plain": [
       "<matplotlib.figure.Figure at 0x110736210>"
      ]
     },
     "metadata": {},
     "output_type": "display_data"
    }
   ],
   "source": [
    "plot_importance(best_model, X_train, max_features=16)"
   ]
  },
  {
   "cell_type": "markdown",
   "metadata": {},
   "source": [
    "Note which features are the most important: `avg_dist`, `weekday_pct`, `surge_pct`, and `trips_in_first_30_days`.  These features are much more important than other features.  Also, dropping missing ratings would be a mistake, because the missing bin for `avg_rating_of_driver` is the third most important rating bin."
   ]
  },
  {
   "cell_type": "code",
   "execution_count": 232,
   "metadata": {
    "collapsed": false
   },
   "outputs": [],
   "source": [
    "def plot_loss(clf, params):\n",
    "    '''Plot training deviance.  Stolen from sklearn documentation'''    \n",
    "    # compute test set deviance\n",
    "    test_score = np.zeros((params['n_estimators'],), dtype=np.float64)\n",
    "\n",
    "    for i, y_pred in enumerate(clf.staged_decision_function(X_test)):\n",
    "        test_score[i] = clf.loss_(y_test, y_pred)\n",
    "\n",
    "    plt.title('Deviance')\n",
    "    plt.plot(np.arange(params['n_estimators']) + 1, clf.train_score_, 'b-',\n",
    "             label='Training Set Deviance')\n",
    "    plt.plot(np.arange(params['n_estimators']) + 1, test_score, 'r-',\n",
    "             label='Test Set Deviance')\n",
    "    plt.legend(loc='upper right')\n",
    "    plt.xlabel('Boosting Iterations')\n",
    "    plt.ylabel(clf.loss)"
   ]
  },
  {
   "cell_type": "code",
   "execution_count": 233,
   "metadata": {
    "collapsed": false
   },
   "outputs": [
    {
     "data": {
      "image/png": "[encoded data removed]",
      "text/plain": [
       "<matplotlib.figure.Figure at 0x10e25ca90>"
      ]
     },
     "metadata": {},
     "output_type": "display_data"
    }
   ],
   "source": [
    "plot_loss(best_model, best_params)"
   ]
  },
  {
   "cell_type": "code",
   "execution_count": 234,
   "metadata": {
    "collapsed": false
   },
   "outputs": [
    {
     "name": "stdout",
     "output_type": "stream",
     "text": [
      "[[5535  811]\n",
      " [1201 2453]]\n"
     ]
    },
    {
     "data": {
      "image/png": "[encoded data removed]",
      "text/plain": [
       "<matplotlib.figure.Figure at 0x11175a690>"
      ]
     },
     "metadata": {},
     "output_type": "display_data"
    }
   ],
   "source": [
    "plot_confusion_matrix(best_model, X_test, y_test)"
   ]
  },
  {
   "cell_type": "markdown",
   "metadata": {},
   "source": [
    "Given enough time, it could be useful to check partial dependence plots, especially to understand feature interactions.  In addition, we could further refine feature engineering, such as binning."
   ]
  },
  {
   "cell_type": "markdown",
   "metadata": {},
   "source": [
    "In conclusion, we might want to further tune `learning_rate`, `n_estimators`, `max_depth`, and `min_samples_leaf` because their optimal values are on the edge of the grid."
   ]
  },
  {
   "cell_type": "markdown",
   "metadata": {
    "collapsed": true
   },
   "source": [
    "### Refine random forest model via grid search"
   ]
  },
  {
   "cell_type": "code",
   "execution_count": 235,
   "metadata": {
    "collapsed": true
   },
   "outputs": [],
   "source": [
    "rf_grid = {\n",
    "    'max_depth': [4, 8, None],\n",
    "    'max_features': ['sqrt', 'log2', None],\n",
    "    'min_samples_split': [1, 2, 4],\n",
    "    'min_samples_leaf': [1, 2, 4],\n",
    "    'bootstrap': [True], # Mandatory with oob_score=True\n",
    "    'n_estimators': [50, 100, 200, 400],\n",
    "    'random_state': [67],\n",
    "    'oob_score': [True],\n",
    "    'n_jobs': [-1]\n",
    "    }\n"
   ]
  },
  {
   "cell_type": "code",
   "execution_count": 236,
   "metadata": {
    "collapsed": true
   },
   "outputs": [],
   "source": [
    "rf_grid_cv = GridSearchCV(RandomForestClassifier(),\n",
    "                             rf_grid,\n",
    "                             n_jobs=-1,\n",
    "                             verbose=True,\n",
    "                             scoring='roc_auc')"
   ]
  },
  {
   "cell_type": "code",
   "execution_count": 237,
   "metadata": {
    "collapsed": false
   },
   "outputs": [
    {
     "name": "stdout",
     "output_type": "stream",
     "text": [
      "Fitting 3 folds for each of 324 candidates, totalling 972 fits\n"
     ]
    },
    {
     "name": "stderr",
     "output_type": "stream",
     "text": [
      "[Parallel(n_jobs=-1)]: Done   1 jobs       | elapsed:    2.0s\n",
      "[Parallel(n_jobs=-1)]: Done  50 jobs       | elapsed:  1.2min\n",
      "[Parallel(n_jobs=-1)]: Done 200 jobs       | elapsed:  5.0min\n",
      "[Parallel(n_jobs=-1)]: Done 450 jobs       | elapsed: 16.2min\n",
      "[Parallel(n_jobs=-1)]: Done 800 jobs       | elapsed: 39.1min\n",
      "[Parallel(n_jobs=-1)]: Done 972 out of 972 | elapsed: 58.0min finished\n"
     ]
    },
    {
     "data": {
      "text/plain": [
       "GridSearchCV(cv=None, error_score='raise',\n",
       "       estimator=RandomForestClassifier(bootstrap=True, class_weight=None, criterion='gini',\n",
       "            max_depth=None, max_features='auto', max_leaf_nodes=None,\n",
       "            min_samples_leaf=1, min_samples_split=2,\n",
       "            min_weight_fraction_leaf=0.0, n_estimators=10, n_jobs=1,\n",
       "            oob_score=False, random_state=None, verbose=0,\n",
       "            warm_start=False),\n",
       "       fit_params={}, iid=True, loss_func=None, n_jobs=-1,\n",
       "       param_grid={'n_estimators': [50, 100, 200, 400], 'min_samples_split': [1, 2, 4], 'oob_score': [True], 'random_state': [67], 'n_jobs': [-1], 'max_features': ['sqrt', 'log2', None], 'bootstrap': [True], 'max_depth': [4, 8, None], 'min_samples_leaf': [1, 2, 4]},\n",
       "       pre_dispatch='2*n_jobs', refit=True, score_func=None,\n",
       "       scoring='roc_auc', verbose=True)"
      ]
     },
     "execution_count": 237,
     "metadata": {},
     "output_type": "execute_result"
    }
   ],
   "source": [
    "rf_grid_cv.fit(X_train, y_train)"
   ]
  },
  {
   "cell_type": "code",
   "execution_count": 238,
   "metadata": {
    "collapsed": false
   },
   "outputs": [
    {
     "data": {
      "text/plain": [
       "{'bootstrap': True,\n",
       " 'max_depth': 8,\n",
       " 'max_features': None,\n",
       " 'min_samples_leaf': 2,\n",
       " 'min_samples_split': 1,\n",
       " 'n_estimators': 400,\n",
       " 'n_jobs': -1,\n",
       " 'oob_score': True,\n",
       " 'random_state': 67}"
      ]
     },
     "execution_count": 238,
     "metadata": {},
     "output_type": "execute_result"
    }
   ],
   "source": [
    "rf_grid_cv.best_params_"
   ]
  },
  {
   "cell_type": "code",
   "execution_count": 239,
   "metadata": {
    "collapsed": false
   },
   "outputs": [
    {
     "data": {
      "text/plain": [
       "0.84887449969318751"
      ]
     },
     "execution_count": 239,
     "metadata": {},
     "output_type": "execute_result"
    }
   ],
   "source": [
    "rf_grid_cv.best_score_"
   ]
  },
  {
   "cell_type": "code",
   "execution_count": 240,
   "metadata": {
    "collapsed": true
   },
   "outputs": [],
   "source": [
    "best_model = rf_grid_cv.best_estimator_"
   ]
  },
  {
   "cell_type": "code",
   "execution_count": 241,
   "metadata": {
    "collapsed": false
   },
   "outputs": [
    {
     "data": {
      "text/plain": [
       "0.78422499999999995"
      ]
     },
     "execution_count": 241,
     "metadata": {},
     "output_type": "execute_result"
    }
   ],
   "source": [
    "best_model.oob_score_"
   ]
  },
  {
   "cell_type": "code",
   "execution_count": 242,
   "metadata": {
    "collapsed": false
   },
   "outputs": [
    {
     "data": {
      "text/plain": [
       "0.76129471245047731"
      ]
     },
     "execution_count": 242,
     "metadata": {},
     "output_type": "execute_result"
    }
   ],
   "source": [
    "skm.roc_auc_score(y_test, best_model.predict(X_test))"
   ]
  },
  {
   "cell_type": "code",
   "execution_count": 243,
   "metadata": {
    "collapsed": false
   },
   "outputs": [
    {
     "name": "stdout",
     "output_type": "stream",
     "text": [
      "[[5456  890]\n",
      " [1232 2422]]\n"
     ]
    },
    {
     "data": {
      "image/png": "[encoded data removed]",
      "text/plain": [
       "<matplotlib.figure.Figure at 0x1107b5990>"
      ]
     },
     "metadata": {},
     "output_type": "display_data"
    }
   ],
   "source": [
    "plot_confusion_matrix(best_model, X_test, y_test)"
   ]
  },
  {
   "cell_type": "markdown",
   "metadata": {},
   "source": [
    "AUC and confusion matrix suggest that the gradient boosting model is better than random forest."
   ]
  },
  {
   "cell_type": "code",
   "execution_count": 244,
   "metadata": {
    "collapsed": false
   },
   "outputs": [
    {
     "data": {
      "image/png": "[encoded data removed]",
      "text/plain": [
       "<matplotlib.figure.Figure at 0x110842a90>"
      ]
     },
     "metadata": {},
     "output_type": "display_data"
    }
   ],
   "source": [
    "plot_importance(best_model, X_train, max_features=16)"
   ]
  },
  {
   "cell_type": "code",
   "execution_count": 245,
   "metadata": {
    "collapsed": false
   },
   "outputs": [],
   "source": [
    "m_oob = best_model.oob_decision_function_"
   ]
  },
  {
   "cell_type": "markdown",
   "metadata": {},
   "source": [
    "Check OOB error rate to see that random forest stabilized"
   ]
  },
  {
   "cell_type": "code",
   "execution_count": 246,
   "metadata": {
    "collapsed": false
   },
   "outputs": [
    {
     "name": "stderr",
     "output_type": "stream",
     "text": [
      "/Users/bss/anaconda/lib/python2.7/site-packages/sklearn/ensemble/forest.py:379: UserWarning: Some inputs do not have OOB scores. This probably means too few trees were used to compute any reliable oob estimates.\n",
      "  warn(\"Some inputs do not have OOB scores. \"\n"
     ]
    }
   ],
   "source": [
    "# This code is hacked from sklearn documentation.\n",
    "\n",
    "# Range of `n_estimators` values to explore.\n",
    "min_estimators = 10\n",
    "max_estimators = 400\n",
    "error_rate = []\n",
    "\n",
    "from sklearn.base import clone\n",
    "\n",
    "best_clf = RandomForestClassifier(bootstrap=True,\n",
    "     max_depth=None, max_features='sqrt', min_samples_leaf=4,\n",
    "     min_samples_split=1, n_estimators=400, n_jobs=-1,\n",
    "     oob_score=True, random_state=67)\n",
    "\n",
    "for ix in range(min_estimators, max_estimators + 1, 10):\n",
    "    clf = clone(best_clf)\n",
    "    clf.set_params(n_estimators=ix)\n",
    "    clf.fit(X_train, y_train)\n",
    "\n",
    "    # Record the OOB error for each `n_estimators=ix` setting.\n",
    "    oob_error = 1 - clf.oob_score_\n",
    "    error_rate.append((ix, oob_error))"
   ]
  },
  {
   "cell_type": "code",
   "execution_count": 247,
   "metadata": {
    "collapsed": false
   },
   "outputs": [
    {
     "data": {
      "text/plain": [
       "<matplotlib.text.Text at 0x112f0fd10>"
      ]
     },
     "execution_count": 247,
     "metadata": {},
     "output_type": "execute_result"
    },
    {
     "data": {
      "image/png": "[encoded data removed]",
      "text/plain": [
       "<matplotlib.figure.Figure at 0x117a67310>"
      ]
     },
     "metadata": {},
     "output_type": "display_data"
    }
   ],
   "source": [
    "# Generate the \"OOB error rate\" vs. \"n_estimators\" plot.\n",
    "m_oob = np.array(error_rate)\n",
    "plt.plot(m_oob[:,0], m_oob[:,1])\n",
    "plt.xlim(min_estimators, max_estimators)\n",
    "#plt.ylim(0, m_oob[:,1].max())\n",
    "plt.xlabel(\"n_estimators\")\n",
    "plt.ylabel(\"OOB error rate\")"
   ]
  },
  {
   "cell_type": "markdown",
   "metadata": {},
   "source": [
    "Looks like OOB error rate has stabilizd around 250 or so estimators."
   ]
  },
  {
   "cell_type": "code",
   "execution_count": null,
   "metadata": {
    "collapsed": true
   },
   "outputs": [],
   "source": []
  },
  {
   "cell_type": "code",
   "execution_count": null,
   "metadata": {
    "collapsed": true
   },
   "outputs": [],
   "source": []
  },
  {
   "cell_type": "markdown",
   "metadata": {},
   "source": [
    "### Profit curves\n",
    "\n",
    "Should refine using data about costs of misclassification.  Should talk to product manager to get relevant economic costs and benefits for retention."
   ]
  },
  {
   "cell_type": "markdown",
   "metadata": {},
   "source": [
    "# Report: conclusions & recommendations\n",
    "\n",
    "Now, present results and recommendations."
   ]
  },
  {
   "cell_type": "markdown",
   "metadata": {
    "collapsed": true
   },
   "source": [
    "Analysis should focus on the *marginal consumer* (the one indifferent between using the service and not) because these are the consumers we can most easily affect with incentives."
   ]
  },
  {
   "cell_type": "code",
   "execution_count": null,
   "metadata": {
    "collapsed": true
   },
   "outputs": [],
   "source": []
  }
 ],
 "metadata": {
  "kernelspec": {
   "display_name": "Python 2",
   "language": "python",
   "name": "python2"
  },
  "language_info": {
   "codemirror_mode": {
    "name": "ipython",
    "version": 2
   },
   "file_extension": ".py",
   "mimetype": "text/x-python",
   "name": "python",
   "nbconvert_exporter": "python",
   "pygments_lexer": "ipython2",
   "version": "2.7.10"
  }
 },
 "nbformat": 4,
 "nbformat_minor": 0
}
