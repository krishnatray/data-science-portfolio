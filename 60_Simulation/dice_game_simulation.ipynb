{
 "cells": [
  {
   "cell_type": "code",
   "execution_count": null,
   "metadata": {},
   "outputs": [],
   "source": [
    "%%writefile dice_simulation_game.py\n",
    "#################################\n",
    "# Program:    dice_simulation_game.py\n",
    "# Author:     Sushil Sharma\n",
    "# description: simulate a game of rolling two dice\n",
    "#\n",
    "# \n",
    "\n",
    "import sys\n",
    "import random\n",
    "def dice_game(num_trials=100):\n",
    "    tot_win = 0\n",
    "    tot_loss = 0\n",
    "    win_amount  = 25\n",
    "    loss_amount = 5\n",
    "    print(\"Total Number of simulations: \", num_trials )\n",
    "    print(\"Simulating two fair dice game...\")\n",
    "    print(f\"Rules: Win=sum equal 7 loss_amount: {loss_amount} win_amount:{win_amount}\")\n",
    "    print(\"Expected value \", ((6/36) * win_amount - (30/36) * loss_amount) )\n",
    "   \n",
    "    for i in range(num_trials):\n",
    "        #print(\"\\b\",i,)\n",
    "        dice1 = random.randint(1,6)\n",
    "        dice2 = random.randint(1,6)\n",
    "        #print(dice1, dice2)\n",
    "        if dice1 + dice2 == 7:\n",
    "            tot_win += 1\n",
    "        else:\n",
    "            tot_loss += 1\n",
    "    proba_winning = tot_win / (tot_win + tot_loss)\n",
    "    game_result =  (tot_win * win_amount) - (tot_loss * loss_amount)\n",
    "    print(f\"Wins: {tot_win} Losses: {tot_loss} Result Amount: ${game_result}\"  )\n",
    "    print(\"Probability of winning:\", proba_winning)\n",
    "    return(game_result)   \n",
    "\n",
    "if __name__ == \"__main__\":\n",
    "    trials = 100000\n",
    "    dice_game(trials)\n",
    "#\n",
    "# End: dice_simulation_game.py\n",
    "#################################"
   ]
  },
  {
   "cell_type": "code",
   "execution_count": 4,
   "metadata": {},
   "outputs": [
    {
     "name": "stdout",
     "output_type": "stream",
     "text": [
      "Total Number of simulations:  100000\n",
      "Simulating two fair dice game...\n",
      "Rules: Win=sum equal 7 loss_amount: 5 win_amount:25\n",
      "Expected value  -8.881784197001252e-16\n",
      "Wins: 16563 Losses: 83437 Result Amount: $-3110\n",
      "Probability of winning: 0.16563\n"
     ]
    },
    {
     "data": {
      "text/plain": [
       "-3110"
      ]
     },
     "execution_count": 4,
     "metadata": {},
     "output_type": "execute_result"
    }
   ],
   "source": [
    "from dice_simulation_game import dice_game\n",
    "dice_game(100000)"
   ]
  },
  {
   "cell_type": "code",
   "execution_count": null,
   "metadata": {},
   "outputs": [],
   "source": []
  }
 ],
 "metadata": {
  "kernelspec": {
   "display_name": "Python 3",
   "language": "python",
   "name": "python3"
  },
  "language_info": {
   "codemirror_mode": {
    "name": "ipython",
    "version": 3
   },
   "file_extension": ".py",
   "mimetype": "text/x-python",
   "name": "python",
   "nbconvert_exporter": "python",
   "pygments_lexer": "ipython3",
   "version": "3.6.4"
  }
 },
 "nbformat": 4,
 "nbformat_minor": 2
}
