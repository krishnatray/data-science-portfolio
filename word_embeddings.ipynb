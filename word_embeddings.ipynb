{
 "cells": [
  {
   "cell_type": "markdown",
   "metadata": {},
   "source": [
    "# Word Embeddings\n",
    "\n",
    "Word embeddings are vector generating techniques from text.\n",
    "\n",
    "## Word2vec: \n",
    "Google's framework to train word embeddings. It uses all the words in a corpus to predicting narby words. There are two types:\n",
    "\n",
    "1. Skip Grams\n",
    "predict the probabilities of a word given the context of word or words.\n",
    "\n",
    "2. Continuous Bag of Words (CBoW)\n",
    "\n"
   ]
  },
  {
   "cell_type": "code",
   "execution_count": 7,
   "metadata": {},
   "outputs": [],
   "source": [
    "sentences = [['I', 'love', 'nlp'],\n",
    "                  ['I', 'will', 'learn', 'nlp', 'in', '2','months'],\n",
    "                  ['nlp', 'is', 'future'],\n",
    "                  ['nlp', 'saves', 'time', 'and', 'solves','lot',\n",
    "                   'of', 'industry', 'problems'],\n",
    "                  ['nlp', 'uses', 'machine', 'learning']]"
   ]
  },
  {
   "cell_type": "code",
   "execution_count": 9,
   "metadata": {},
   "outputs": [
    {
     "data": {
      "text/plain": [
       "[['I', 'love', 'nlp'], ['I', 'will', 'learn', 'nlp', 'in', '2', 'months']]"
      ]
     },
     "execution_count": 9,
     "metadata": {},
     "output_type": "execute_result"
    }
   ],
   "source": [
    "sentences[:2]"
   ]
  },
  {
   "cell_type": "code",
   "execution_count": 10,
   "metadata": {},
   "outputs": [],
   "source": [
    "#!pip install gensim\n",
    "import gensim\n",
    "from gensim.models import Word2Vec\n",
    "from sklearn.decomposition import PCA\n",
    "from matplotlib import pyplot"
   ]
  },
  {
   "cell_type": "code",
   "execution_count": 11,
   "metadata": {},
   "outputs": [
    {
     "name": "stdout",
     "output_type": "stream",
     "text": [
      "Word2Vec(vocab=21, size=50, alpha=0.025)\n",
      "[-0.00643934 -0.00275135  0.0058854   0.0056121  -0.005865   -0.00674737\n",
      "  0.00635513  0.00559893 -0.00742416 -0.00245668 -0.00385797 -0.00907853\n",
      " -0.00352373 -0.00049328  0.00922769  0.00705653  0.00930254 -0.00452186\n",
      " -0.00183919  0.00164825 -0.00749792 -0.00934361  0.00463586 -0.00828358\n",
      "  0.00728654  0.00485502  0.00737902 -0.00058594  0.00860407 -0.00780729\n",
      " -0.00601696  0.00135827 -0.0082927  -0.00724523  0.00358871  0.00509219\n",
      " -0.00234677  0.00427071  0.00462534 -0.00096307 -0.00326444 -0.00359961\n",
      "  0.00647979  0.00766388 -0.00335207  0.00847467  0.00851938 -0.0085306\n",
      "  0.00743326  0.00742231]\n"
     ]
    },
    {
     "name": "stderr",
     "output_type": "stream",
     "text": [
      "/home/sushil/anaconda3/lib/python3.6/site-packages/ipykernel_launcher.py:5: DeprecationWarning: Call to deprecated `__getitem__` (Method will be removed in 4.0.0, use self.wv.__getitem__() instead).\n",
      "  \"\"\"\n"
     ]
    }
   ],
   "source": [
    "# training the model\n",
    "skipgram = Word2Vec(sentences, size =50, window = 3, min_count=1,sg = 1)\n",
    "print(skipgram)\n",
    "# access vector for one word\n",
    "print(skipgram['nlp'])"
   ]
  },
  {
   "cell_type": "code",
   "execution_count": 14,
   "metadata": {},
   "outputs": [],
   "source": [
    "# access vector for another one word\n",
    "#print(skipgram['deep'])"
   ]
  },
  {
   "cell_type": "code",
   "execution_count": 15,
   "metadata": {},
   "outputs": [],
   "source": [
    "# save model\n",
    "skipgram.save('skipgram.bin')\n",
    "# load model\n",
    "skipgram = Word2Vec.load('skipgram.bin')"
   ]
  },
  {
   "cell_type": "code",
   "execution_count": 16,
   "metadata": {},
   "outputs": [
    {
     "name": "stderr",
     "output_type": "stream",
     "text": [
      "/home/sushil/anaconda3/lib/python3.6/site-packages/ipykernel_launcher.py:2: DeprecationWarning: Call to deprecated `__getitem__` (Method will be removed in 4.0.0, use self.wv.__getitem__() instead).\n",
      "  \n"
     ]
    }
   ],
   "source": [
    "# T – SNE plot\n",
    "X = skipgram[skipgram.wv.vocab]\n",
    "pca = PCA(n_components=2)\n",
    "result = pca.fit_transform(X)"
   ]
  },
  {
   "cell_type": "code",
   "execution_count": 17,
   "metadata": {},
   "outputs": [
    {
     "data": {
      "image/png": "[encoded data removed]",
      "text/plain": [
       "<Figure size 432x288 with 1 Axes>"
      ]
     },
     "metadata": {},
     "output_type": "display_data"
    }
   ],
   "source": [
    "pyplot.scatter(result[:, 0], result[:, 1])\n",
    "words = list(skipgram.wv.vocab)\n",
    "for i, word in enumerate(words):\n",
    "       pyplot.annotate(word, xy=(result[i, 0], result[i, 1]))\n",
    "pyplot.show()"
   ]
  },
  {
   "cell_type": "markdown",
   "metadata": {},
   "source": [
    "# CBoW"
   ]
  },
  {
   "cell_type": "code",
   "execution_count": 19,
   "metadata": {},
   "outputs": [
    {
     "name": "stdout",
     "output_type": "stream",
     "text": [
      "Word2Vec(vocab=21, size=50, alpha=0.025)\n",
      "[-0.00643934 -0.00275135  0.0058854   0.0056121  -0.005865   -0.00674737\n",
      "  0.00635513  0.00559893 -0.00742416 -0.00245668 -0.00385797 -0.00907853\n",
      " -0.00352373 -0.00049328  0.00922769  0.00705653  0.00930254 -0.00452186\n",
      " -0.00183919  0.00164825 -0.00749792 -0.00934361  0.00463586 -0.00828358\n",
      "  0.00728654  0.00485502  0.00737902 -0.00058594  0.00860407 -0.00780729\n",
      " -0.00601696  0.00135827 -0.0082927  -0.00724523  0.00358871  0.00509219\n",
      " -0.00234677  0.00427071  0.00462534 -0.00096307 -0.00326444 -0.00359961\n",
      "  0.00647979  0.00766388 -0.00335207  0.00847467  0.00851938 -0.0085306\n",
      "  0.00743326  0.00742231]\n"
     ]
    },
    {
     "name": "stderr",
     "output_type": "stream",
     "text": [
      "/home/sushil/anaconda3/lib/python3.6/site-packages/ipykernel_launcher.py:4: DeprecationWarning: Call to deprecated `__getitem__` (Method will be removed in 4.0.0, use self.wv.__getitem__() instead).\n",
      "  after removing the cwd from sys.path.\n",
      "/home/sushil/anaconda3/lib/python3.6/site-packages/ipykernel_launcher.py:10: DeprecationWarning: Call to deprecated `__getitem__` (Method will be removed in 4.0.0, use self.wv.__getitem__() instead).\n",
      "  # Remove the CWD from sys.path while we load stuff.\n"
     ]
    },
    {
     "data": {
      "image/png": "[encoded data removed]",
      "text/plain": [
       "<Figure size 432x288 with 1 Axes>"
      ]
     },
     "metadata": {},
     "output_type": "display_data"
    }
   ],
   "source": [
    "cbow = Word2Vec(sentences, size =50, window = 3, min_count=1,sg = 1)\n",
    "print(cbow)\n",
    "# access vector for one word\n",
    "print(cbow['nlp'])\n",
    "# save model\n",
    "cbow.save('cbow.bin')\n",
    "# load model\n",
    "cbow = Word2Vec.load('cbow.bin')\n",
    "# T – SNE plot\n",
    "X = cbow[cbow.wv.vocab]\n",
    "pca = PCA(n_components=2)\n",
    "result = pca.fit_transform(X)\n",
    "# create a scatter plot of the projection\n",
    "pyplot.scatter(result[:, 0], result[:, 1])\n",
    "words = list(cbow.wv.vocab)\n",
    "for i, word in enumerate(words):\n",
    "       pyplot.annotate(word, xy=(result[i, 0], result[i, 1]))\n",
    "pyplot.show()"
   ]
  },
  {
   "cell_type": "code",
   "execution_count": null,
   "metadata": {},
   "outputs": [],
   "source": []
  }
 ],
 "metadata": {
  "kernelspec": {
   "display_name": "Python 3",
   "language": "python",
   "name": "python3"
  },
  "language_info": {
   "codemirror_mode": {
    "name": "ipython",
    "version": 3
   },
   "file_extension": ".py",
   "mimetype": "text/x-python",
   "name": "python",
   "nbconvert_exporter": "python",
   "pygments_lexer": "ipython3",
   "version": "3.6.8"
  }
 },
 "nbformat": 4,
 "nbformat_minor": 2
}
